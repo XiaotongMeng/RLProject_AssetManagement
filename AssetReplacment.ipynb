{
 "cells": [
  {
   "cell_type": "markdown",
   "metadata": {
    "id": "zXkFNLxj7vm9"
   },
   "source": [
    "# **Project: Asset Replacement with Maintenance**\n",
    "\n"
   ]
  },
  {
   "cell_type": "markdown",
   "metadata": {
    "id": "P3yPdi4A-Hqg"
   },
   "source": [
    "   At the beginning of each year, a manufacturer must decide wheter to continue to operate an aging physical asset or replace it with a new one. If he keep the current asset, he must decide whether to perform annual service maintenance to prevent the asset from failing. An asset that is $s$ years old yields a profit contribution $p(s)$ up to $n=5$ years, at which point the asset becomes unsafe and must be replaced by law. An asset that is $s$ years old and has been maintained $m$ times fails with probability $\\mu(s,m)$ and yields a proft of 0 in that year. The cost of a new asset is $c = 75$ and the cost of of servicing an asset is $k=10$.\n",
    "\n",
    "  What replacement-maintenance policy maximizes profits?"
   ]
  },
  {
   "cell_type": "markdown",
   "metadata": {
    "id": "pJCtVBVv7w2B"
   },
   "source": [
    "## **Model**"
   ]
  },
  {
   "cell_type": "markdown",
   "metadata": {
    "id": "TcSl6EbrFj8g"
   },
   "source": [
    "This is an infinite horizon deterministic model with time $t$ measured\n",
    "in years.\n",
    "\n",
    "The age is a discrete state variable:\n",
    "- $s \\in \\{0, 1, 2, 3, 4, 5\\}$\n",
    "\n",
    "The variable $maint$ is the number of times that the maintenance of asset is failed:\n",
    "- $m \\in \\{0, 1, 2, 3, 4 \\}$\n",
    "\n",
    "\n",
    "The action variable $a$ is the keep-replacement-maintenance decision:\n",
    "- $a =  \\begin{cases}\n",
    "  0,  & \\text{ keep the asset, perform no maintenance}\\\\\n",
    "  1,  & \\text{ keep the asset, perform the maintenace}\\\\\n",
    "  2,  & \\text{ replace the asset}\n",
    "  \\end{cases}$\n",
    "\n",
    "\n",
    "\n",
    "\n",
    "The state transition function is:\n",
    "- $t(s, a) = \\begin{cases}\n",
    "  s+1,  & a = \\text{ keep}\\\\\n",
    "  1, & a = \\text{ replace}\n",
    "  \\end{cases}$\n",
    "  \n",
    "The maintenance transition function is:\n",
    " - $t(m, a, s) = \\begin{cases}\n",
    "  m,  & a = 0 ,  \\text{keep the asset but perform no maintenance}\\\\\n",
    "  m,  & a = 1,   \\text{keep the asset, perform the maintenac, which succeeds with the probability of}  1- \\mu(s,m) \\\\\n",
    "  m+1,  & a = 1,  \\text{keep the asset, perform the maintenace, which fails with the probability of} \\mu(s,m) \\\\\n",
    "  0, & a =2,  \\text{ replace the asset}\n",
    "  \\end{cases}$\n",
    "  \n",
    " \n",
    "The reward function is:\n",
    "- $r(s, a, s, m) = \\begin{cases}\n",
    "  p(s) , & a = 0 ,  \\text{keep the asset but perform no maintenance}\\\\\n",
    "  p(s) - k, &  a = 1,   \\text{keep the asset, perform the maintenace, which succeeds with the probability of}  1- \\mu(s,m)\\\\\n",
    "  0 - k & a = 1,  \\text{keep the asset, perform the maintenace, which fails with the probability of} \\mu(s,m) \\\\\n",
    "  p(0)- c, & a =2,  \\text{ replace the asset}\n",
    "\\end{cases}$\n",
    "\n",
    "where $p(s) = 50 - 2.5\\cdot s - 2.5\\cdot s^2$. "
   ]
  },
  {
   "cell_type": "markdown",
   "metadata": {
    "id": "dlcKDHVmHJX-"
   },
   "source": [
    "# **Environment**"
   ]
  },
  {
   "cell_type": "code",
   "execution_count": 1,
   "metadata": {
    "id": "2KryPHJRHMnk"
   },
   "outputs": [],
   "source": [
    "import gym\n",
    "from gym import spaces\n",
    "\n",
    "import numpy as np\n",
    "from numpy.random import default_rng\n",
    "\n",
    "from collections import defaultdict\n",
    "\n",
    "import matplotlib.pyplot as plt\n",
    "from matplotlib import style\n",
    "style.use('ggplot')"
   ]
  },
  {
   "cell_type": "code",
   "execution_count": 653,
   "metadata": {
    "id": "r-jtG7AaI6VI"
   },
   "outputs": [],
   "source": [
    "class AssetReplacementEnv(gym.Env):\n",
    "    \"\"\"Custom Environment that follows gym interface\"\"\"\n",
    "    metadata = {'render.modes': ['human']}\n",
    "\n",
    "    def __init__(self):\n",
    "        super(AssetReplacementEnv, self).__init__()\n",
    "\n",
    "        n_actions = 3\n",
    "        self.action_space = spaces.Discrete(n_actions)\n",
    "\n",
    "        # With spaces.Tuple you can create a multidimensional state\n",
    "        # In our simple model observation and state are synonyms\n",
    "        self.n_states = 6\n",
    "        self.observation_space = spaces.Discrete(self.n_states)\n",
    "\n",
    "        self.n_maint = 5\n",
    "        self.maint_space = spaces.Discrete(self.n_maint)\n",
    "        \n",
    "        self.service = 10\n",
    "        self.cost = 75\n",
    "        self.rng = default_rng()\n",
    "        \n",
    "        \n",
    "    def step(self, action):\n",
    "        \"\"\"\n",
    "        State transition of the model.\n",
    "\n",
    "        \"\"\"\n",
    "        assert self.action_space.contains(action), \"%r (%s) invalid\" % (action, type(action))\n",
    "#%%%%%\n",
    "        mu = (self.state - self.maint) / 5\n",
    "    \n",
    "        # calculate the reward and the state transition\n",
    "        if action == 2:                                    \n",
    "            reward = self.profit(0) - self.cost         # replace\n",
    "            self.state = 1 \n",
    "            self.maint = 0\n",
    "        \n",
    "        elif action == 1:\n",
    "           \n",
    "            if self.rng.random() < mu:      # maintenance fail\n",
    "                reward = 0 - self.service\n",
    "                self.maint += 1\n",
    "                self.state += 1 \n",
    "            else:    \n",
    "                reward = self.profit(self.state) - self.service  #maintenace success\n",
    "                self.state += 1 \n",
    "\n",
    "        else:\n",
    "            reward = self.profit(self.state)          # no maintenance\n",
    "            self.state += 1 \n",
    "            \n",
    "    #%%%%%     \n",
    "\n",
    "\n",
    "        # This is a continuing task, so done is always false\n",
    "        done = False\n",
    "\n",
    "        info = {}\n",
    "       #print(\"m:\" + str(self.maint))\n",
    "        return self.state, self.maint, reward, done, info\n",
    "\n",
    "\n",
    "    def profit(self, state):\n",
    "        return 50 - 2.5*state - 2.5*state**2\n",
    "        \n",
    "\n",
    "    def reset(self):\n",
    "        # set initial state (age of machine) to 0\n",
    "        self.state = 0\n",
    "        self.maint = 0            \n",
    " #%%%%5\n",
    "        return self.state, self.maint\n",
    "   \n",
    "    def sumprofit(self, state_path, maint_path, action_path, timesteps):\n",
    "        sumprofit = 0\n",
    "    \n",
    "        for i in range(timesteps):\n",
    "            # calculate the reward and the state transition\n",
    "            reward = 0\n",
    "            if action_path[i] == 2:                                    \n",
    "                reward = self.profit(0) - self.cost         # replace\n",
    "\n",
    "            elif action_path[i] == 1:\n",
    "                if i > 0:\n",
    "                    if  maint_path[i] - maint_path[i-1] > 0:     # maintenance failed in that simulation\n",
    "                        reward = 0 - self.service\n",
    "                    else:    \n",
    "                        reward = self.profit(state_path[i]) - self.service  #maintenace success\n",
    "            else:\n",
    "                reward = self.profit(self.state)          # no maintenance\n",
    "            \n",
    "            #print('profit year -' + str(i) + ':'+ str(reward))\n",
    "            sumprofit+= reward\n",
    "       \n",
    "        return sumprofit  \n",
    "                \n",
    "\n",
    "\n",
    "    # We will not implement render and close function\n",
    "    def render(self, mode='human'):\n",
    "        pass\n",
    "    def close (self):\n",
    "        pass"
   ]
  },
  {
   "cell_type": "markdown",
   "metadata": {
    "id": "48EsxbJYuNvd"
   },
   "source": [
    "# **Dynamic Programming**"
   ]
  },
  {
   "cell_type": "code",
   "execution_count": 4,
   "metadata": {},
   "outputs": [
    {
     "ename": "NameError",
     "evalue": "name 'agent' is not defined",
     "output_type": "error",
     "traceback": [
      "\u001b[1;31m---------------------------------------------------------------------------\u001b[0m",
      "\u001b[1;31mNameError\u001b[0m                                 Traceback (most recent call last)",
      "\u001b[1;32m<ipython-input-4-0ef7bb383718>\u001b[0m in \u001b[0;36m<module>\u001b[1;34m\u001b[0m\n\u001b[0;32m      6\u001b[0m \u001b[1;33m\u001b[0m\u001b[0m\n\u001b[0;32m      7\u001b[0m \u001b[0mstate\u001b[0m\u001b[1;33m,\u001b[0m \u001b[0mmaint\u001b[0m \u001b[1;33m=\u001b[0m \u001b[0menv\u001b[0m\u001b[1;33m.\u001b[0m\u001b[0mreset\u001b[0m\u001b[1;33m(\u001b[0m\u001b[1;33m)\u001b[0m\u001b[1;33m\u001b[0m\u001b[1;33m\u001b[0m\u001b[0m\n\u001b[1;32m----> 8\u001b[1;33m \u001b[0maction\u001b[0m \u001b[1;33m=\u001b[0m \u001b[0magent\u001b[0m\u001b[1;33m.\u001b[0m\u001b[0mstart\u001b[0m\u001b[1;33m(\u001b[0m\u001b[0mstate\u001b[0m\u001b[1;33m,\u001b[0m \u001b[0mmaint\u001b[0m\u001b[1;33m)\u001b[0m\u001b[1;33m\u001b[0m\u001b[1;33m\u001b[0m\u001b[0m\n\u001b[0m\u001b[0;32m      9\u001b[0m \u001b[1;33m\u001b[0m\u001b[0m\n\u001b[0;32m     10\u001b[0m \u001b[0mstate_path\u001b[0m \u001b[1;33m=\u001b[0m \u001b[1;33m[\u001b[0m\u001b[0mstate\u001b[0m\u001b[1;33m]\u001b[0m\u001b[1;33m\u001b[0m\u001b[1;33m\u001b[0m\u001b[0m\n",
      "\u001b[1;31mNameError\u001b[0m: name 'agent' is not defined"
     ]
    }
   ],
   "source": [
    "env = AssetReplacementEnv()\n",
    "\n",
    "n_actions = env.action_space.n\n",
    "epsilon = 0.05\n",
    "discount = 0.9\n",
    "\n",
    "state, maint = env.reset()\n",
    "action = agent.start(state, maint)\n",
    "\n",
    "state_path = [state]\n",
    "maint_path = [maint]\n",
    "action_path = [action]\n",
    "\n",
    "\n",
    "for t in range(timesteps):\n",
    "    state, maint, reward, _, _ = env.step(action)\n",
    "    \n",
    "    state_path.append(state)\n",
    "    maint_path.append(maint)\n",
    "    action_path.append(action)"
   ]
  },
  {
   "cell_type": "markdown",
   "metadata": {},
   "source": [
    "## **Policy Evaluation**"
   ]
  },
  {
   "cell_type": "code",
   "execution_count": 5,
   "metadata": {},
   "outputs": [
    {
     "ename": "IndentationError",
     "evalue": "unexpected indent (<ipython-input-5-94accbcf195f>, line 22)",
     "output_type": "error",
     "traceback": [
      "\u001b[1;36m  File \u001b[1;32m\"<ipython-input-5-94accbcf195f>\"\u001b[1;36m, line \u001b[1;32m22\u001b[0m\n\u001b[1;33m    for i in range(max_iter):\u001b[0m\n\u001b[1;37m    ^\u001b[0m\n\u001b[1;31mIndentationError\u001b[0m\u001b[1;31m:\u001b[0m unexpected indent\n"
     ]
    }
   ],
   "source": [
    "def evaluate_policy(env, V, action, gamma, eps=1e-8, max_iter=1000):\n",
    "    \"\"\"Implements the policy evaluation algorithm\n",
    "    \n",
    "    Calculates the corresponding value function of a policy\n",
    "\n",
    "    Args:\n",
    "        env (class): AssetManagement Environment\n",
    "        V (numpy.ndarray): A shape-(num_states,) array, contains the value for\n",
    "            every state\n",
    "        policy (numpy.ndarray): A shape-(num_states,) array, defines the action\n",
    "            for every state\n",
    "        gamma (float): Discount factor\n",
    "        eps (float): Error tolerance for stopping the iteration\n",
    "        max_iter (int): Maximum number of iteration if process doesn't converge\n",
    "\n",
    "    Returns:\n",
    "        V (numpy.ndarray): A shape-(num_states,) array, contains the value for\n",
    "            every state\n",
    "    \n",
    "    \"\"\"\n",
    "\n",
    "     for i in range(max_iter):\n",
    "        # save value function to check for convergence later\n",
    "        V_old = V.copy()\n",
    "\n",
    "        # one iteration step for all states\n",
    "        states = np.arange(n_states)\n",
    "        maint = mp.arrange(n_maint)\n",
    "        V = env.step(action)+ gamma * V[states - policy]\n",
    "        ### END OF YOUR CODE ###\n",
    "\n",
    "        # check for convergence\n",
    "        delta = np.linalg.norm(V-V_old)\n",
    "        if delta < eps:\n",
    "            break\n",
    "    \n",
    "    return V   \n"
   ]
  },
  {
   "cell_type": "code",
   "execution_count": null,
   "metadata": {},
   "outputs": [],
   "source": [
    "\n",
    "\n",
    "\n",
    "\n",
    "# create environment and reset it\n",
    "env = MineManagementEnv()\n",
    "env.reset()\n",
    "\n",
    "\n",
    "   \n",
    "\n",
    "# init value function\n",
    "V = defaultdict(lambda: np.zeros(self.n_actions))\n",
    "# define policy to evaluate, i.e.always keep the asset without maintenance until it reach state year 3 and replace it\n",
    "\n",
    "for states in range(n_state)\n",
    "\n",
    "\n",
    "\n",
    "# discount factor\n",
    "gamma = 0.9\n",
    "\n",
    "# evaluate policy\n",
    "V = evaluate_policy(env, V, policy, gamma)\n"
   ]
  },
  {
   "cell_type": "markdown",
   "metadata": {
    "id": "48EsxbJYuNvd"
   },
   "source": [
    "# **Sarsa Agent**"
   ]
  },
  {
   "cell_type": "code",
   "execution_count": 3,
   "metadata": {
    "id": "xOSSrCuhn7AD"
   },
   "outputs": [],
   "source": [
    "class SarsaAgent():\n",
    "    def __init__(self, agent_info):\n",
    "        \"\"\"Initialize Agent.\n",
    "\n",
    "        Args: \n",
    "            agent_info (dict): Parameters used to initialize agent.\n",
    "            {\n",
    "                n_actions (int): Number of actions.\n",
    "                epsilon (float): Exploration parameter.\n",
    "                step_size (float): Learning rate alpha.\n",
    "                discount (float): Discount factor gamma.\n",
    "            }\n",
    "        \"\"\"\n",
    "\n",
    "        self.n_actions = agent_info[\"n_actions\"]\n",
    "        self.epsilon = agent_info[\"epsilon\"]\n",
    "        self.step_size = agent_info[\"step_size\"]\n",
    "        self.discount = agent_info[\"discount\"]\n",
    "\n",
    "        \n",
    "        self.rng = default_rng()\n",
    "\n",
    "        # Create a dict for action-value estimates and initialize it to zero.\n",
    "        self.q = defaultdict(lambda: np.zeros(self.n_actions))         \n",
    "       \n",
    "    def step(self, reward, state, maint):\n",
    "        \"\"\"A step taken by the agent\n",
    "\n",
    "        Args:\n",
    "            next_state (int):  next state from the environment\n",
    "            next_maint (int):  next state of maintenance failure from environment \n",
    "        Returns:\n",
    "            next_action (int): action the agent takes in next_state\n",
    "        \"\"\"\n",
    "\n",
    "        # choose action using epsilon greedy policy\n",
    "        action = self.select_action(state, maint)\n",
    "\n",
    "        # perform update\n",
    "        target = reward + self.discount*self.q[state, maint][action]\n",
    "        td_error = target - self.q[self.previous_state,self.previous_maint][self.previous_action]\n",
    "        self.q[self.previous_state,self.previous_maint][self.previous_action] += self.step_size* td_error\n",
    "        \n",
    "\n",
    "        # save current state and action\n",
    "        self.previous_state = state\n",
    "        self.previous_maint = maint\n",
    "        self.previous_action = action\n",
    "\n",
    "        return action\n",
    "\n",
    "        \n",
    "    def select_action(self, state, maint):\n",
    "        \"\"\"Select action using epsilon greedy policy.\n",
    "\n",
    "        Args:\n",
    "            state (int): Current state, i.e. age of asset.\n",
    "\n",
    "        Returns:\n",
    "            action (int): Action the agent takes.\n",
    "        \"\"\"\n",
    "\n",
    "        \n",
    "        # performe epsilon greedy policy improvement\n",
    "        # remember to replace asset if age is 5\n",
    " #%%%%\n",
    "        if state== 5 or maint == 4:                           # two expression are actually equivalent  \n",
    "            return 2\n",
    "        \n",
    "        if  self.rng.random() < self.epsilon:\n",
    "            action = self.rng.choice(n_actions)\n",
    "        else:\n",
    "            action = self.argmax(self.q[state, maint])\n",
    "        return action\n",
    "        \n",
    " \n",
    "    def argmax(self, q_values):\n",
    "        \"\"\"Return the index of maximum value with ties broken randomly.\n",
    "\n",
    "        Args:\n",
    "            q_values (numpy.ndarray): A shape-(n_actions,) array of estimated\n",
    "                action_values.\n",
    "\n",
    "        Returns:\n",
    "            index (int): Index of the maximal value.\n",
    "        \"\"\"\n",
    "        ties = np.flatnonzero(np.isclose(q_values, max(q_values)))\n",
    "        index = self.rng.choice(ties)\n",
    "#         print(ties)\n",
    "#         print(\"argmax index:\" + str(index))\n",
    "        return index\n",
    "\n",
    "\n",
    "    def start(self, state, maint):\n",
    "        \"\"\"Selects action in inital state\n",
    "\n",
    "        Args:\n",
    "            state (int): initial state\n",
    "            maint (int): intial times of maintenance failure\n",
    "        Returns:\n",
    "            action (int): initial action\n",
    "        \"\"\"\n",
    "\n",
    "        action = self.select_action(state, maint)\n",
    "\n",
    "        self.previous_state = state\n",
    "        self.previous_maint = maint\n",
    "        self.previous_action = action\n",
    "\n",
    "        return action\n",
    "    \n",
    "\n",
    "\n"
   ]
  },
  {
   "cell_type": "code",
   "execution_count": 515,
   "metadata": {
    "id": "MfXrCpAbTX5c",
    "scrolled": true
   },
   "outputs": [],
   "source": [
    "env = AssetReplacementEnv()\n",
    "\n",
    "n_actions = env.action_space.n\n",
    "epsilon = 0.5\n",
    "step_size = 0.2\n",
    "discount = 0.9\n",
    "\n",
    "\n",
    "agent_info = {\"n_actions\": n_actions,\n",
    "              \"epsilon\": epsilon,\n",
    "              \"step_size\": step_size,\n",
    "              \"discount\": discount}\n",
    "\n",
    "\n",
    "agent = SarsaAgent(agent_info)\n",
    "\n",
    "n_episodes = 1000\n",
    "timesteps = 20\n",
    "\n",
    "for i in range(n_episodes):\n",
    "    state, maint = env.reset()\n",
    "    action = agent.start(state, maint)\n",
    "\n",
    "    for t in range(timesteps):\n",
    "        state, maint, reward,  _, _ = env.step(action)\n",
    "        action = agent.step(reward, state, maint)\n",
    "#     print('Episodes-'+ str(i)+'-Q value')\n",
    "#     print(agent.q)    "
   ]
  },
  {
   "cell_type": "markdown",
   "metadata": {
    "id": "D4FVxeMSrUAE"
   },
   "source": [
    "\n",
    "---\n",
    "\n",
    "**Evaluation**\n",
    "\n",
    "\n",
    "---\n"
   ]
  },
  {
   "cell_type": "code",
   "execution_count": 518,
   "metadata": {},
   "outputs": [
    {
     "name": "stdout",
     "output_type": "stream",
     "text": [
      "Sum of 20 years profit averaged by another 1000 simulation:272.42\n"
     ]
    }
   ],
   "source": [
    "# the averaged 20 years profit vary within 20 and increase the size of simulation wont decrease the variation,\n",
    "# so it is quite convincing for the evaluation of the agent\n",
    "n_avg = 1000\n",
    "sum_prof = 0\n",
    "for i in range(n_avg):\n",
    "    sum_period = 0\n",
    "    state, maint = env.reset()\n",
    "    action = agent.start(state, maint)\n",
    "\n",
    "    for t in range(timesteps):\n",
    "        state, maint, reward,  _, _ = env.step(action)\n",
    "        action = agent.step(reward, state, maint)\n",
    "        state_path.append(state)\n",
    "        maint_path.append(maint)\n",
    "        action_path.append(action)\n",
    "    \n",
    "    sum_period = env.sumprofit(state_path, maint_path, action_path, timesteps)\n",
    "    #print('20 year sum: '+ str(sum_period))\n",
    "    sum_prof += sum_period\n",
    "\n",
    "avg_prof = sum_prof/n_avg\n",
    "avg_prof\n",
    "print('Sum of 20 years profit averaged by another '+ str(n_avg)+' simulation:' + str(avg_prof))"
   ]
  },
  {
   "cell_type": "code",
   "execution_count": 513,
   "metadata": {
    "scrolled": true
   },
   "outputs": [
    {
     "data": {
      "text/html": [
       "<div>\n",
       "<style scoped>\n",
       "    .dataframe tbody tr th:only-of-type {\n",
       "        vertical-align: middle;\n",
       "    }\n",
       "\n",
       "    .dataframe tbody tr th {\n",
       "        vertical-align: top;\n",
       "    }\n",
       "\n",
       "    .dataframe thead th {\n",
       "        text-align: right;\n",
       "    }\n",
       "</style>\n",
       "<table border=\"1\" class=\"dataframe\">\n",
       "  <thead>\n",
       "    <tr style=\"text-align: right;\">\n",
       "      <th></th>\n",
       "      <th>epsilon</th>\n",
       "      <th>step_size</th>\n",
       "      <th>discount</th>\n",
       "      <th>performance</th>\n",
       "    </tr>\n",
       "  </thead>\n",
       "  <tbody>\n",
       "    <tr>\n",
       "      <th>0</th>\n",
       "      <td>0.7</td>\n",
       "      <td>0.2</td>\n",
       "      <td>0.9</td>\n",
       "      <td>261.56</td>\n",
       "    </tr>\n",
       "  </tbody>\n",
       "</table>\n",
       "</div>"
      ],
      "text/plain": [
       "   epsilon  step_size  discount  performance\n",
       "0      0.7        0.2       0.9       261.56"
      ]
     },
     "execution_count": 513,
     "metadata": {},
     "output_type": "execute_result"
    }
   ],
   "source": [
    "import pandas as pd\n",
    "param_perform = {'epsilon': [epsilon],\n",
    "                'step_size': [step_size],\n",
    "                'discount': [discount],\n",
    "                'performance': [avg_prof]}\n",
    "df_parper = pd.DataFrame (param_perform, columns = ['epsilon','step_size','discount','performance'])\n",
    "df_parper"
   ]
  },
  {
   "cell_type": "code",
   "execution_count": 274,
   "metadata": {},
   "outputs": [],
   "source": [
    "#df_stepsize = df_parper\n",
    "#df_discount = df_parper"
   ]
  },
  {
   "cell_type": "code",
   "execution_count": 237,
   "metadata": {},
   "outputs": [],
   "source": [
    "#df_discount_all = df_discount"
   ]
  },
  {
   "cell_type": "code",
   "execution_count": 167,
   "metadata": {},
   "outputs": [],
   "source": [
    "#df_stepsize_all = df_stepsize"
   ]
  },
  {
   "cell_type": "code",
   "execution_count": 275,
   "metadata": {
    "scrolled": true
   },
   "outputs": [
    {
     "data": {
      "text/html": [
       "<div>\n",
       "<style scoped>\n",
       "    .dataframe tbody tr th:only-of-type {\n",
       "        vertical-align: middle;\n",
       "    }\n",
       "\n",
       "    .dataframe tbody tr th {\n",
       "        vertical-align: top;\n",
       "    }\n",
       "\n",
       "    .dataframe thead th {\n",
       "        text-align: right;\n",
       "    }\n",
       "</style>\n",
       "<table border=\"1\" class=\"dataframe\">\n",
       "  <thead>\n",
       "    <tr style=\"text-align: right;\">\n",
       "      <th></th>\n",
       "      <th>epsilon</th>\n",
       "      <th>step_size</th>\n",
       "      <th>discount</th>\n",
       "      <th>performance</th>\n",
       "    </tr>\n",
       "  </thead>\n",
       "  <tbody>\n",
       "    <tr>\n",
       "      <th>0</th>\n",
       "      <td>0.2</td>\n",
       "      <td>0.2</td>\n",
       "      <td>0.90</td>\n",
       "      <td>224.000</td>\n",
       "    </tr>\n",
       "    <tr>\n",
       "      <th>0</th>\n",
       "      <td>0.2</td>\n",
       "      <td>0.2</td>\n",
       "      <td>0.80</td>\n",
       "      <td>208.985</td>\n",
       "    </tr>\n",
       "    <tr>\n",
       "      <th>0</th>\n",
       "      <td>0.2</td>\n",
       "      <td>0.2</td>\n",
       "      <td>0.70</td>\n",
       "      <td>190.525</td>\n",
       "    </tr>\n",
       "    <tr>\n",
       "      <th>0</th>\n",
       "      <td>0.2</td>\n",
       "      <td>0.2</td>\n",
       "      <td>0.95</td>\n",
       "      <td>232.710</td>\n",
       "    </tr>\n",
       "  </tbody>\n",
       "</table>\n",
       "</div>"
      ],
      "text/plain": [
       "   epsilon  step_size  discount  performance\n",
       "0      0.2        0.2      0.90      224.000\n",
       "0      0.2        0.2      0.80      208.985\n",
       "0      0.2        0.2      0.70      190.525\n",
       "0      0.2        0.2      0.95      232.710"
      ]
     },
     "execution_count": 275,
     "metadata": {},
     "output_type": "execute_result"
    }
   ],
   "source": [
    "df_discount_all = df_discount_all.append(df_discount,ignore_index=True)\n",
    "df_discount_all"
   ]
  },
  {
   "cell_type": "code",
   "execution_count": 220,
   "metadata": {
    "scrolled": false
   },
   "outputs": [
    {
     "data": {
      "text/html": [
       "<div>\n",
       "<style scoped>\n",
       "    .dataframe tbody tr th:only-of-type {\n",
       "        vertical-align: middle;\n",
       "    }\n",
       "\n",
       "    .dataframe tbody tr th {\n",
       "        vertical-align: top;\n",
       "    }\n",
       "\n",
       "    .dataframe thead th {\n",
       "        text-align: right;\n",
       "    }\n",
       "</style>\n",
       "<table border=\"1\" class=\"dataframe\">\n",
       "  <thead>\n",
       "    <tr style=\"text-align: right;\">\n",
       "      <th></th>\n",
       "      <th>epsilon</th>\n",
       "      <th>step_size</th>\n",
       "      <th>discount</th>\n",
       "      <th>performance</th>\n",
       "    </tr>\n",
       "  </thead>\n",
       "  <tbody>\n",
       "    <tr>\n",
       "      <th>0</th>\n",
       "      <td>0.2</td>\n",
       "      <td>0.05</td>\n",
       "      <td>0.9</td>\n",
       "      <td>205.930</td>\n",
       "    </tr>\n",
       "    <tr>\n",
       "      <th>1</th>\n",
       "      <td>0.2</td>\n",
       "      <td>0.10</td>\n",
       "      <td>0.9</td>\n",
       "      <td>220.945</td>\n",
       "    </tr>\n",
       "    <tr>\n",
       "      <th>2</th>\n",
       "      <td>0.2</td>\n",
       "      <td>0.20</td>\n",
       "      <td>0.9</td>\n",
       "      <td>221.790</td>\n",
       "    </tr>\n",
       "    <tr>\n",
       "      <th>3</th>\n",
       "      <td>0.2</td>\n",
       "      <td>0.30</td>\n",
       "      <td>0.9</td>\n",
       "      <td>220.685</td>\n",
       "    </tr>\n",
       "  </tbody>\n",
       "</table>\n",
       "</div>"
      ],
      "text/plain": [
       "   epsilon  step_size  discount  performance\n",
       "0      0.2       0.05       0.9      205.930\n",
       "1      0.2       0.10       0.9      220.945\n",
       "2      0.2       0.20       0.9      221.790\n",
       "3      0.2       0.30       0.9      220.685"
      ]
     },
     "execution_count": 220,
     "metadata": {},
     "output_type": "execute_result"
    }
   ],
   "source": [
    "df_stepsize_all =  df_stepsize_all.append(df_stepsize,ignore_index=True)\n",
    "df_stepsize_all"
   ]
  },
  {
   "cell_type": "code",
   "execution_count": 456,
   "metadata": {},
   "outputs": [],
   "source": [
    "#df_parper_all = df_parper"
   ]
  },
  {
   "cell_type": "code",
   "execution_count": 514,
   "metadata": {
    "scrolled": true
   },
   "outputs": [
    {
     "data": {
      "text/html": [
       "<div>\n",
       "<style scoped>\n",
       "    .dataframe tbody tr th:only-of-type {\n",
       "        vertical-align: middle;\n",
       "    }\n",
       "\n",
       "    .dataframe tbody tr th {\n",
       "        vertical-align: top;\n",
       "    }\n",
       "\n",
       "    .dataframe thead th {\n",
       "        text-align: right;\n",
       "    }\n",
       "</style>\n",
       "<table border=\"1\" class=\"dataframe\">\n",
       "  <thead>\n",
       "    <tr style=\"text-align: right;\">\n",
       "      <th></th>\n",
       "      <th>epsilon</th>\n",
       "      <th>step_size</th>\n",
       "      <th>discount</th>\n",
       "      <th>performance</th>\n",
       "    </tr>\n",
       "  </thead>\n",
       "  <tbody>\n",
       "    <tr>\n",
       "      <th>0</th>\n",
       "      <td>0.05</td>\n",
       "      <td>0.2</td>\n",
       "      <td>0.9</td>\n",
       "      <td>101.96</td>\n",
       "    </tr>\n",
       "    <tr>\n",
       "      <th>1</th>\n",
       "      <td>0.10</td>\n",
       "      <td>0.2</td>\n",
       "      <td>0.9</td>\n",
       "      <td>170.54</td>\n",
       "    </tr>\n",
       "    <tr>\n",
       "      <th>2</th>\n",
       "      <td>0.20</td>\n",
       "      <td>0.2</td>\n",
       "      <td>0.9</td>\n",
       "      <td>233.18</td>\n",
       "    </tr>\n",
       "    <tr>\n",
       "      <th>3</th>\n",
       "      <td>0.40</td>\n",
       "      <td>0.2</td>\n",
       "      <td>0.9</td>\n",
       "      <td>258.38</td>\n",
       "    </tr>\n",
       "    <tr>\n",
       "      <th>4</th>\n",
       "      <td>0.50</td>\n",
       "      <td>0.2</td>\n",
       "      <td>0.9</td>\n",
       "      <td>266.96</td>\n",
       "    </tr>\n",
       "    <tr>\n",
       "      <th>5</th>\n",
       "      <td>0.60</td>\n",
       "      <td>0.2</td>\n",
       "      <td>0.9</td>\n",
       "      <td>260.78</td>\n",
       "    </tr>\n",
       "    <tr>\n",
       "      <th>6</th>\n",
       "      <td>0.70</td>\n",
       "      <td>0.2</td>\n",
       "      <td>0.9</td>\n",
       "      <td>261.56</td>\n",
       "    </tr>\n",
       "  </tbody>\n",
       "</table>\n",
       "</div>"
      ],
      "text/plain": [
       "   epsilon  step_size  discount  performance\n",
       "0     0.05        0.2       0.9       101.96\n",
       "1     0.10        0.2       0.9       170.54\n",
       "2     0.20        0.2       0.9       233.18\n",
       "3     0.40        0.2       0.9       258.38\n",
       "4     0.50        0.2       0.9       266.96\n",
       "5     0.60        0.2       0.9       260.78\n",
       "6     0.70        0.2       0.9       261.56"
      ]
     },
     "execution_count": 514,
     "metadata": {},
     "output_type": "execute_result"
    }
   ],
   "source": [
    "df_parper_all = df_parper_all.append(df_parper,ignore_index=True)\n",
    "df_parper_all"
   ]
  },
  {
   "cell_type": "markdown",
   "metadata": {},
   "source": [
    "\n",
    "---\n",
    "\n",
    "**Plot one simulation of best performance**\n",
    "\n",
    "\n",
    "---"
   ]
  },
  {
   "cell_type": "code",
   "execution_count": 540,
   "metadata": {
    "id": "mWfLrcP5FOCg",
    "scrolled": true
   },
   "outputs": [],
   "source": [
    "# Perform path simulation of episode:  n_episode+1\n",
    "state, maint = env.reset()\n",
    "action = agent.start(state, maint)\n",
    "\n",
    "state_path = [state]\n",
    "maint_path = [maint]\n",
    "action_path = [action]\n",
    "\n",
    "\n",
    "for t in range(timesteps):\n",
    "    state, maint, reward, _, _ = env.step(action)\n",
    "    action = agent.step(reward, state, maint)\n",
    "\n",
    "    state_path.append(state)\n",
    "    maint_path.append(maint)\n",
    "    action_path.append(action)"
   ]
  },
  {
   "cell_type": "code",
   "execution_count": 541,
   "metadata": {
    "scrolled": true
   },
   "outputs": [
    {
     "name": "stdout",
     "output_type": "stream",
     "text": [
      "performance of simulation is: 305.0\n"
     ]
    }
   ],
   "source": [
    "performance = env.sumprofit(state_path, maint_path, action_path, timesteps)\n",
    "print('Performance of the simulation is: ' + str(performance))"
   ]
  },
  {
   "cell_type": "code",
   "execution_count": 542,
   "metadata": {
    "id": "2k6Oy7jLpfiR",
    "scrolled": true
   },
   "outputs": [],
   "source": [
    "# extract the value function from action value function\n",
    "V = defaultdict(float)\n",
    "policy = defaultdict(int)\n",
    "for state_maint, values in sorted(agent.q.items()):\n",
    "    value = np.max(values)\n",
    "    V[state_maint] = value\n",
    "    action = np.argmax(values)\n",
    "    policy[state_maint] = action\n"
   ]
  },
  {
   "cell_type": "code",
   "execution_count": 543,
   "metadata": {
    "scrolled": true
   },
   "outputs": [
    {
     "data": {
      "image/png": "[encoded data removed]",
      "text/plain": [
       "<Figure size 1152x288 with 1 Axes>"
      ]
     },
     "metadata": {},
     "output_type": "display_data"
    }
   ],
   "source": [
    "fig = plt.figure(figsize=(16, 4))\n",
    "plt.plot(state_path, label='Age of machine')\n",
    "plt.plot(action_path, 'o', label='Decision')\n",
    "plt.plot(maint_path, 'x', label='Maintenance failure')\n",
    "plt.title('State and action path')\n",
    "plt.xlabel('Time step')\n",
    "plt.legend()\n",
    "plt.savefig('SARSA_Path' + '-'+ str(n_episodes)+'-' + str(discount)+'-'+ str(step_size)+'-'+ str(epsilon) +'.pdf')\n",
    "plt.show()"
   ]
  },
  {
   "cell_type": "code",
   "execution_count": 544,
   "metadata": {
    "scrolled": true
   },
   "outputs": [
    {
     "data": {
      "image/png": "[encoded data removed]",
      "text/plain": [
       "<Figure size 576x576 with 2 Axes>"
      ]
     },
     "metadata": {},
     "output_type": "display_data"
    }
   ],
   "source": [
    "import pandas as pd\n",
    "import seaborn as sns\n",
    "plt.figure(figsize=(8,8))\n",
    "ser = pd.Series(list(V.values()),\n",
    "                  index= pd.MultiIndex.from_tuples( V.keys(), names=[\"Age of machine\", \"Times of matainenace failure\"]))\n",
    "df = ser.unstack().fillna(-1)\n",
    "#df.shape\n",
    "sns.heatmap(df, annot=True, fmt = 'g')\n",
    "plt.savefig('SARSA_Q' + '-'+ str(n_episodes)+'-' + str(discount)+'-'+ str(step_size)+'-'+ str(epsilon) +'.pdf')\n",
    "plt.show()"
   ]
  },
  {
   "cell_type": "code",
   "execution_count": 545,
   "metadata": {
    "scrolled": true
   },
   "outputs": [
    {
     "data": {
      "image/png": "[encoded data removed]",
      "text/plain": [
       "<Figure size 576x576 with 2 Axes>"
      ]
     },
     "metadata": {},
     "output_type": "display_data"
    }
   ],
   "source": [
    "plt.figure(figsize=(8,8))\n",
    "ser = pd.Series(list(policy.values()),\n",
    "                  index= pd.MultiIndex.from_tuples( policy.keys(), names=[\"Age of machine\", \"Times of matainenace failure\"]))\n",
    "df = ser.unstack().fillna(-1)\n",
    "#df.shape\n",
    "sns.heatmap(df, annot=True, fmt = 'g')\n",
    "plt.savefig('SARSA_Policy' +'-' +str(n_episodes)+'-' + str(discount)+'-'+ str(step_size)+'-'+ str(epsilon) +'.pdf')\n",
    "plt.show()"
   ]
  },
  {
   "cell_type": "markdown",
   "metadata": {
    "id": "L_0Qq9vBFXZu"
   },
   "source": [
    "# **Q-Learning Agent**"
   ]
  },
  {
   "cell_type": "code",
   "execution_count": 300,
   "metadata": {
    "id": "-Fpwfg7SFTgy"
   },
   "outputs": [],
   "source": [
    "class QLearningAgent():\n",
    "    def __init__(self, agent_info):\n",
    "        \"\"\"Initialize Agent\n",
    "\n",
    "        Args: \n",
    "            agent_info (dict): Parameters used to initialize agent.\n",
    "            {\n",
    "                n_actions (int): Number of actions.\n",
    "                epsilon (float): Exploration parameter.\n",
    "                step_size (float): Learning rate alpha.\n",
    "                discount (float): Discount factor gamma.\n",
    "            }\n",
    "        \"\"\"\n",
    "        self.n_actions = agent_info[\"n_actions\"]\n",
    "        self.epsilon = agent_info[\"epsilon\"]\n",
    "        self.step_size = agent_info[\"step_size\"]\n",
    "        self.discount = agent_info[\"discount\"]\n",
    "\n",
    "        self.rng = default_rng()\n",
    "\n",
    "        # Create an array for action-value estimates and initialize it to zero.\n",
    "        self.q = defaultdict(lambda: np.zeros(self.n_actions))      \n",
    "\n",
    "\n",
    "    def step(self, reward, state, maint):\n",
    "        \"\"\"A step taken by the agent\n",
    "\n",
    "        Args:\n",
    "            next_state (int):  next state from the environment\n",
    "            next_maint (int):  next state of maintenance failure from environment \n",
    "        Returns:\n",
    "            next_action (int): action the agent takes in next_state\n",
    "        \"\"\"\n",
    "\n",
    "        # choose action using epsilon greedy policy\n",
    "        action = self.select_action(state, maint)\n",
    "\n",
    "  \n",
    "        # perform update\n",
    "        target = reward + self.discount* np.max(self.q[state, maint])\n",
    "        td_error = target- self.q[self.previous_state, self.previous_maint][self.previous_action]\n",
    "        self.q[self.previous_state, self.previous_maint][self.previous_action] += self.step_size * td_error\n",
    "     \n",
    "\n",
    "        # save current state and action\n",
    "        self.previous_state = state\n",
    "        self.previous_maint = maint\n",
    "        self.previous_action = action\n",
    "\n",
    "        return action\n",
    "\n",
    "        \n",
    "    def select_action(self, state, maint):\n",
    "        \"\"\"Select action using epsilon greedy policy\n",
    "\n",
    "        Args:\n",
    "            state (int): current state\n",
    "            maint (int): current times of maitenance failure\n",
    "        Returns:\n",
    "            action (int): action the agent takes\n",
    "        \"\"\"\n",
    "        \n",
    "        # performe epsilon greedy policy improvement\n",
    "        # remember to replace asset if age is 5\n",
    "        if state== 5 or maint == 4:\n",
    "            return 2\n",
    "        \n",
    "        if  self.rng.random() < self.epsilon:\n",
    "            action = self.rng.choice(n_actions)\n",
    "        else:\n",
    "            action = self.argmax(self.q[state, maint])\n",
    "        return action\n",
    "\n",
    "\n",
    "    def argmax(self, q_values):\n",
    "        \"\"\"Return the index of maximum value with ties broken randomly.\n",
    "\n",
    "        Args:\n",
    "            q_values (numpy.ndarray): A shape-(n_actions,) array of estimated\n",
    "                action_values.\n",
    "\n",
    "        Returns:\n",
    "            index (int): Index of the maximal value.\n",
    "        \"\"\"\n",
    "\n",
    "        ties = np.flatnonzero(np.isclose(q_values, max(q_values)))\n",
    "        index = self.rng.choice(ties)\n",
    "\n",
    "        return index\n",
    "\n",
    "\n",
    "    def start(self, state, maint):\n",
    "        \"\"\"Selects action in inital state\n",
    "\n",
    "        Args:\n",
    "            state (int): initial state\n",
    "            maint (int): initial maint\n",
    "        Returns:\n",
    "            action (int): initial action\n",
    "        \"\"\"\n",
    "\n",
    "        action = self.select_action(state, maint)\n",
    "\n",
    "        self.previous_maint= maint\n",
    "        self.previous_state = state\n",
    "        self.previous_action = action\n",
    "\n",
    "        return action\n"
   ]
  },
  {
   "cell_type": "code",
   "execution_count": 546,
   "metadata": {
    "scrolled": false
   },
   "outputs": [],
   "source": [
    "env = AssetReplacementEnv()\n",
    "\n",
    "n_actions = env.action_space.n\n",
    "epsilon = 0.5\n",
    "step_size = 0.2\n",
    "discount = 0.9\n",
    "\n",
    "\n",
    "agent_info = {\"n_actions\": n_actions,\n",
    "              \"epsilon\": epsilon,\n",
    "              \"step_size\": step_size,\n",
    "              \"discount\": discount}\n",
    "\n",
    "\n",
    "agent = QLearningAgent(agent_info)\n",
    "\n",
    "n_episodes = 1000\n",
    "timesteps = 20\n",
    "\n",
    "for i in range(n_episodes):\n",
    "    state, maint = env.reset()\n",
    "    action = agent.start(state, maint)\n",
    "  \n",
    "    for t in range(timesteps):\n",
    "        state, maint, reward, _, _ = env.step(action)\n",
    "        action = agent.step(reward, state, maint)\n"
   ]
  },
  {
   "cell_type": "markdown",
   "metadata": {},
   "source": [
    "\n",
    "---\n",
    "\n",
    "**Evaluation**\n",
    "\n",
    "\n",
    "---\n"
   ]
  },
  {
   "cell_type": "code",
   "execution_count": 551,
   "metadata": {},
   "outputs": [
    {
     "name": "stdout",
     "output_type": "stream",
     "text": [
      "Sum of 20 years profit averaged by another 1000 simulation:210.68\n"
     ]
    }
   ],
   "source": [
    "# the averaged 20 years profit vary within 20 and increase the size of simulation wont decrease the variation,\n",
    "# so it is quite convincing for the evaluation of the agent\n",
    "n_avg = 1000\n",
    "sum_prof = 0\n",
    "for i in range(n_avg):\n",
    "    sum_period = 0\n",
    "    state, maint = env.reset()\n",
    "    action = agent.start(state, maint)\n",
    "\n",
    "    for t in range(timesteps):\n",
    "        state, maint, reward,  _, _ = env.step(action)\n",
    "        action = agent.step(reward, state, maint)\n",
    "        state_path.append(state)\n",
    "        maint_path.append(maint)\n",
    "        action_path.append(action)\n",
    "    \n",
    "    sum_period = env.sumprofit(state_path, maint_path, action_path, timesteps)\n",
    "    #print('20 year sum: '+ str(sum_period))\n",
    "    sum_prof += sum_period\n",
    "\n",
    "avg_prof = sum_prof/n_avg\n",
    "avg_prof\n",
    "print('Sum of 20 years profit averaged by another '+ str(n_avg)+' simulation:' + str(avg_prof))"
   ]
  },
  {
   "cell_type": "code",
   "execution_count": 424,
   "metadata": {
    "scrolled": true
   },
   "outputs": [
    {
     "data": {
      "text/html": [
       "<div>\n",
       "<style scoped>\n",
       "    .dataframe tbody tr th:only-of-type {\n",
       "        vertical-align: middle;\n",
       "    }\n",
       "\n",
       "    .dataframe tbody tr th {\n",
       "        vertical-align: top;\n",
       "    }\n",
       "\n",
       "    .dataframe thead th {\n",
       "        text-align: right;\n",
       "    }\n",
       "</style>\n",
       "<table border=\"1\" class=\"dataframe\">\n",
       "  <thead>\n",
       "    <tr style=\"text-align: right;\">\n",
       "      <th></th>\n",
       "      <th>epsilon</th>\n",
       "      <th>step_size</th>\n",
       "      <th>discount</th>\n",
       "      <th>performance</th>\n",
       "    </tr>\n",
       "  </thead>\n",
       "  <tbody>\n",
       "    <tr>\n",
       "      <th>0</th>\n",
       "      <td>0.5</td>\n",
       "      <td>0.4</td>\n",
       "      <td>0.9</td>\n",
       "      <td>187.21</td>\n",
       "    </tr>\n",
       "  </tbody>\n",
       "</table>\n",
       "</div>"
      ],
      "text/plain": [
       "   epsilon  step_size  discount  performance\n",
       "0      0.5        0.4       0.9       187.21"
      ]
     },
     "execution_count": 424,
     "metadata": {},
     "output_type": "execute_result"
    }
   ],
   "source": [
    "import pandas as pd\n",
    "param_perform = {'epsilon': [epsilon],\n",
    "                'step_size': [step_size],\n",
    "                'discount': [discount],\n",
    "                'performance': [avg_prof]}\n",
    "df_parper = pd.DataFrame (param_perform, columns = ['epsilon','step_size','discount','performance'])\n",
    "df_parper"
   ]
  },
  {
   "cell_type": "code",
   "execution_count": 382,
   "metadata": {},
   "outputs": [],
   "source": [
    "df_epsilon = df_parper"
   ]
  },
  {
   "cell_type": "code",
   "execution_count": 307,
   "metadata": {},
   "outputs": [],
   "source": [
    "#df_epsilon_all = df_epsilon"
   ]
  },
  {
   "cell_type": "code",
   "execution_count": null,
   "metadata": {
    "scrolled": true
   },
   "outputs": [],
   "source": [
    "df_epsilon_all = df_epsilon_all.append(df_epsilon, ignore_index = True)\n",
    "df_epsilon_all"
   ]
  },
  {
   "cell_type": "code",
   "execution_count": 385,
   "metadata": {
    "scrolled": false
   },
   "outputs": [
    {
     "data": {
      "text/html": [
       "<div>\n",
       "<style scoped>\n",
       "    .dataframe tbody tr th:only-of-type {\n",
       "        vertical-align: middle;\n",
       "    }\n",
       "\n",
       "    .dataframe tbody tr th {\n",
       "        vertical-align: top;\n",
       "    }\n",
       "\n",
       "    .dataframe thead th {\n",
       "        text-align: right;\n",
       "    }\n",
       "</style>\n",
       "<table border=\"1\" class=\"dataframe\">\n",
       "  <thead>\n",
       "    <tr style=\"text-align: right;\">\n",
       "      <th></th>\n",
       "      <th>epsilon</th>\n",
       "      <th>step_size</th>\n",
       "      <th>discount</th>\n",
       "      <th>performance</th>\n",
       "    </tr>\n",
       "  </thead>\n",
       "  <tbody>\n",
       "    <tr>\n",
       "      <th>0</th>\n",
       "      <td>0.05</td>\n",
       "      <td>0.2</td>\n",
       "      <td>0.9</td>\n",
       "      <td>-20.530</td>\n",
       "    </tr>\n",
       "    <tr>\n",
       "      <th>1</th>\n",
       "      <td>0.10</td>\n",
       "      <td>0.2</td>\n",
       "      <td>0.9</td>\n",
       "      <td>58.705</td>\n",
       "    </tr>\n",
       "    <tr>\n",
       "      <th>2</th>\n",
       "      <td>0.20</td>\n",
       "      <td>0.2</td>\n",
       "      <td>0.9</td>\n",
       "      <td>135.925</td>\n",
       "    </tr>\n",
       "    <tr>\n",
       "      <th>3</th>\n",
       "      <td>0.30</td>\n",
       "      <td>0.2</td>\n",
       "      <td>0.9</td>\n",
       "      <td>171.350</td>\n",
       "    </tr>\n",
       "    <tr>\n",
       "      <th>5</th>\n",
       "      <td>0.40</td>\n",
       "      <td>0.2</td>\n",
       "      <td>0.9</td>\n",
       "      <td>184.220</td>\n",
       "    </tr>\n",
       "    <tr>\n",
       "      <th>6</th>\n",
       "      <td>0.50</td>\n",
       "      <td>0.2</td>\n",
       "      <td>0.9</td>\n",
       "      <td>196.635</td>\n",
       "    </tr>\n",
       "    <tr>\n",
       "      <th>7</th>\n",
       "      <td>0.60</td>\n",
       "      <td>0.2</td>\n",
       "      <td>0.9</td>\n",
       "      <td>192.995</td>\n",
       "    </tr>\n",
       "    <tr>\n",
       "      <th>9</th>\n",
       "      <td>0.70</td>\n",
       "      <td>0.2</td>\n",
       "      <td>0.9</td>\n",
       "      <td>194.360</td>\n",
       "    </tr>\n",
       "  </tbody>\n",
       "</table>\n",
       "</div>"
      ],
      "text/plain": [
       "   epsilon  step_size  discount  performance\n",
       "0     0.05        0.2       0.9      -20.530\n",
       "1     0.10        0.2       0.9       58.705\n",
       "2     0.20        0.2       0.9      135.925\n",
       "3     0.30        0.2       0.9      171.350\n",
       "5     0.40        0.2       0.9      184.220\n",
       "6     0.50        0.2       0.9      196.635\n",
       "7     0.60        0.2       0.9      192.995\n",
       "9     0.70        0.2       0.9      194.360"
      ]
     },
     "execution_count": 385,
     "metadata": {},
     "output_type": "execute_result"
    }
   ],
   "source": [
    "df_epsilon_all"
   ]
  },
  {
   "cell_type": "code",
   "execution_count": 425,
   "metadata": {},
   "outputs": [],
   "source": [
    "df_stepsize = df_parper\n"
   ]
  },
  {
   "cell_type": "code",
   "execution_count": 396,
   "metadata": {},
   "outputs": [],
   "source": [
    "#df_stepsize_all = df_stepsize"
   ]
  },
  {
   "cell_type": "code",
   "execution_count": 426,
   "metadata": {
    "scrolled": false
   },
   "outputs": [
    {
     "data": {
      "text/html": [
       "<div>\n",
       "<style scoped>\n",
       "    .dataframe tbody tr th:only-of-type {\n",
       "        vertical-align: middle;\n",
       "    }\n",
       "\n",
       "    .dataframe tbody tr th {\n",
       "        vertical-align: top;\n",
       "    }\n",
       "\n",
       "    .dataframe thead th {\n",
       "        text-align: right;\n",
       "    }\n",
       "</style>\n",
       "<table border=\"1\" class=\"dataframe\">\n",
       "  <thead>\n",
       "    <tr style=\"text-align: right;\">\n",
       "      <th></th>\n",
       "      <th>epsilon</th>\n",
       "      <th>step_size</th>\n",
       "      <th>discount</th>\n",
       "      <th>performance</th>\n",
       "    </tr>\n",
       "  </thead>\n",
       "  <tbody>\n",
       "    <tr>\n",
       "      <th>0</th>\n",
       "      <td>0.5</td>\n",
       "      <td>0.1</td>\n",
       "      <td>0.9</td>\n",
       "      <td>188.640</td>\n",
       "    </tr>\n",
       "    <tr>\n",
       "      <th>1</th>\n",
       "      <td>0.5</td>\n",
       "      <td>0.2</td>\n",
       "      <td>0.9</td>\n",
       "      <td>198.195</td>\n",
       "    </tr>\n",
       "    <tr>\n",
       "      <th>2</th>\n",
       "      <td>0.5</td>\n",
       "      <td>0.3</td>\n",
       "      <td>0.9</td>\n",
       "      <td>195.205</td>\n",
       "    </tr>\n",
       "    <tr>\n",
       "      <th>3</th>\n",
       "      <td>0.5</td>\n",
       "      <td>0.4</td>\n",
       "      <td>0.9</td>\n",
       "      <td>187.210</td>\n",
       "    </tr>\n",
       "  </tbody>\n",
       "</table>\n",
       "</div>"
      ],
      "text/plain": [
       "   epsilon  step_size  discount  performance\n",
       "0      0.5        0.1       0.9      188.640\n",
       "1      0.5        0.2       0.9      198.195\n",
       "2      0.5        0.3       0.9      195.205\n",
       "3      0.5        0.4       0.9      187.210"
      ]
     },
     "execution_count": 426,
     "metadata": {},
     "output_type": "execute_result"
    }
   ],
   "source": [
    "df_stepsize_all =  df_stepsize_all.append(df_stepsize,ignore_index=True)\n",
    "df_stepsize_all"
   ]
  },
  {
   "cell_type": "markdown",
   "metadata": {},
   "source": [
    "Summary:  step_size matter not really when it is small, so just take 0.2\n",
    "          epsilon: around 0.2 the best\n",
    "          disount: higher seems to be better, but the task require it to be 0.9\n"
   ]
  },
  {
   "cell_type": "markdown",
   "metadata": {},
   "source": [
    "\n",
    "---\n",
    "\n",
    "**Plot one simulation of best performance**\n",
    "\n",
    "\n",
    "---\n"
   ]
  },
  {
   "cell_type": "code",
   "execution_count": 705,
   "metadata": {
    "id": "d2hfup9vJ9Nh"
   },
   "outputs": [],
   "source": [
    "# Perform path simulation\n",
    "state, maint = env.reset()\n",
    "\n",
    "#agent.epsilon = 0\n",
    "action = agent.start(state, maint)\n",
    "\n",
    "\n",
    "state_path = [state]\n",
    "maint_path = [maint]\n",
    "action_path = [action]\n",
    "\n",
    "timesteps = 20\n",
    "\n",
    "for t in range(timesteps):\n",
    "    state, maint, reward, done, _ = env.step(action)\n",
    "    action = agent.step(reward, state, maint)\n",
    "    state_path.append(state)\n",
    "    maint_path.append(maint)\n",
    "    action_path.append(action)"
   ]
  },
  {
   "cell_type": "code",
   "execution_count": 706,
   "metadata": {
    "scrolled": true
   },
   "outputs": [
    {
     "name": "stdout",
     "output_type": "stream",
     "text": [
      "Performance of the simulation is: 210.0\n"
     ]
    }
   ],
   "source": [
    "performance = env.sumprofit(state_path, maint_path, action_path, timesteps)\n",
    "print('Performance of the simulation is: ' + str(performance))"
   ]
  },
  {
   "cell_type": "code",
   "execution_count": 707,
   "metadata": {
    "id": "xFYsQEXdwzYz"
   },
   "outputs": [],
   "source": [
    "# extract the value and policy function from action value function\n",
    "V = defaultdict(float)\n",
    "policy = defaultdict(int)\n",
    "for state_maint, values in sorted(agent.q.items()):\n",
    "    value = np.max(values)\n",
    "    action = np.argmax(values)\n",
    "    policy[state_maint] = action\n",
    "    V[state_maint] = value\n"
   ]
  },
  {
   "cell_type": "code",
   "execution_count": 693,
   "metadata": {
    "scrolled": false
   },
   "outputs": [
    {
     "data": {
      "text/plain": [
       "defaultdict(float,\n",
       "            {(0, 0): 130.77925107898366,\n",
       "             (1, 0): 108.75096406436681,\n",
       "             (2, 0): 82.14870684961697,\n",
       "             (2, 1): 82.72614991609139,\n",
       "             (3, 0): 56.443419972972485,\n",
       "             (3, 1): 56.80089812952771,\n",
       "             (3, 2): 57.31834851093558,\n",
       "             (4, 0): 56.122633757883364,\n",
       "             (4, 1): 56.42220303893052,\n",
       "             (4, 2): 57.95699062174867,\n",
       "             (4, 3): 12.133164562839127,\n",
       "             (5, 0): 56.5452409400734,\n",
       "             (5, 1): 55.96906947188383,\n",
       "             (5, 2): 56.951661729761646,\n",
       "             (5, 3): 56.35446856943293})"
      ]
     },
     "execution_count": 693,
     "metadata": {},
     "output_type": "execute_result"
    }
   ],
   "source": [
    "V"
   ]
  },
  {
   "cell_type": "code",
   "execution_count": 708,
   "metadata": {
    "colab": {
     "base_uri": "https://localhost:8080/",
     "height": 299
    },
    "executionInfo": {
     "elapsed": 1859,
     "status": "ok",
     "timestamp": 1606150702066,
     "user": {
      "displayName": "Thomas Gehrmann",
      "photoUrl": "",
      "userId": "03269050171692580693"
     },
     "user_tz": -60
    },
    "id": "2Eev3SGGF6wa",
    "outputId": "20d29d80-44fd-4f34-aa4c-b9dd08913b23",
    "scrolled": false
   },
   "outputs": [
    {
     "data": {
      "image/png": "[encoded data removed]",
      "text/plain": [
       "<Figure size 1152x288 with 1 Axes>"
      ]
     },
     "metadata": {},
     "output_type": "display_data"
    }
   ],
   "source": [
    "fig = plt.figure(figsize=(16, 4))\n",
    "plt.plot(state_path, label='Age of machine')\n",
    "plt.plot(action_path, 'o', label='Decision')\n",
    "plt.plot(maint_path, 'x', label='Maintenance failure')\n",
    "plt.title('State and action path')\n",
    "plt.xlabel('Time step')\n",
    "plt.legend()\n",
    "plt.savefig('QLearning_Path' + '-'+ str(n_episodes)+'-' + str(discount)+'-'+ str(step_size)+'-'+ str(epsilon) +'.pdf')\n",
    "plt.show()\n"
   ]
  },
  {
   "cell_type": "code",
   "execution_count": 561,
   "metadata": {
    "scrolled": true
   },
   "outputs": [
    {
     "data": {
      "image/png": "[encoded data removed]",
      "text/plain": [
       "<Figure size 576x576 with 2 Axes>"
      ]
     },
     "metadata": {},
     "output_type": "display_data"
    }
   ],
   "source": [
    "plt.figure(figsize=(8,8))\n",
    "ser = pd.Series(list(V.values()),\n",
    "                  index= pd.MultiIndex.from_tuples( V.keys(), names=[\"Age of machine\", \"Times of matainenace failure\"]))\n",
    "df = ser.unstack().fillna(-1)\n",
    "#df.shape\n",
    "sns.heatmap(df, annot=True, fmt = 'g')\n",
    "plt.savefig('Qlearning_Q' + '-'+ str(n_episodes)+'-' + str(discount)+'-'+ str(step_size)+'-'+ str(epsilon) +'.pdf')\n",
    "plt.show()"
   ]
  },
  {
   "cell_type": "code",
   "execution_count": 562,
   "metadata": {
    "scrolled": true
   },
   "outputs": [
    {
     "data": {
      "image/png": "[encoded data removed]",
      "text/plain": [
       "<Figure size 576x576 with 2 Axes>"
      ]
     },
     "metadata": {},
     "output_type": "display_data"
    }
   ],
   "source": [
    "plt.figure(figsize=(8,8))\n",
    "ser = pd.Series(list(policy.values()),\n",
    "                  index= pd.MultiIndex.from_tuples( policy.keys(), names=[\"Age of machine\", \"Times of matainenace failure\"]))\n",
    "df = ser.unstack().fillna(-1)\n",
    "#df.shape\n",
    "sns.heatmap(df, annot=True, fmt = 'g')\n",
    "plt.savefig('Qlearning_Policy' +'-' +str(n_episodes)+'-' + str(discount)+'-'+ str(step_size)+'-'+ str(epsilon) +'.pdf')\n",
    "plt.show()"
   ]
  },
  {
   "cell_type": "markdown",
   "metadata": {
    "id": "KZy9g1moMP2Z"
   },
   "source": [
    "# **Expected Sarsa**"
   ]
  },
  {
   "cell_type": "code",
   "execution_count": 718,
   "metadata": {
    "id": "__3k0fSLMSm0"
   },
   "outputs": [],
   "source": [
    "class ExpectedSarsaAgent():\n",
    "    def __init__(self, agent_info):\n",
    "        \"\"\"Initialize Agent.\n",
    "\n",
    "        Args: \n",
    "            agent_info (dict): Parameters used to initialize agent.\n",
    "            {\n",
    "                n_actions (int): Number of actions.\n",
    "                epsilon (float): Exploration parameter.\n",
    "                step_size (float): Learning rate alpha.\n",
    "                discount (float): Discount factor gamma.\n",
    "            }\n",
    "        \"\"\"\n",
    "\n",
    "        self.n_actions = agent_info[\"n_actions\"]\n",
    "        self.epsilon = agent_info[\"epsilon\"]\n",
    "        self.step_size = agent_info[\"step_size\"]\n",
    "        self.discount = agent_info[\"discount\"]\n",
    "\n",
    "        self.rng = default_rng()\n",
    "\n",
    "        # Create an array for action-value estimates and initialize it to zero.\n",
    "        self.q = defaultdict(lambda: np.zeros(self.n_actions))        \n",
    "\n",
    "\n",
    "    def step(self, reward, state, maint):\n",
    "        \"\"\"A step taken by the agent\n",
    "\n",
    "        Args:\n",
    "            next_state (int):  next state from the environment\n",
    "            next_maint (int):  next state of maintenance failure from environment \n",
    "        Returns:\n",
    "            next_action (int): action the agent takes in next_state\n",
    "        \"\"\"\n",
    "\n",
    "         # choose action using epsilon greedy policy\n",
    "        action = self.select_action(state, maint)  \n",
    "\n",
    "        # perform update\n",
    "        policy = np.ones(self.n_actions)*self.epsilon/self.n_actions\n",
    "        policy[np.argmax(self.q[state, maint])] += 1 - self.epsilon\n",
    "\n",
    "       # matrix-vector multiplication\n",
    "        expectation = self.q[state, maint] @ policy\n",
    "\n",
    "\n",
    "        target = reward + self.discount * expectation\n",
    "        td_error = target - self.q[self.previous_state, self.previous_maint][self.previous_action]\n",
    "        self.q[self.previous_state, self.previous_maint][self.previous_action] += self.step_size * td_error\n",
    "\n",
    "\n",
    "\n",
    "        # save current state and action\n",
    "        self.previous_state = state\n",
    "        self.previous_maint = maint\n",
    "        self.previous_action = action\n",
    "\n",
    "        return action\n",
    "\n",
    "        \n",
    "    def select_action(self, state, maint):\n",
    "        \"\"\"Select action using epsilon greedy policy\n",
    "\n",
    "        Args:\n",
    "            state (int): current state\n",
    "            maint (int): current times of maitenance failure\n",
    "        Returns:\n",
    "            action (int): action the agent takes\n",
    "        \"\"\"\n",
    "        if state == 5 or maint == 4:\n",
    "            return 2\n",
    "\n",
    "        current_q  = self.q[state, maint]\n",
    "      \n",
    "        if self.rng.random() < self.epsilon:\n",
    "            action = self.rng.choice(self.n_actions)\n",
    "        else:\n",
    "            action = self.argmax(current_q)\n",
    "\n",
    "        return action\n",
    "        \n",
    "\n",
    "    def argmax(self, q_values):\n",
    "        \"\"\"Return the index of maximum value with ties broken randomly.\n",
    "\n",
    "        Args:\n",
    "            q_values (numpy.ndarray): A shape-(n_actions,) array of estimated\n",
    "                action_values.\n",
    "\n",
    "        Returns:\n",
    "            index (int): Index of the maximal value.\n",
    "        \"\"\"\n",
    "\n",
    "        ties = np.flatnonzero(np.isclose(q_values, max(q_values)))\n",
    "        index = self.rng.choice(ties)\n",
    "\n",
    "        return index\n",
    "\n",
    "\n",
    "    def start(self, state, maint):\n",
    "        \"\"\"Selects action in inital state\n",
    "\n",
    "        Args:\n",
    "            state (int): initial state\n",
    "            maint (int): initial maint\n",
    "        Returns:\n",
    "            action (int): initial action\n",
    "        \"\"\"\n",
    "\n",
    "        action = self.select_action(state, maint)\n",
    "\n",
    "        self.previous_state = state\n",
    "        self.previous_maint = maint\n",
    "        self.previous_action = action\n",
    "\n",
    "        return action"
   ]
  },
  {
   "cell_type": "code",
   "execution_count": 799,
   "metadata": {
    "id": "a5m9KBzwTShr"
   },
   "outputs": [],
   "source": [
    "env = AssetReplacementEnv()\n",
    "\n",
    "num_actions = env.action_space.n\n",
    "epsilon = 0.5\n",
    "step_size = 0.2\n",
    "discount = 0.9\n",
    "\n",
    "\n",
    "agent_info = {\"n_actions\": n_actions,\n",
    "              \"epsilon\": epsilon,\n",
    "              \"step_size\": step_size,\n",
    "              \"discount\": discount}\n",
    "\n",
    "\n",
    "agent = ExpectedSarsaAgent(agent_info)\n",
    "\n",
    "\n",
    "n_episodes = 1000\n",
    "timesteps = 20\n",
    "\n",
    "for _ in range(n_episodes):\n",
    "    state, maint = env.reset()\n",
    "    action = agent.start(state, maint)\n",
    "\n",
    "    for t in range(timesteps):\n",
    "        state, maint, reward, _, _ = env.step(action)\n",
    "        action = agent.step(reward, state, maint)\n"
   ]
  },
  {
   "cell_type": "markdown",
   "metadata": {},
   "source": [
    "\n",
    "---\n",
    "\n",
    "**Evaluation**\n",
    "\n",
    "\n",
    "---"
   ]
  },
  {
   "cell_type": "code",
   "execution_count": 801,
   "metadata": {},
   "outputs": [
    {
     "name": "stdout",
     "output_type": "stream",
     "text": [
      "Sum of 20 years profit averaged by another 1000 simulation:158.41\n"
     ]
    }
   ],
   "source": [
    "# the averaged 20 years profit vary within 20 and increase the size of simulation wont decrease the variation,\n",
    "# so it is quite convincing for the evaluation of the agent\n",
    "n_avg = 1000\n",
    "sum_prof = 0\n",
    "for i in range(n_avg):\n",
    "    sum_period = 0\n",
    "    state, maint = env.reset()\n",
    "    action = agent.start(state, maint)\n",
    "\n",
    "    for t in range(timesteps):\n",
    "        state, maint, reward,  _, _ = env.step(action)\n",
    "        action = agent.step(reward, state, maint)\n",
    "        state_path.append(state)\n",
    "        maint_path.append(maint)\n",
    "        action_path.append(action)\n",
    "    \n",
    "    sum_period = env.sumprofit(state_path, maint_path, action_path, timesteps)\n",
    "    #print('20 year sum: '+ str(sum_period))\n",
    "    sum_prof += sum_period\n",
    "\n",
    "avg_prof = sum_prof/n_avg\n",
    "avg_prof\n",
    "print('Sum of 20 years profit averaged by another '+ str(n_avg)+' simulation:' + str(avg_prof))"
   ]
  },
  {
   "cell_type": "code",
   "execution_count": 796,
   "metadata": {
    "scrolled": true
   },
   "outputs": [
    {
     "data": {
      "text/html": [
       "<div>\n",
       "<style scoped>\n",
       "    .dataframe tbody tr th:only-of-type {\n",
       "        vertical-align: middle;\n",
       "    }\n",
       "\n",
       "    .dataframe tbody tr th {\n",
       "        vertical-align: top;\n",
       "    }\n",
       "\n",
       "    .dataframe thead th {\n",
       "        text-align: right;\n",
       "    }\n",
       "</style>\n",
       "<table border=\"1\" class=\"dataframe\">\n",
       "  <thead>\n",
       "    <tr style=\"text-align: right;\">\n",
       "      <th></th>\n",
       "      <th>epsilon</th>\n",
       "      <th>step_size</th>\n",
       "      <th>discount</th>\n",
       "      <th>performance</th>\n",
       "    </tr>\n",
       "  </thead>\n",
       "  <tbody>\n",
       "    <tr>\n",
       "      <th>0</th>\n",
       "      <td>0.7</td>\n",
       "      <td>0.2</td>\n",
       "      <td>0.9</td>\n",
       "      <td>138.775</td>\n",
       "    </tr>\n",
       "  </tbody>\n",
       "</table>\n",
       "</div>"
      ],
      "text/plain": [
       "   epsilon  step_size  discount  performance\n",
       "0      0.7        0.2       0.9      138.775"
      ]
     },
     "execution_count": 796,
     "metadata": {},
     "output_type": "execute_result"
    }
   ],
   "source": [
    "import pandas as pd\n",
    "param_perform = {'epsilon': [epsilon],\n",
    "                'step_size': [step_size],\n",
    "                'discount': [discount],\n",
    "                'performance': [avg_prof]}\n",
    "df_parper = pd.DataFrame (param_perform, columns = ['epsilon','step_size','discount','performance'])\n",
    "df_parper"
   ]
  },
  {
   "cell_type": "code",
   "execution_count": 797,
   "metadata": {},
   "outputs": [],
   "source": [
    "df_epsilon = df_parper"
   ]
  },
  {
   "cell_type": "code",
   "execution_count": 731,
   "metadata": {},
   "outputs": [],
   "source": [
    "#df_epsilon_all = df_epsilon"
   ]
  },
  {
   "cell_type": "code",
   "execution_count": 798,
   "metadata": {
    "scrolled": false
   },
   "outputs": [
    {
     "data": {
      "text/html": [
       "<div>\n",
       "<style scoped>\n",
       "    .dataframe tbody tr th:only-of-type {\n",
       "        vertical-align: middle;\n",
       "    }\n",
       "\n",
       "    .dataframe tbody tr th {\n",
       "        vertical-align: top;\n",
       "    }\n",
       "\n",
       "    .dataframe thead th {\n",
       "        text-align: right;\n",
       "    }\n",
       "</style>\n",
       "<table border=\"1\" class=\"dataframe\">\n",
       "  <thead>\n",
       "    <tr style=\"text-align: right;\">\n",
       "      <th></th>\n",
       "      <th>epsilon</th>\n",
       "      <th>step_size</th>\n",
       "      <th>discount</th>\n",
       "      <th>performance</th>\n",
       "    </tr>\n",
       "  </thead>\n",
       "  <tbody>\n",
       "    <tr>\n",
       "      <th>0</th>\n",
       "      <td>0.05</td>\n",
       "      <td>0.2</td>\n",
       "      <td>0.9</td>\n",
       "      <td>-60.930</td>\n",
       "    </tr>\n",
       "    <tr>\n",
       "      <th>1</th>\n",
       "      <td>0.10</td>\n",
       "      <td>0.2</td>\n",
       "      <td>0.9</td>\n",
       "      <td>-12.200</td>\n",
       "    </tr>\n",
       "    <tr>\n",
       "      <th>2</th>\n",
       "      <td>0.20</td>\n",
       "      <td>0.2</td>\n",
       "      <td>0.9</td>\n",
       "      <td>61.555</td>\n",
       "    </tr>\n",
       "    <tr>\n",
       "      <th>3</th>\n",
       "      <td>0.30</td>\n",
       "      <td>0.2</td>\n",
       "      <td>0.9</td>\n",
       "      <td>90.375</td>\n",
       "    </tr>\n",
       "    <tr>\n",
       "      <th>4</th>\n",
       "      <td>0.40</td>\n",
       "      <td>0.2</td>\n",
       "      <td>0.9</td>\n",
       "      <td>146.365</td>\n",
       "    </tr>\n",
       "    <tr>\n",
       "      <th>5</th>\n",
       "      <td>0.50</td>\n",
       "      <td>0.2</td>\n",
       "      <td>0.9</td>\n",
       "      <td>158.740</td>\n",
       "    </tr>\n",
       "    <tr>\n",
       "      <th>6</th>\n",
       "      <td>0.60</td>\n",
       "      <td>0.2</td>\n",
       "      <td>0.9</td>\n",
       "      <td>149.830</td>\n",
       "    </tr>\n",
       "    <tr>\n",
       "      <th>7</th>\n",
       "      <td>0.70</td>\n",
       "      <td>0.2</td>\n",
       "      <td>0.9</td>\n",
       "      <td>138.775</td>\n",
       "    </tr>\n",
       "  </tbody>\n",
       "</table>\n",
       "</div>"
      ],
      "text/plain": [
       "   epsilon  step_size  discount  performance\n",
       "0     0.05        0.2       0.9      -60.930\n",
       "1     0.10        0.2       0.9      -12.200\n",
       "2     0.20        0.2       0.9       61.555\n",
       "3     0.30        0.2       0.9       90.375\n",
       "4     0.40        0.2       0.9      146.365\n",
       "5     0.50        0.2       0.9      158.740\n",
       "6     0.60        0.2       0.9      149.830\n",
       "7     0.70        0.2       0.9      138.775"
      ]
     },
     "execution_count": 798,
     "metadata": {},
     "output_type": "execute_result"
    }
   ],
   "source": [
    "df_epsilon_all = df_epsilon_all.append(df_epsilon, ignore_index = True)\n",
    "df_epsilon_all"
   ]
  },
  {
   "cell_type": "markdown",
   "metadata": {},
   "source": [
    "\n",
    "---\n",
    "\n",
    "**Plot one simulation of best performance**\n",
    "\n",
    "\n",
    "---\n"
   ]
  },
  {
   "cell_type": "code",
   "execution_count": 830,
   "metadata": {
    "id": "OBSq1sUzNIgQ"
   },
   "outputs": [],
   "source": [
    "# Perform path simulation\n",
    "state, maint = env.reset()\n",
    "action = agent.start(state, maint)\n",
    "\n",
    "state_path = [state]\n",
    "maint_path = [maint]\n",
    "action_path = [action]\n",
    "\n",
    "for t in range(timesteps):\n",
    "    state, maint, reward, done, _ = env.step(action)\n",
    "    action = agent.step(reward, state, maint)\n",
    "\n",
    "    state_path.append(state)\n",
    "    maint_path.append(maint)\n",
    "    action_path.append(action)"
   ]
  },
  {
   "cell_type": "code",
   "execution_count": 831,
   "metadata": {
    "scrolled": true
   },
   "outputs": [
    {
     "name": "stdout",
     "output_type": "stream",
     "text": [
      "Performance of the simulation is: 235.0\n"
     ]
    }
   ],
   "source": [
    "performance = env.sumprofit(state_path, maint_path, action_path, timesteps)\n",
    "print('Performance of the simulation is: ' + str(performance))"
   ]
  },
  {
   "cell_type": "code",
   "execution_count": 832,
   "metadata": {
    "scrolled": true
   },
   "outputs": [
    {
     "data": {
      "text/plain": [
       "defaultdict(float,\n",
       "            {(0, 0): 130.6810144635827,\n",
       "             (1, 0): 107.5964539498988,\n",
       "             (2, 0): 80.96677016187063,\n",
       "             (2, 1): 82.74936599233739,\n",
       "             (3, 0): 56.31691948905574,\n",
       "             (3, 1): 56.750451200830454,\n",
       "             (3, 2): 57.31834851093558,\n",
       "             (4, 0): 56.443225414085084,\n",
       "             (4, 1): 56.00310172247173,\n",
       "             (4, 2): 57.597446688754154,\n",
       "             (4, 3): 15.116560632936864,\n",
       "             (5, 0): 56.47414602717905,\n",
       "             (5, 1): 55.57370487528717,\n",
       "             (5, 2): 56.951661729761646,\n",
       "             (5, 3): 55.989970639691975})"
      ]
     },
     "execution_count": 832,
     "metadata": {},
     "output_type": "execute_result"
    }
   ],
   "source": [
    "V"
   ]
  },
  {
   "cell_type": "code",
   "execution_count": 833,
   "metadata": {
    "id": "YcOYKVtD_zcH"
   },
   "outputs": [],
   "source": [
    "# extract the value and policy function from action value function\n",
    "V = defaultdict(float)\n",
    "policy = defaultdict(int)\n",
    "for state_maint, values in sorted(agent.q.items()):\n",
    "    value = np.max(values)\n",
    "    V[state_maint] = value\n",
    "    action = np.argmax(values)\n",
    "    policy[state_maint] = action\n",
    "    "
   ]
  },
  {
   "cell_type": "code",
   "execution_count": 835,
   "metadata": {
    "colab": {
     "base_uri": "https://localhost:8080/",
     "height": 299
    },
    "executionInfo": {
     "elapsed": 1859,
     "status": "ok",
     "timestamp": 1606150702066,
     "user": {
      "displayName": "Thomas Gehrmann",
      "photoUrl": "",
      "userId": "03269050171692580693"
     },
     "user_tz": -60
    },
    "id": "2Eev3SGGF6wa",
    "outputId": "20d29d80-44fd-4f34-aa4c-b9dd08913b23",
    "scrolled": true
   },
   "outputs": [
    {
     "data": {
      "image/png": "[encoded data removed]",
      "text/plain": [
       "<Figure size 1152x288 with 1 Axes>"
      ]
     },
     "metadata": {},
     "output_type": "display_data"
    }
   ],
   "source": [
    "fig = plt.figure(figsize=(16, 4))\n",
    "plt.plot(state_path, label='Age of machine')\n",
    "plt.plot(action_path, 'o', label='Decision')\n",
    "plt.plot(maint_path, 'x', label='Maintenance failure')\n",
    "plt.title('State and action path')\n",
    "plt.xlabel('Time step')\n",
    "plt.legend()\n",
    "plt.savefig('ExSarsa_Path' + '-'+ str(n_episodes)+'-' + str(discount)+'-'+ str(step_size)+'-'+ str(epsilon) +'.pdf')\n",
    "plt.show()\n"
   ]
  },
  {
   "cell_type": "code",
   "execution_count": 34,
   "metadata": {},
   "outputs": [
    {
     "data": {
      "text/plain": [
       "defaultdict(float,\n",
       "            {(0, 0): 84.1222002808312,\n",
       "             (1, 0): 47.140063537104865,\n",
       "             (2, 0): 16.050853970239025,\n",
       "             (2, 1): 39.58283698273672,\n",
       "             (3, 0): 23.162983296941466,\n",
       "             (3, 1): 23.766612519509792,\n",
       "             (3, 2): 16.647856193434432,\n",
       "             (4, 0): 25.919437153578343,\n",
       "             (4, 1): 15.263270048004747,\n",
       "             (4, 2): 20.82652075434692,\n",
       "             (4, 3): 7.713690573523174,\n",
       "             (5, 1): 7.7519884973199265,\n",
       "             (5, 2): 14.818426693101566,\n",
       "             (5, 3): 12.420384946020565})"
      ]
     },
     "execution_count": 34,
     "metadata": {},
     "output_type": "execute_result"
    }
   ],
   "source": [
    "V"
   ]
  },
  {
   "cell_type": "code",
   "execution_count": 837,
   "metadata": {
    "scrolled": true
   },
   "outputs": [
    {
     "data": {
      "image/png": "[encoded data removed]",
      "text/plain": [
       "<Figure size 576x576 with 2 Axes>"
      ]
     },
     "metadata": {},
     "output_type": "display_data"
    }
   ],
   "source": [
    "\n",
    "plt.figure(figsize=(8,8))\n",
    "ser = pd.Series(list(V.values()),\n",
    "                  index= pd.MultiIndex.from_tuples( V.keys(), names=[\"Age of machine\", \"Times of matainenace failure\"]))\n",
    "df = ser.unstack().fillna(-1)\n",
    "#df.shape\n",
    "sns.heatmap(df, annot=True, fmt = 'g')\n",
    "plt.savefig('ExSarsa_Q' + '-'+ str(n_episodes)+'-' + str(discount)+'-'+ str(step_size)+'-'+ str(epsilon) +'.pdf')\n",
    "plt.show()"
   ]
  },
  {
   "cell_type": "code",
   "execution_count": 103,
   "metadata": {
    "scrolled": false
   },
   "outputs": [
    {
     "data": {
      "image/png": "[encoded data removed]",
      "text/plain": [
       "<Figure size 576x576 with 2 Axes>"
      ]
     },
     "metadata": {},
     "output_type": "display_data"
    }
   ],
   "source": [
    "plt.figure(figsize=(8,8))\n",
    "ser = pd.Series(list(policy.values()),\n",
    "                  index= pd.MultiIndex.from_tuples( policy.keys(), names=[\"Age of machine\", \"Times of matainenace failure\"]))\n",
    "df = ser.unstack().fillna(-1)\n",
    "#df.shape\n",
    "sns.heatmap(df, annot=True, fmt = 'g')\n",
    "plt.savefig('ExSarsa_Policy' +'-' +str(n_episodes)+'-' + str(discount)+'-'+ str(step_size)+'-'+ str(epsilon) +'.pdf')\n",
    "plt.show()"
   ]
  },
  {
   "cell_type": "code",
   "execution_count": null,
   "metadata": {},
   "outputs": [],
   "source": []
  },
  {
   "cell_type": "code",
   "execution_count": null,
   "metadata": {},
   "outputs": [],
   "source": []
  },
  {
   "cell_type": "code",
   "execution_count": 34,
   "metadata": {
    "scrolled": true
   },
   "outputs": [],
   "source": [
    "X =  np.array([x[0] for x in list(V.keys())])"
   ]
  },
  {
   "cell_type": "code",
   "execution_count": 35,
   "metadata": {
    "scrolled": false
   },
   "outputs": [],
   "source": [
    "Y = np.array([x[1] for x in list(V.keys())])"
   ]
  },
  {
   "cell_type": "code",
   "execution_count": 36,
   "metadata": {
    "scrolled": true
   },
   "outputs": [],
   "source": [
    "Z = np.array( list(V.values()))"
   ]
  },
  {
   "cell_type": "code",
   "execution_count": 38,
   "metadata": {
    "colab": {
     "base_uri": "https://localhost:8080/",
     "height": 299
    },
    "executionInfo": {
     "elapsed": 893,
     "status": "ok",
     "timestamp": 1606149675796,
     "user": {
      "displayName": "Thomas Gehrmann",
      "photoUrl": "",
      "userId": "03269050171692580693"
     },
     "user_tz": -60
    },
    "id": "79ZJL9pWitKW",
    "outputId": "81706294-fd38-4471-ca34-a3ba41bab99e",
    "scrolled": true
   },
   "outputs": [
    {
     "data": {
      "image/png": "[encoded data removed]",
      "text/plain": [
       "<Figure size 432x288 with 1 Axes>"
      ]
     },
     "metadata": {},
     "output_type": "display_data"
    }
   ],
   "source": [
    "fig = plt.figure()\n",
    "ax = fig.gca(projection='3d')\n",
    "ax.plot_trisurf(X,Y,Z)\n",
    "ax.set_title('Value function')\n",
    "ax.set_xlabel('Age of machine')\n",
    "ax.set_ylabel( 'Maintenance failure')\n",
    "plt.show()"
   ]
  }
 ],
 "metadata": {
  "colab": {
   "collapsed_sections": [],
   "name": "5a_TD_Asset_Replacement.ipynb",
   "provenance": [],
   "toc_visible": true
  },
  "kernelspec": {
   "display_name": "Python 3",
   "language": "python",
   "name": "python3"
  },
  "language_info": {
   "codemirror_mode": {
    "name": "ipython",
    "version": 3
   },
   "file_extension": ".py",
   "mimetype": "text/x-python",
   "name": "python",
   "nbconvert_exporter": "python",
   "pygments_lexer": "ipython3",
   "version": "3.7.9"
  }
 },
 "nbformat": 4,
 "nbformat_minor": 1
}
