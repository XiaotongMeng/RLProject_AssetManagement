{
 "cells": [
  {
   "cell_type": "markdown",
   "metadata": {
    "id": "zXkFNLxj7vm9"
   },
   "source": [
    "# **Project: Asset Replacement with Maintenance**\n",
    "\n"
   ]
  },
  {
   "cell_type": "markdown",
   "metadata": {
    "id": "P3yPdi4A-Hqg"
   },
   "source": [
    "   At the beginning of each year, a manufacturer must decide wheter to continue to operate an aging physical asset or replace it with a new one. If he keep the current asset, he must decide whether to perform annual service maintenance to prevent the asset from failing. An asset that is $s$ years old yields a profit contribution $p(s)$ up to $n=5$ years, at which point the asset becomes unsafe and must be replaced by law. An asset that is $s$ years old and has been maintained $m$ times fails with probability $μ(s,m)$ and yields a proft of 0 in that year. The cost of a new asset is $c = 75$ and the cost of of servicing an asset is $k=10$.\n",
    "\n",
    "  What replacement-maintenance policy maximizes profits?"
   ]
  },
  {
   "cell_type": "markdown",
   "metadata": {
    "id": "pJCtVBVv7w2B"
   },
   "source": [
    "## **Model**"
   ]
  },
  {
   "cell_type": "markdown",
   "metadata": {
    "id": "TcSl6EbrFj8g"
   },
   "source": [
    "This is an infinite horizon deterministic model with time $t$ measured\n",
    "in years.\n",
    "\n",
    "The age is a discrete state variable:\n",
    "- $s \\in \\{0, 1, 2, 3, 4, 5\\}$\n",
    "\n",
    "The variable $m$ is the number of times that the asset has been maintained:\n",
    "- $m \\in \\{0, 1, 2, 3, 4, 5\\}$\n",
    "\n",
    "\n",
    "The action variable $a$ is the keep-replacement decision:\n",
    "- $a \\in \\{$keep, replace$\\}$\n",
    "\n",
    "\n",
    "The state transition function is:\n",
    "- $t(s, a) = \\begin{cases}\n",
    "  s+1,  & a = \\text{ keep}\\\\\n",
    "  1, & a = \\text{ replace}\n",
    "\\end{cases}$\n",
    "\n",
    "The reward function is:\n",
    "- $r(s, a) = \\begin{cases}\n",
    "  p(s),  & a = \\text{ keep}\\\\\n",
    "  p(0)- c, & a = \\text{ replace}\n",
    "\\end{cases}$\n",
    "\n",
    "with $p(s) = 50 - 2.5\\cdot s - 2.5\\cdot s^2$. "
   ]
  },
  {
   "cell_type": "markdown",
   "metadata": {
    "id": "dlcKDHVmHJX-"
   },
   "source": [
    "# **Environment**"
   ]
  },
  {
   "cell_type": "code",
   "execution_count": 1,
   "metadata": {
    "id": "2KryPHJRHMnk"
   },
   "outputs": [],
   "source": [
    "import gym\n",
    "from gym import spaces\n",
    "\n",
    "import numpy as np\n",
    "from numpy.random import default_rng\n",
    "\n",
    "from collections import defaultdict\n",
    "\n",
    "import matplotlib.pyplot as plt\n",
    "from matplotlib import style\n",
    "style.use('ggplot')"
   ]
  },
  {
   "cell_type": "code",
   "execution_count": 9,
   "metadata": {
    "id": "r-jtG7AaI6VI"
   },
   "outputs": [],
   "source": [
    "class AssetReplacementEnv(gym.Env):\n",
    "    \"\"\"Custom Environment that follows gym interface\"\"\"\n",
    "    metadata = {'render.modes': ['human']}\n",
    "\n",
    "    def __init__(self):\n",
    "        super(AssetReplacementEnv, self).__init__()\n",
    "\n",
    "        # 0 keep, 1 replace\n",
    "        n_actions = 2\n",
    "        self.action_space = spaces.Discrete(n_actions)\n",
    "\n",
    "        # With spaces.Tuple you can create a multidimensional state\n",
    "        # In our simple model observation and state are synonyms\n",
    "        self.n_states = 6\n",
    "        self.observation_space = spaces.Discrete(self.n_states)\n",
    "\n",
    "        self.cost = 75\n",
    "        \n",
    "        self.rng = default_rng()\n",
    "        \n",
    "        \n",
    "    def step(self, action):\n",
    "        \"\"\"\n",
    "        State transition of the model.\n",
    "\n",
    "        \"\"\"\n",
    "        assert self.action_space.contains(action), \"%r (%s) invalid\" % (action, type(action))\n",
    " \n",
    "\n",
    "        ### START YOUR CODE HERE ###\n",
    "        # calculate the reward and the state transition\n",
    "        if action:  # action = 0 keep, 1 replace\n",
    "            reward = self.profit(0) - 75\n",
    "            self.state = 1 \n",
    "        else:\n",
    "            reward = self.profit(self.state)\n",
    "            self.state += 1 \n",
    "        ### END OF YOUR CODE ###\n",
    "\n",
    "\n",
    "        # This is a continuing task, so done is always false\n",
    "        done = False\n",
    "\n",
    "        info = {}\n",
    "\n",
    "        return self.state, reward, done, info\n",
    "\n",
    "\n",
    "    def profit(self, state):\n",
    "        return 50 - 2.5*state - 2.5*state**2\n",
    "        \n",
    "\n",
    "    def reset(self):\n",
    "        # set initial state (age of machine) to 0\n",
    "        self.state = 0\n",
    "                      \n",
    "        return self.state\n",
    "\n",
    "\n",
    "    # We will not implement render and close function\n",
    "    def render(self, mode='human'):\n",
    "        pass\n",
    "    def close (self):\n",
    "        pass"
   ]
  },
  {
   "cell_type": "markdown",
   "metadata": {
    "id": "48EsxbJYuNvd"
   },
   "source": [
    "# **Sarsa Agent**"
   ]
  },
  {
   "cell_type": "code",
   "execution_count": 14,
   "metadata": {
    "id": "xOSSrCuhn7AD"
   },
   "outputs": [],
   "source": [
    "class SarsaAgent():\n",
    "    def __init__(self, agent_info):\n",
    "        \"\"\"Initialize Agent.\n",
    "\n",
    "        Args: \n",
    "            agent_info (dict): Parameters used to initialize agent.\n",
    "            {\n",
    "                n_actions (int): Number of actions.\n",
    "                epsilon (float): Exploration parameter.\n",
    "                step_size (float): Learning rate alpha.\n",
    "                discount (float): Discount factor gamma.\n",
    "            }\n",
    "        \"\"\"\n",
    "\n",
    "        self.n_actions = agent_info[\"n_actions\"]\n",
    "        self.epsilon = agent_info[\"epsilon\"]\n",
    "        self.step_size = agent_info[\"step_size\"]\n",
    "        self.discount = agent_info[\"discount\"]\n",
    "\n",
    "        self.rng = default_rng()\n",
    "\n",
    "        # Create a dict for action-value estimates and initialize it to zero.\n",
    "        self.q = defaultdict(lambda: np.zeros(self.n_actions))         \n",
    "\n",
    "\n",
    "    def step(self, reward, state):\n",
    "        \"\"\"A step taken by the agent.\n",
    "\n",
    "        Args:\n",
    "            state (int):  Current state, i.e. age of asset.\n",
    "        \n",
    "        Returns:\n",
    "            action (int): Action the agent takes.\n",
    "        \"\"\"\n",
    "\n",
    "        # choose action using epsilon greedy policy\n",
    "        action = self.select_action(state)\n",
    "\n",
    "        ### START YOUR CODE HERE ###\n",
    "        # perform update\n",
    "        target = reward + self.discount*self.q[state][action]\n",
    "        td_error = target - self.q[self.previous_state][self.previous_action]\n",
    "        self.q[self.previous_state][self.previous_action] += self.step_size* td_error\n",
    "        ### END OF YOUR CODE ###\n",
    "\n",
    "        # save current state and action\n",
    "        self.previous_state = state\n",
    "        self.previous_action = action\n",
    "\n",
    "        return action\n",
    "\n",
    "        \n",
    "    def select_action(self, state):\n",
    "        \"\"\"Select action using epsilon greedy policy.\n",
    "\n",
    "        Args:\n",
    "            state (int): Current state, i.e. age of asset.\n",
    "\n",
    "        Returns:\n",
    "            action (int): Action the agent takes.\n",
    "        \"\"\"\n",
    "\n",
    "        ### START YOUR CODE HERE ###\n",
    "        # performe epsilon greedy policy improvement\n",
    "        # remember to replace asset if age is 5\n",
    "        if state==5:\n",
    "            return 1\n",
    "        if  self.rng.random() < self.epsilon:\n",
    "            action = self.rng.choice(n_actions)\n",
    "        else:\n",
    "            action = self.argmax(self.q[state])\n",
    "                \n",
    "                \n",
    "            \n",
    "        ### END OF YOUR CODE ###\n",
    "\n",
    "        return action\n",
    "        \n",
    " \n",
    "    def argmax(self, q_values):\n",
    "        \"\"\"Return the index of maximum value with ties broken randomly.\n",
    "\n",
    "        Args:\n",
    "            q_values (numpy.ndarray): A shape-(n_actions,) array of estimated\n",
    "                action_values.\n",
    "\n",
    "        Returns:\n",
    "            index (int): Index of the maximal value.\n",
    "        \"\"\"\n",
    "        ties = np.flatnonzero(np.isclose(q_values, max(q_values)))\n",
    "        index = self.rng.choice(ties)\n",
    "\n",
    "        return index\n",
    "\n",
    "\n",
    "    def start(self, state):\n",
    "        \"\"\"Selects action in inital state\n",
    "\n",
    "        Args:\n",
    "            state (int): initial state\n",
    "        \n",
    "        Returns:\n",
    "            action (int): initial action\n",
    "        \"\"\"\n",
    "\n",
    "        action = self.select_action(state)\n",
    "\n",
    "        self.previous_state = state\n",
    "        self.previous_action = action\n",
    "\n",
    "        return action\n",
    "\n"
   ]
  },
  {
   "cell_type": "code",
   "execution_count": 15,
   "metadata": {
    "id": "MfXrCpAbTX5c"
   },
   "outputs": [],
   "source": [
    "env = AssetReplacementEnv()\n",
    "\n",
    "n_actions = env.action_space.n\n",
    "epsilon = 0.05\n",
    "step_size = 0.2\n",
    "discount = 0.9\n",
    "\n",
    "\n",
    "agent_info = {\"n_actions\": n_actions,\n",
    "              \"epsilon\": epsilon,\n",
    "              \"step_size\": step_size,\n",
    "              \"discount\": discount}\n",
    "\n",
    "\n",
    "agent = SarsaAgent(agent_info)\n",
    "\n",
    "n_episodes = 500\n",
    "timesteps = 20\n",
    "\n",
    "for i in range(n_episodes):\n",
    "    state = env.reset()\n",
    "    action = agent.start(state)\n",
    "\n",
    "    for t in range(timesteps):\n",
    "        state, reward, _, _ = env.step(action)\n",
    "        action = agent.step(reward, state)\n"
   ]
  },
  {
   "cell_type": "code",
   "execution_count": 16,
   "metadata": {
    "id": "mWfLrcP5FOCg"
   },
   "outputs": [],
   "source": [
    "# Perform path simulation\n",
    "state = env.reset()\n",
    "action = agent.start(state)\n",
    "\n",
    "state_path = [state]\n",
    "action_path = [action]\n",
    "\n",
    "\n",
    "for t in range(timesteps):\n",
    "    state, reward, _, _ = env.step(action)\n",
    "    action = agent.step(reward, state)\n",
    "\n",
    "    state_path.append(state)\n",
    "    action_path.append(action)"
   ]
  },
  {
   "cell_type": "markdown",
   "metadata": {
    "id": "D4FVxeMSrUAE"
   },
   "source": [
    "\n",
    "---\n",
    "\n",
    "**Plot the episode**\n",
    "\n",
    "\n",
    "---\n"
   ]
  },
  {
   "cell_type": "code",
   "execution_count": 17,
   "metadata": {
    "id": "2k6Oy7jLpfiR"
   },
   "outputs": [],
   "source": [
    "# extract the value function from action value function\n",
    "V = defaultdict(float)\n",
    "for state, values in sorted(agent.q.items()):\n",
    "    value = np.max(values)\n",
    "    V[state] = value\n"
   ]
  },
  {
   "cell_type": "code",
   "execution_count": 18,
   "metadata": {
    "colab": {
     "base_uri": "https://localhost:8080/",
     "height": 299
    },
    "executionInfo": {
     "elapsed": 893,
     "status": "ok",
     "timestamp": 1606149675796,
     "user": {
      "displayName": "Thomas Gehrmann",
      "photoUrl": "",
      "userId": "03269050171692580693"
     },
     "user_tz": -60
    },
    "id": "79ZJL9pWitKW",
    "outputId": "81706294-fd38-4471-ca34-a3ba41bab99e"
   },
   "outputs": [
    {
     "data": {
      "image/png": "[encoded data removed]",
      "text/plain": [
       "<Figure size 1152x288 with 2 Axes>"
      ]
     },
     "metadata": {},
     "output_type": "display_data"
    }
   ],
   "source": [
    "fig, ax = plt.subplots(1, 2, figsize=(16, 4))\n",
    "\n",
    "ax[0].plot(state_path, label='Age of machine')\n",
    "ax[0].plot(action_path, 'o', label='Decision')\n",
    "ax[0].set_title('State and action path')\n",
    "ax[0].set_xlabel('Time step')\n",
    "ax[0].legend()\n",
    "\n",
    "ax[1].plot(list(V.keys()), list(V.values()))\n",
    "ax[1].set_title('Value function')\n",
    "ax[1].set_xlabel('Age of machine')\n",
    "\n",
    "\n",
    "plt.show()"
   ]
  },
  {
   "cell_type": "markdown",
   "metadata": {
    "id": "L_0Qq9vBFXZu"
   },
   "source": [
    "# **Q-Learning Agent**"
   ]
  },
  {
   "cell_type": "code",
   "execution_count": 19,
   "metadata": {
    "id": "-Fpwfg7SFTgy"
   },
   "outputs": [],
   "source": [
    "class QLearningAgent():\n",
    "    def __init__(self, agent_info):\n",
    "        \"\"\"Initialize Agent\n",
    "\n",
    "        Args: \n",
    "            agent_info (dict): Parameters used to initialize agent.\n",
    "            {\n",
    "                n_actions (int): Number of actions.\n",
    "                epsilon (float): Exploration parameter.\n",
    "                step_size (float): Learning rate alpha.\n",
    "                discount (float): Discount factor gamma.\n",
    "            }\n",
    "        \"\"\"\n",
    "        self.n_actions = agent_info[\"n_actions\"]\n",
    "        self.epsilon = agent_info[\"epsilon\"]\n",
    "        self.step_size = agent_info[\"step_size\"]\n",
    "        self.discount = agent_info[\"discount\"]\n",
    "\n",
    "        self.rng = default_rng()\n",
    "\n",
    "        # Create an array for action-value estimates and initialize it to zero.\n",
    "        self.q = defaultdict(lambda: np.zeros(self.n_actions))      \n",
    "\n",
    "\n",
    "    def step(self, reward, state):\n",
    "        \"\"\"A step taken by the agent\n",
    "\n",
    "        Args:\n",
    "            next_state (int):  next state from the environment\n",
    "        \n",
    "        Returns:\n",
    "            next_action (int): action the agent takes in next_state\n",
    "        \"\"\"\n",
    "\n",
    "        # choose action using epsilon greedy policy\n",
    "        action = self.select_action(state)\n",
    "\n",
    "        ### START YOUR CODE HERE ###\n",
    "        # perform update\n",
    "        target = reward + self.discount* np.max(self.q[state])\n",
    "        td_error = target- self.q[self.previous_state][self.previous_action]\n",
    "        self.q[self.previous_state][self.previous_action] += self.step_size * td_error\n",
    "        ### END OF YOUR CODE ###\n",
    "\n",
    "        # save current state and action\n",
    "        self.previous_state = state\n",
    "        self.previous_action = action\n",
    "\n",
    "        return action\n",
    "\n",
    "        \n",
    "    def select_action(self, state):\n",
    "        \"\"\"Select action using epsilon greedy policy\n",
    "\n",
    "        Args:\n",
    "            state (int): current state\n",
    "\n",
    "        Returns:\n",
    "            action (int): action the agent takes\n",
    "        \"\"\"\n",
    "        \n",
    "        ### START YOUR CODE HERE ###\n",
    "        # performe epsilon greedy policy improvement\n",
    "        # remember to replace asset if age is 5\n",
    "        if state==5:\n",
    "            return 1\n",
    "        if  self.rng.random() < self.epsilon:\n",
    "            action = self.rng.choice(n_actions)\n",
    "        else:\n",
    "            action = self.argmax(self.q[state])\n",
    "\n",
    "        ### END OF YOUR CODE ###\n",
    "\n",
    "        return action\n",
    "\n",
    "\n",
    "    def argmax(self, q_values):\n",
    "        \"\"\"Return the index of maximum value with ties broken randomly.\n",
    "\n",
    "        Args:\n",
    "            q_values (numpy.ndarray): A shape-(n_actions,) array of estimated\n",
    "                action_values.\n",
    "\n",
    "        Returns:\n",
    "            index (int): Index of the maximal value.\n",
    "        \"\"\"\n",
    "\n",
    "        ties = np.flatnonzero(np.isclose(q_values, max(q_values)))\n",
    "        index = self.rng.choice(ties)\n",
    "\n",
    "        return index\n",
    "\n",
    "\n",
    "    def start(self, state):\n",
    "        \"\"\"Selects action in inital state\n",
    "\n",
    "        Args:\n",
    "            state (int): initial state\n",
    "        \n",
    "        Returns:\n",
    "            action (int): initial action\n",
    "        \"\"\"\n",
    "\n",
    "        action = self.select_action(state)\n",
    "\n",
    "        self.previous_state = state\n",
    "        self.previous_action = action\n",
    "\n",
    "        return action\n"
   ]
  },
  {
   "cell_type": "code",
   "execution_count": null,
   "metadata": {
    "id": "dDltCN_bFxf5"
   },
   "outputs": [],
   "source": [
    "env = AssetReplacementEnv()\n",
    "\n",
    "n_actions = env.action_space.n\n",
    "epsilon = 0.2\n",
    "step_size = 0.4\n",
    "discount = 0.9\n",
    "\n",
    "\n",
    "agent_info = {\"n_actions\": n_actions,\n",
    "              \"epsilon\": epsilon,\n",
    "              \"step_size\": step_size,\n",
    "              \"discount\": discount}\n",
    "\n",
    "\n",
    "agent = QLearningAgent(agent_info)\n",
    "\n",
    "\n",
    "n_episodes = 500\n",
    "timesteps = 20\n",
    "\n",
    "for i in range(n_episodes):\n",
    "    state = env.reset()\n",
    "    action = agent.start(state)\n",
    "\n",
    "    for t in range(timesteps):\n",
    "        state, reward, _, _ = env.step(action)\n",
    "        action = agent.step(reward, state)\n"
   ]
  },
  {
   "cell_type": "code",
   "execution_count": null,
   "metadata": {
    "id": "d2hfup9vJ9Nh"
   },
   "outputs": [],
   "source": [
    "# Perform path simulation\n",
    "state = env.reset()\n",
    "\n",
    "agent.epsilon = 0\n",
    "action = agent.start(state)\n",
    "\n",
    "\n",
    "state_path = [state]\n",
    "action_path = [action]\n",
    "\n",
    "for t in range(timesteps):\n",
    "    state, reward, done, _ = env.step(action)\n",
    "    action = agent.step(reward, state)\n",
    "\n",
    "    state_path.append(state)\n",
    "    action_path.append(action)"
   ]
  },
  {
   "cell_type": "code",
   "execution_count": null,
   "metadata": {
    "id": "xFYsQEXdwzYz"
   },
   "outputs": [],
   "source": [
    "# extract the value and policy function from action value function\n",
    "V = defaultdict(float)\n",
    "policy = defaultdict(int)\n",
    "for state, values in sorted(agent.q.items()):\n",
    "    value = np.max(values)\n",
    "    V[state] = value\n"
   ]
  },
  {
   "cell_type": "code",
   "execution_count": null,
   "metadata": {
    "colab": {
     "base_uri": "https://localhost:8080/",
     "height": 299
    },
    "executionInfo": {
     "elapsed": 1859,
     "status": "ok",
     "timestamp": 1606150702066,
     "user": {
      "displayName": "Thomas Gehrmann",
      "photoUrl": "",
      "userId": "03269050171692580693"
     },
     "user_tz": -60
    },
    "id": "2Eev3SGGF6wa",
    "outputId": "20d29d80-44fd-4f34-aa4c-b9dd08913b23"
   },
   "outputs": [
    {
     "data": {
      "image/png": "[encoded data removed]",
      "text/plain": [
       "<Figure size 1152x288 with 2 Axes>"
      ]
     },
     "metadata": {
      "tags": []
     },
     "output_type": "display_data"
    }
   ],
   "source": [
    "fig, ax = plt.subplots(1, 2, figsize=(16, 4))\n",
    "\n",
    "ax[0].plot(state_path, label='Age of machine')\n",
    "ax[0].plot(action_path, 'o', label='Decision')\n",
    "ax[0].set_title('State and action path')\n",
    "ax[0].set_xlabel('Time step')\n",
    "ax[0].legend()\n",
    "\n",
    "ax[1].plot(list(V.keys()), list(V.values()))\n",
    "ax[1].set_title('Value function')\n",
    "ax[1].set_xlabel('Age of machine')\n",
    "\n",
    "\n",
    "plt.show()"
   ]
  },
  {
   "cell_type": "markdown",
   "metadata": {
    "id": "KZy9g1moMP2Z"
   },
   "source": [
    "# **Expected Sarsa**"
   ]
  },
  {
   "cell_type": "code",
   "execution_count": null,
   "metadata": {
    "id": "__3k0fSLMSm0"
   },
   "outputs": [],
   "source": [
    "class ExpectedSarsaAgent():\n",
    "    def __init__(self, agent_info):\n",
    "        \"\"\"Initialize Agent.\n",
    "\n",
    "        Args: \n",
    "            agent_info (dict): Parameters used to initialize agent.\n",
    "            {\n",
    "                n_actions (int): Number of actions.\n",
    "                epsilon (float): Exploration parameter.\n",
    "                step_size (float): Learning rate alpha.\n",
    "                discount (float): Discount factor gamma.\n",
    "            }\n",
    "        \"\"\"\n",
    "\n",
    "        self.n_actions = agent_info[\"n_actions\"]\n",
    "        self.epsilon = agent_info[\"epsilon\"]\n",
    "        self.step_size = agent_info[\"step_size\"]\n",
    "        self.discount = agent_info[\"discount\"]\n",
    "\n",
    "        self.rng = default_rng()\n",
    "\n",
    "        # Create an array for action-value estimates and initialize it to zero.\n",
    "        self.q = defaultdict(lambda: np.zeros(self.n_actions))        \n",
    "\n",
    "\n",
    "    def step(self, reward, state):\n",
    "        \"\"\"A step taken by the agent\n",
    "\n",
    "        Args:\n",
    "            state (int):  Current state, i.e. age of the asset.\n",
    "        \n",
    "        Returns:\n",
    "            action (int): Action the agent takes.\n",
    "        \"\"\"\n",
    "\n",
    "         # choose action using epsilon greedy policy\n",
    "        action = self.select_action(state)  \n",
    "\n",
    "        # perform update\n",
    "        policy = np.ones(self.n_actions)*self.epsilon/self.n_actions\n",
    "        policy[np.argmax(self.q[state])] += 1 - self.epsilon\n",
    "\n",
    "        expectation = self.q[state] @ policy\n",
    "\n",
    "\n",
    "        target = reward + self.discount * expectation\n",
    "        td_error = target - self.q[self.previous_state][self.previous_action]\n",
    "        self.q[self.previous_state][self.previous_action] += self.step_size * td_error\n",
    "\n",
    "\n",
    "\n",
    "        # save current state and action\n",
    "        self.previous_state = state\n",
    "        self.previous_action = action\n",
    "\n",
    "        return action\n",
    "\n",
    "        \n",
    "    def select_action(self, state):\n",
    "        \"\"\"Select action using epsilon greedy policy.\n",
    "\n",
    "        Args:\n",
    "            state (int): Current state, i.e. age of asset.\n",
    "\n",
    "        Returns:\n",
    "            action (int): Action the agent takes.\n",
    "        \"\"\"\n",
    "        if state == 5:\n",
    "            return 1\n",
    "\n",
    "        current_q  = self.q[state]\n",
    "        if self.rng.random() < self.epsilon:\n",
    "            action = self.rng.choice(self.n_actions)\n",
    "        else:\n",
    "            action = self.argmax(current_q)\n",
    "\n",
    "        return action\n",
    "        \n",
    "\n",
    "    def argmax(self, q_values):\n",
    "        \"\"\"Return the index of maximum value with ties broken randomly.\n",
    "\n",
    "        Args:\n",
    "            q_values (numpy.ndarray): A shape-(n_actions,) array of estimated\n",
    "                action_values.\n",
    "\n",
    "        Returns:\n",
    "            index (int): Index of the maximal value.\n",
    "        \"\"\"\n",
    "\n",
    "        ties = np.flatnonzero(np.isclose(q_values, max(q_values)))\n",
    "        index = self.rng.choice(ties)\n",
    "\n",
    "        return index\n",
    "\n",
    "\n",
    "    def start(self, state):\n",
    "        \"\"\"Selects action in inital state\n",
    "\n",
    "        Args:\n",
    "            state (int): initial state\n",
    "        \n",
    "        Returns:\n",
    "            action (int): initial action\n",
    "        \"\"\"\n",
    "\n",
    "        action = self.select_action(state)\n",
    "\n",
    "        self.previous_state = state\n",
    "        self.previous_action = action\n",
    "\n",
    "        return action"
   ]
  },
  {
   "cell_type": "code",
   "execution_count": null,
   "metadata": {
    "id": "a5m9KBzwTShr"
   },
   "outputs": [],
   "source": [
    "env = AssetReplacementEnv()\n",
    "\n",
    "num_actions = env.action_space.n\n",
    "epsilon = 0.05\n",
    "step_size = 0.2\n",
    "discount = 0.9\n",
    "\n",
    "\n",
    "agent_info = {\"n_actions\": n_actions,\n",
    "              \"epsilon\": epsilon,\n",
    "              \"step_size\": step_size,\n",
    "              \"discount\": discount}\n",
    "\n",
    "\n",
    "agent = ExpectedSarsaAgent(agent_info)\n",
    "\n",
    "\n",
    "n_episodes = 500\n",
    "timesteps = 20\n",
    "\n",
    "for _ in range(n_episodes):\n",
    "    state = env.reset()\n",
    "    action = agent.start(state)\n",
    "\n",
    "    for t in range(timesteps):\n",
    "        state, reward, _, _ = env.step(action)\n",
    "        action = agent.step(reward, state)\n"
   ]
  },
  {
   "cell_type": "code",
   "execution_count": null,
   "metadata": {
    "id": "OBSq1sUzNIgQ"
   },
   "outputs": [],
   "source": [
    "# Perform path simulation\n",
    "state = env.reset()\n",
    "action = agent.start(state)\n",
    "\n",
    "state_path = [state]\n",
    "action_path = [action]\n",
    "\n",
    "for t in range(timesteps):\n",
    "    state, reward, done, _ = env.step(action)\n",
    "    action = agent.step(reward, state)\n",
    "\n",
    "    state_path.append(state)\n",
    "    action_path.append(action)"
   ]
  },
  {
   "cell_type": "code",
   "execution_count": null,
   "metadata": {
    "id": "YcOYKVtD_zcH"
   },
   "outputs": [],
   "source": [
    "# extract the value and policy function from action value function\n",
    "V = defaultdict(float)\n",
    "for state, values in sorted(agent.q.items()):\n",
    "    value = np.max(values)\n",
    "    V[state] = value\n",
    "    "
   ]
  },
  {
   "cell_type": "code",
   "execution_count": null,
   "metadata": {
    "colab": {
     "base_uri": "https://localhost:8080/",
     "height": 299
    },
    "executionInfo": {
     "elapsed": 1047,
     "status": "ok",
     "timestamp": 1606152413932,
     "user": {
      "displayName": "Thomas Gehrmann",
      "photoUrl": "",
      "userId": "03269050171692580693"
     },
     "user_tz": -60
    },
    "id": "6GOu-f07ossC",
    "outputId": "27a079d2-9815-4dad-9f6b-d5ae04492208"
   },
   "outputs": [
    {
     "data": {
      "image/png": "[encoded data removed]",
      "text/plain": [
       "<Figure size 1152x288 with 2 Axes>"
      ]
     },
     "metadata": {
      "tags": []
     },
     "output_type": "display_data"
    }
   ],
   "source": [
    "fig, ax = plt.subplots(1, 2, figsize=(16, 4))\n",
    "\n",
    "ax[0].plot(state_path, label='Age of machine')\n",
    "ax[0].plot(action_path, 'o', label='Decision')\n",
    "ax[0].set_title('State and action path')\n",
    "ax[0].set_xlabel('Time step')\n",
    "ax[0].legend()\n",
    "\n",
    "ax[1].plot(list(V.keys()), list(V.values()))\n",
    "ax[1].set_title('Value function')\n",
    "ax[1].set_xlabel('Age of machine')\n",
    "\n",
    "\n",
    "plt.show()"
   ]
  }
 ],
 "metadata": {
  "colab": {
   "collapsed_sections": [],
   "name": "5a_TD_Asset_Replacement.ipynb",
   "provenance": [],
   "toc_visible": true
  },
  "kernelspec": {
   "display_name": "Python 3",
   "language": "python",
   "name": "python3"
  },
  "language_info": {
   "codemirror_mode": {
    "name": "ipython",
    "version": 3
   },
   "file_extension": ".py",
   "mimetype": "text/x-python",
   "name": "python",
   "nbconvert_exporter": "python",
   "pygments_lexer": "ipython3",
   "version": "3.7.9"
  }
 },
 "nbformat": 4,
 "nbformat_minor": 1
}
