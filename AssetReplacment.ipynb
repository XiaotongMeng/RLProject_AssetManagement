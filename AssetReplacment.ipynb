{
 "cells": [
  {
   "cell_type": "markdown",
   "metadata": {
    "id": "zXkFNLxj7vm9"
   },
   "source": [
    "# **Project: Asset Replacement with Maintenance**\n",
    "\n"
   ]
  },
  {
   "cell_type": "markdown",
   "metadata": {
    "id": "P3yPdi4A-Hqg"
   },
   "source": [
    "   At the beginning of each year, a manufacturer must decide wheter to continue to operate an aging physical asset or replace it with a new one. If he keep the current asset, he must decide whether to perform annual service maintenance to prevent the asset from failing. An asset that is $s$ years old yields a profit contribution $p(s)$ up to $n=5$ years, at which point the asset becomes unsafe and must be replaced by law. An asset that is $s$ years old and has been maintained $m$ times fails with probability $\\mu(s,m)$ and yields a proft of 0 in that year. The cost of a new asset is $c = 75$ and the cost of of servicing an asset is $k=10$.\n",
    "\n",
    "  What replacement-maintenance policy maximizes profits?"
   ]
  },
  {
   "cell_type": "markdown",
   "metadata": {
    "id": "pJCtVBVv7w2B"
   },
   "source": [
    "## **Model**"
   ]
  },
  {
   "cell_type": "markdown",
   "metadata": {
    "id": "TcSl6EbrFj8g"
   },
   "source": [
    "This is an infinite horizon deterministic model with time $t$ measured\n",
    "in years.\n",
    "\n",
    "The age is a discrete state variable:\n",
    "- $s \\in \\{0, 1, 2, 3, 4, 5\\}$\n",
    "\n",
    "The variable $maint$ is the number of times of maintenance habe been performed:\n",
    "- $m \\in \\{0, 1, 2, 3, 4, 5 \\}$\n",
    "\n",
    "\n",
    "The action variable $a$ is the keep-replacement-maintenance decision:\n",
    "- $a =  \\begin{cases}\n",
    "  0,  & \\text{ keep the asset, perform no maintenance}\\\\\n",
    "  1,  & \\text{ keep the asset, perform the maintenace}\\\\\n",
    "  2,  & \\text{ replace the asset}\n",
    "  \\end{cases}$\n",
    "\n",
    "\n",
    "The state transition function is:\n",
    "- $t(s, a) = \\begin{cases}\n",
    "  s+1,  & a = \\text{ keep}\\\\\n",
    "  1, & a = \\text{ replace}\n",
    "  \\end{cases}$\n",
    "  \n",
    "The maintenance transition function is:\n",
    " - $t(m, a, s) = \\begin{cases} \n",
    "   m,  & a = 0 ,  \\text{keep the asset but perform no maintenance}\\\\\n",
    "   m+1,  & a = 1,   \\text{keep the asset, perform the maintenac} \\\\\n",
    "   0, & a =2,  \\text{ replace the asset}\n",
    "  \\end{cases}$\n",
    "  \n",
    " \n",
    "The reward function is:\n",
    "- $r(s, a, s, m) = \\begin{cases}\n",
    "  p(s), & a = 0 ,  \\text{keep the asset but perform no maintenance, the asset works}\\\\\n",
    "  0, & a = 0 ,  \\text{keep the asset but perform no maintenance, the asset fail with the probability of} \\mu(s,m)\\\\\n",
    "  p(s) - k, &  a = 1,   \\text{keep the asset, perform the maintenace,the asset works}\\\\\n",
    "  0 - k & a = 1,  \\text{keep the asset, perform the maintenace, the asset fails with the probability of} \\mu(s,m) \\\\\n",
    "  p(0)- c, & a =2,  \\text{ replace the asset}\n",
    "\\end{cases}$\n",
    "\n",
    "where $p(s) = 50 - 2.5\\cdot s - 2.5\\cdot s^2$. \n",
    "\n"
   ]
  },
  {
   "cell_type": "markdown",
   "metadata": {},
   "source": [
    "**Important Information**\n",
    "- p(4) = 0  \n",
    "- We assume that when the maitenance is performed and calculating the probability of fail $\\mu(s,m)$, current maintencance is **excluded** from *$m$* number of maintenance. We assume the profit is calculated at the end of the year, so will the maintenance at this time be performed. It is logical to consider that the asset already fail sometime during the year, which is before the maintenance. Otherwise it result in difficuty in modelling and in implemetation (implementation of step fucntion of reinforcement learning agent)as well."
   ]
  },
  {
   "cell_type": "markdown",
   "metadata": {
    "id": "dlcKDHVmHJX-"
   },
   "source": [
    "# **Environment**"
   ]
  },
  {
   "cell_type": "code",
   "execution_count": 2349,
   "metadata": {
    "id": "2KryPHJRHMnk"
   },
   "outputs": [],
   "source": [
    "import gym\n",
    "from gym import spaces\n",
    "import pandas as pd\n",
    "import seaborn as sns\n",
    "import numpy as np\n",
    "from numpy.random import default_rng\n",
    "\n",
    "from collections import defaultdict\n",
    "\n",
    "import matplotlib.pyplot as plt\n",
    "from matplotlib import style\n",
    "style.use('ggplot')\n",
    "%matplotlib inline"
   ]
  },
  {
   "cell_type": "code",
   "execution_count": 2763,
   "metadata": {
    "id": "r-jtG7AaI6VI"
   },
   "outputs": [],
   "source": [
    "class AssetReplacementEnv(gym.Env):\n",
    "    \"\"\"Custom Environment that follows gym interface\"\"\"\n",
    "    metadata = {'render.modes': ['human']}\n",
    "\n",
    "    def __init__(self):\n",
    "        super(AssetReplacementEnv, self).__init__()\n",
    "\n",
    "        self.n_actions = 3\n",
    "        self.action_space = spaces.Discrete(self.n_actions)\n",
    "\n",
    "        # With spaces.Tuple you can create a multidimensional state\n",
    "        # In our simple model observation and state are synonyms\n",
    "        self.n_states = 6\n",
    "        self.observation_space = spaces.Discrete(self.n_states)\n",
    "\n",
    "        self.n_maint = 6\n",
    "        self.maint_space = spaces.Discrete(self.n_maint)\n",
    "        \n",
    "        self.service = 10\n",
    "        self.cost = 75\n",
    "        self.rng = default_rng()\n",
    "   \n",
    "\n",
    "\n",
    "    def step(self, action):\n",
    "        \"\"\"\n",
    "        State transition of the model.\n",
    "\n",
    "        \"\"\"\n",
    "        assert self.action_space.contains(action), \"%r (%s) invalid\" % (action, type(action))\n",
    "\n",
    " \n",
    "    \n",
    "        # calculate the reward and the state transition\n",
    "        if action == 2:                                    \n",
    "            reward = self.profit(0) - self.cost         # replace\n",
    "            self.state = 1 \n",
    "            self.maint = 0\n",
    "            \n",
    "        elif action == 1:\n",
    "            reward = self.profit(self.state) - self.service\n",
    "            self.state += 1\n",
    "            self.maint += 1 \n",
    "               \n",
    "                \n",
    "        else: \n",
    "            reward = self.profit(self.state) \n",
    "            self.state += 1    \n",
    "\n",
    "        return self.state, self.maint, reward\n",
    "\n",
    "\n",
    "\n",
    "    \n",
    "    def profit(self, state):\n",
    "        return 50 - 2.5*state - 2.5*state**2\n",
    "        \n",
    "\n",
    "    def reset(self):\n",
    "        # set initial state (age of machine) to 0\n",
    "        self.state = 0\n",
    "        self.maint = 0            \n",
    "        return self.state, self.maint\n",
    "\n",
    "\n",
    "    # We will not implement render and close function\n",
    "    def render(self, mode='human'):\n",
    "        pass\n",
    "    def close (self):\n",
    "        pass"
   ]
  },
  {
   "cell_type": "markdown",
   "metadata": {
    "id": "48EsxbJYuNvd"
   },
   "source": [
    "# **Dynamic Programming**"
   ]
  },
  {
   "cell_type": "markdown",
   "metadata": {},
   "source": [
    "## **Policy Evaluation**\n",
    "We first evaluate the self defined policy."
   ]
  },
  {
   "cell_type": "code",
   "execution_count": 2764,
   "metadata": {},
   "outputs": [],
   "source": [
    "def evaluate_policy(env, V, policy, discount, eps=1e-8, max_iter=10000):\n",
    "   \n",
    "   \n",
    "    \n",
    "    for i in  range(max_iter):\n",
    "        # save value function to check for convergence later\n",
    "        V[0,0] =  env.profit(0) + discount* V[1,0]\n",
    "        V_old = V.copy()\n",
    "        for state in range(env.n_states):\n",
    "            for maint in range(env.n_maint):\n",
    "                if state < maint:\n",
    "                    break\n",
    "                else:\n",
    "                    action = policy[state, maint]\n",
    "                    if action < 0:\n",
    "                        break\n",
    "                    else:\n",
    "                        env.state = state\n",
    "                        env.maint = maint\n",
    "                        state_next, maint_next, reward = env.step(action)\n",
    "                        if action == 2:\n",
    "                            V[state, maint] =  reward + discount* V[state_next, maint_next]\n",
    "                        elif action == 1:\n",
    "                            mu = (state - maint+1) /5\n",
    "                            V[state, maint] = mu*(0 - env.service +  discount* V[state_next, maint_next]) \\\n",
    "                                               +(1 - mu)*(reward + discount* V[state_next, maint_next])\n",
    "                        else:\n",
    "                            mu = (state - maint) /5\n",
    "                            V[state, maint] = mu*(0 +  discount* V[state_next, maint_next]) \\\n",
    "                                               +(1 - mu)*(reward + discount* V[state_next, maint_next])\n",
    "                                \n",
    "                                \n",
    "        # check for convergence\n",
    "        delta = np.linalg.norm(V-V_old)\n",
    "        if delta < eps:\n",
    "            break\n",
    "    print('Convergence at iteration ' + str(i))            \n",
    "    #print(delta)\n",
    "    return V\n"
   ]
  },
  {
   "cell_type": "markdown",
   "metadata": {},
   "source": [
    "Policy to evaluate: keep the asset without maintenance until year2, perform the maintnenance at year 3&4, replace it at year 5"
   ]
  },
  {
   "cell_type": "code",
   "execution_count": 2765,
   "metadata": {
    "scrolled": true
   },
   "outputs": [
    {
     "data": {
      "text/plain": [
       "array([[ 0, -1, -1, -1, -1, -1],\n",
       "       [ 0, -1, -1, -1, -1, -1],\n",
       "       [ 0, -1, -1, -1, -1, -1],\n",
       "       [ 1, -1, -1, -1, -1, -1],\n",
       "       [ 1,  1, -1, -1, -1, -1],\n",
       "       [ 2,  2,  2, -1, -1, -1]])"
      ]
     },
     "execution_count": 2765,
     "metadata": {},
     "output_type": "execute_result"
    }
   ],
   "source": [
    "policy = np.empty((env.n_states, env.n_maint), int)\n",
    "policy.fill(-1)\n",
    "policy[0:3, 0] = 0\n",
    "policy[3:5, 0] = 1\n",
    "policy[4,1] = 1\n",
    "policy[5,0:3] = 2\n",
    "policy"
   ]
  },
  {
   "cell_type": "code",
   "execution_count": 366,
   "metadata": {},
   "outputs": [],
   "source": [
    "#same as policy1 above as matrix \n",
    "# def policy1(state, maint):\n",
    "#     if state < 2:\n",
    "#         action = 0\n",
    "#     elif state == 2:\n",
    "#         action = 1\n",
    "#     elif 2 < state < 6:\n",
    "#         action = 2\n",
    "#     else:\n",
    "#         print('state error')\n",
    "#     return action"
   ]
  },
  {
   "cell_type": "code",
   "execution_count": 2766,
   "metadata": {
    "scrolled": true
   },
   "outputs": [
    {
     "name": "stdout",
     "output_type": "stream",
     "text": [
      "Convergence at iteration 167\n"
     ]
    }
   ],
   "source": [
    "# create environment and reset it\n",
    "env = AssetReplacementEnv()\n",
    "env.reset()\n",
    "\n",
    "# init value function\n",
    "V = np.zeros((env.n_states, env.n_maint))\n",
    "\n",
    "\n",
    "# discount factor\n",
    "discount = 0.9\n",
    "\n",
    "# evaluate policy\n",
    "V = evaluate_policy(env, V, policy, discount)\n"
   ]
  },
  {
   "cell_type": "code",
   "execution_count": 2767,
   "metadata": {
    "scrolled": true
   },
   "outputs": [
    {
     "data": {
      "image/png": "[encoded data removed]",
      "text/plain": [
       "<Figure size 576x576 with 2 Axes>"
      ]
     },
     "metadata": {
      "needs_background": "light"
     },
     "output_type": "display_data"
    }
   ],
   "source": [
    "plt.figure(figsize=(8,8))\n",
    "#df.shape\n",
    "sns.heatmap(V, annot=True, fmt = 'g')\n",
    "#plt.savefig('SARSA_Q' + '-'+ str(n_episodes)+'-' + str(discount)+'-'+ str(step_size)+'-'+ str(epsilon) +'.pdf')\n",
    "plt.title('Value function')\n",
    "plt.show()"
   ]
  },
  {
   "cell_type": "markdown",
   "metadata": {},
   "source": [
    "# **Policy Iteration**\n",
    "We implement the policy improvement algorithm to combine it later with the policy evaluation algorithm to create the policy iteration algorithm."
   ]
  },
  {
   "cell_type": "code",
   "execution_count": 2768,
   "metadata": {},
   "outputs": [],
   "source": [
    "def improve_policy(env, V, policy, gamma):\n",
    "    \"\"\"Implements the policy improvement algorithm\n",
    "\n",
    "    Calculates the greedy policy for a given value function and checks if the \n",
    "    new greedy policy changed compared to the old policy\n",
    "\n",
    "    Args:\n",
    "        env (class): OpenAI gym environment\n",
    "        V (numpy.ndarray): A shape-(num_states,) array, contains the value for\n",
    "            every state\n",
    "        policy (numpy.ndarray): A shape-(num_states,) array, defines the action\n",
    "            for every state\n",
    "        gamma (int): Discount factor\n",
    "    \"\"\"\n",
    "\n",
    "    # save policy to check for convergence later\n",
    "    old_policy = policy.copy()\n",
    "    \n",
    "\n",
    "    # loop through every state and find greedy action\n",
    "    policy_stable = True\n",
    "\n",
    "\n",
    "    for state in range(env.n_states):\n",
    "        for maint in range(env.n_maint):\n",
    "            if state <= maint:\n",
    "                break\n",
    "            elif state== 5:                           \n",
    "                    policy[state, maint] = 2\n",
    "            else:\n",
    "                Va = np.zeros(env.n_actions)\n",
    "                # find greedy action among possible actions\n",
    "                for action in range(env.n_actions):\n",
    "                    env.state = state\n",
    "                    env.maint = maint\n",
    "                    #mu  for reward based on current states not next ones\n",
    "                    mu = (state - maint)/5\n",
    "                    state_next, maint_next, reward = env.step(action)\n",
    "                    if action == 2:\n",
    "                         Va[action] =  reward + discount* V[state_next, maint_next]\n",
    "                    elif action == 1:\n",
    "                         Va[action] = mu*(0 - env.service +  discount* V[state_next, maint_next]) \\\n",
    "                                           +(1 - mu)*(reward + discount* V[state_next, maint_next])\n",
    "                    else:\n",
    "                         Va[action] = mu*(0 +  discount* V[state_next, maint_next]) \\\n",
    "                                           +(1 - mu)*(reward + discount* V[state_next, maint_next])\n",
    "\n",
    "                #print(Q)\n",
    "                policy[state, maint] =  np.argmax(Va)\n",
    "\n",
    "\n",
    "    # check for convergence\n",
    "    if not np.array_equal(policy, old_policy):\n",
    "        policy_stable = False\n",
    "    \n",
    "    return policy, policy_stable\n"
   ]
  },
  {
   "cell_type": "code",
   "execution_count": 2769,
   "metadata": {},
   "outputs": [],
   "source": [
    "def policy_iteration(env, discount,policy):\n",
    "    # init policy and value function\n",
    "    V = np.zeros((env.n_states,env.n_maint))\n",
    "  \n",
    "    # iterate until policy doesn't change anymore\n",
    "    policy_stable = False\n",
    "    while not policy_stable:\n",
    "        V = evaluate_policy(env, V, policy, discount)\n",
    "        policy, policy_stable = improve_policy(env, V, policy, discount)\n",
    "\n",
    "    return V, policy"
   ]
  },
  {
   "cell_type": "code",
   "execution_count": 2770,
   "metadata": {
    "scrolled": true
   },
   "outputs": [
    {
     "name": "stdout",
     "output_type": "stream",
     "text": [
      "Convergence at iteration 167\n",
      "Convergence at iteration 96\n",
      "Convergence at iteration 156\n",
      "Convergence at iteration 119\n"
     ]
    }
   ],
   "source": [
    "# create environment and reset it\n",
    "env = AssetReplacementEnv()\n",
    "env.reset()\n",
    "\n",
    "\n",
    "# discount factor\n",
    "discount = 0.9\n",
    "\n",
    "# use policy1 as initial policy\n",
    "# apply policy iteration\n",
    "V, policy = policy_iteration(env, discount, policy)"
   ]
  },
  {
   "cell_type": "code",
   "execution_count": 2771,
   "metadata": {
    "scrolled": true
   },
   "outputs": [
    {
     "data": {
      "image/png": "[encoded data removed]",
      "text/plain": [
       "<Figure size 576x576 with 2 Axes>"
      ]
     },
     "metadata": {
      "needs_background": "light"
     },
     "output_type": "display_data"
    }
   ],
   "source": [
    "plt.figure(figsize=(8,8))\n",
    "sns.heatmap(V, annot=True, fmt = 'g')\n",
    "#plt.savefig('SARSA_Q' + '-'+ str(n_episodes)+'-' + str(discount)+'-'+ str(step_size)+'-'+ str(epsilon) +'.pdf')\n",
    "plt.title('Value function')\n",
    "plt.show()"
   ]
  },
  {
   "cell_type": "code",
   "execution_count": 2772,
   "metadata": {
    "scrolled": true
   },
   "outputs": [
    {
     "data": {
      "image/png": "[encoded data removed]",
      "text/plain": [
       "<Figure size 576x576 with 2 Axes>"
      ]
     },
     "metadata": {
      "needs_background": "light"
     },
     "output_type": "display_data"
    }
   ],
   "source": [
    "plt.figure(figsize=(8,8))\n",
    "sns.heatmap(policy, annot=True, fmt = 'g')\n",
    "#plt.savefig('SARSA_Q' + '-'+ str(n_episodes)+'-' + str(discount)+'-'+ str(step_size)+'-'+ str(epsilon) +'.pdf')\n",
    "plt.title('Value function')\n",
    "plt.show()"
   ]
  },
  {
   "cell_type": "markdown",
   "metadata": {},
   "source": [
    "# **Value Iteration**"
   ]
  },
  {
   "cell_type": "code",
   "execution_count": 2773,
   "metadata": {},
   "outputs": [],
   "source": [
    "def value_iteration(env, discount, eps=1e-8, max_iter=1000):\n",
    "    \"\"\"Implements the value iteration algorithm\n",
    "\n",
    "    Calculates the optimal policy and optimal value function\n",
    "\n",
    "    Args:\n",
    "        env (class): OpenAI gym environment\n",
    "        discount (float): Discount factor\n",
    "        eps (float): Error tolerance\n",
    "        max_iter (int): Maximum number of iteration\n",
    "    \"\"\"\n",
    "    # initialize value function\n",
    "    V = np.zeros((env.n_states, env.n_maint))\n",
    "    # initialize policy (of all states) with -1 \n",
    "    policy = np.zeros((env.n_states, env.n_maint), int)-1\n",
    "    policy[0,0] = 0\n",
    " \n",
    "    # iterate until value function converges\n",
    "    for i in range(max_iter):\n",
    "        V_old = V.copy()\n",
    "        V[0,0] = env.profit(0) + discount* V[1,0]\n",
    "        for state in range(env.n_states):\n",
    "            for maint in range(env.n_maint):\n",
    "                    if state <= maint:\n",
    "                        break\n",
    "                    else:\n",
    "                        if state == 5:\n",
    "                            state_next, maint_next, reward = env.step(2)\n",
    "                            V[state, maint] =  reward + discount* V[state_next, maint_next]\n",
    "                        else: \n",
    "                            Va = np.zeros(env.n_actions)\n",
    "                            # determine possible actions for given state\n",
    "                            for action in range(env.n_actions):\n",
    "                                env.state = state\n",
    "                                env.maint = maint\n",
    "                                # mu for reward based on curerent states not next ones\n",
    "                                mu = (state - maint) /5\n",
    "                                state_next, maint_next, reward = env.step(action)\n",
    "                                #print((state, maint,state_next, maint_next))\n",
    "                                if action == 2:\n",
    "                                    Va[action] =  reward + discount* V[state_next, maint_next]\n",
    "                                elif action == 1:\n",
    "                                    Va[action] = mu*(0 - env.service +  discount* V[state_next, maint_next]) \\\n",
    "                                                +(1 - mu)*(reward + discount* V[state_next, maint_next])\n",
    "                                else:\n",
    "                                  \n",
    "                                    Va[action] = mu*(0 +  discount* V[state_next, maint_next]) \\\n",
    "                                                +(1 - mu)*(reward + discount* V[state_next, maint_next])\n",
    "\n",
    "                            V[state, maint] = max(Va)\n",
    "                    \n",
    "        delta = np.linalg.norm(V-V_old)\n",
    "        if delta < eps:\n",
    "            break\n",
    "    print('Convergence at iteration: '+str(i))  \n",
    "\n",
    "    for state in range(env.n_states):\n",
    "            for maint in range(env.n_maint):\n",
    "                   if state <= maint:\n",
    "                        break\n",
    "                   \n",
    "                   else: \n",
    "                        Va = np.zeros(env.n_actions)\n",
    "                        if state == 5:                           \n",
    "                            policy[state, maint] = 2\n",
    "                        elif state == 0:\n",
    "                            policy[state, maint] = 0\n",
    "                        else:    \n",
    "                            # find greedy action among possible actions\n",
    "                            for action in range(env.n_actions):\n",
    "                                env.state = state\n",
    "                                env.maint = maint\n",
    "                                # mu for reward based on curerent states not next ones\n",
    "                                mu = (state - maint) /5\n",
    "                                state_next, maint_next, reward = env.step(action)\n",
    "                                #print((state, maint,state_next, maint_next))\n",
    "                                if action == 2:\n",
    "                                    Va[action] =  reward + discount* V[state_next, maint_next]\n",
    "                                elif action == 1:\n",
    "                                    Va[action] = mu*(0 - env.service +  discount* V[state_next, maint_next]) \\\n",
    "                                                +(1 - mu)*(reward + discount* V[state_next, maint_next])\n",
    "                                else:\n",
    "                                    Va[action] = mu*(0 +  discount* V[state_next, maint_next]) \\\n",
    "                                                +(1 - mu)*(reward + discount* V[state_next, maint_next])\n",
    "                            #print(Va)\n",
    "                            policy[state, maint] =  np.argmax(Va)\n",
    "    \n",
    "    \n",
    "    \n",
    "    return V, policy\n"
   ]
  },
  {
   "cell_type": "code",
   "execution_count": 2774,
   "metadata": {
    "scrolled": true
   },
   "outputs": [
    {
     "name": "stdout",
     "output_type": "stream",
     "text": [
      "Convergence at iteration: 142\n"
     ]
    }
   ],
   "source": [
    "# create environment and reset it\n",
    "env = AssetReplacementEnv()\n",
    "env.reset()\n",
    "\n",
    "# discount factor\n",
    "discount = 0.9\n",
    "\n",
    "# apply policy iteration\n",
    "V, policy = value_iteration(env, discount)"
   ]
  },
  {
   "cell_type": "code",
   "execution_count": 2776,
   "metadata": {
    "scrolled": true
   },
   "outputs": [
    {
     "data": {
      "image/png": "[encoded data removed]",
      "text/plain": [
       "<Figure size 1152x576 with 4 Axes>"
      ]
     },
     "metadata": {
      "needs_background": "light"
     },
     "output_type": "display_data"
    }
   ],
   "source": [
    "fig, ax = plt.subplots(1, 2, figsize=(16, 8))\n",
    "\n",
    "# plot value function\n",
    "sns.heatmap(V, annot=True, fmt = 'g', ax = ax[0])\n",
    "ax[0].set_xlabel('Age of machine')\n",
    "ax[0].set_title('Value Function')\n",
    "\n",
    "# plot policy function\n",
    "sns.heatmap(policy, annot=True, ax = ax[1])\n",
    "ax[1].set_xlabel('Age of machine')\n",
    "ax[1].set_ylabel('Number of maintenance')\n",
    "ax[1].set_title('Policy Function')\n",
    "\n",
    "#plt.savefig('DP_VPolicy' + '-' + str(discount) +'.pdf')\n",
    "plt.show()"
   ]
  },
  {
   "cell_type": "markdown",
   "metadata": {},
   "source": [
    "Simulate an episode with the optimal policy."
   ]
  },
  {
   "cell_type": "code",
   "execution_count": 2777,
   "metadata": {},
   "outputs": [],
   "source": [
    "#initialization\n",
    "state, maint = env.reset()\n",
    "action = policy_DP[state, maint]\n",
    "state_path = [state]\n",
    "maint_path = [maint]\n",
    "action_path = [action]\n",
    "\n",
    "\n",
    "timesteps = 20\n",
    "for t in range(timesteps):\n",
    "    state, maint, reward = env.step(action)\n",
    "    action = policy_DP[state, maint] \n",
    "    state_path.append(state)\n",
    "    maint_path.append(maint)\n",
    "    action_path.append(action)"
   ]
  },
  {
   "cell_type": "code",
   "execution_count": 2778,
   "metadata": {
    "scrolled": false
   },
   "outputs": [
    {
     "data": {
      "image/png": "[encoded data removed]",
      "text/plain": [
       "<Figure size 1152x288 with 1 Axes>"
      ]
     },
     "metadata": {
      "needs_background": "light"
     },
     "output_type": "display_data"
    }
   ],
   "source": [
    "fig = plt.figure(figsize=(16, 4))\n",
    "plt.plot(state_path, label='Age of machine')\n",
    "plt.plot(action_path, 'o', label='Decision')\n",
    "plt.plot(maint_path, '^', label='Number of maintenance')\n",
    "plt.title('State and action path')\n",
    "plt.xlabel('Time step')\n",
    "plt.legend()\n",
    "plt.savefig('DP_Path' + '-'+ str(discount)+'-'+'.pdf')\n",
    "plt.show()"
   ]
  },
  {
   "cell_type": "code",
   "execution_count": 2779,
   "metadata": {},
   "outputs": [],
   "source": [
    "V_DP = V\n",
    "policy_DP = policy"
   ]
  },
  {
   "cell_type": "markdown",
   "metadata": {},
   "source": [
    "---\n",
    "**Evaluation of the future discount**\n",
    "---\n",
    "\n",
    "Summary: the optimal profit-maximizing policy would change accroding to the future discount. There are four different optimal policy.      \n",
    "For about $\\gamma \\in [0.9991, 1)$,  see plot of $\\gamma = 0.9991$.      \n",
    "          this seem to be the same as the thrid case\n",
    "          $\\gamma \\in [0.85, 0.999)$,see plot of $\\gamma = 0.9$.   \n",
    "          At year = 3, only when maint = 0, the asset should be replaced  \n",
    "          $\\gamma \\in [0.51, 0.85)$ see plot of $\\gamma = 0.8$.  \n",
    "          Asset should be kept without maintenance until be replaced from year 4  \n",
    "          $\\gamma \\in [0, 0.51)$, see plot of $\\gamma = 0.5$.    \n",
    "          Asset can be kept without maintenance til year4, then replace at year 5.\n",
    "         "
   ]
  },
  {
   "cell_type": "code",
   "execution_count": 2780,
   "metadata": {
    "scrolled": false
   },
   "outputs": [
    {
     "name": "stdout",
     "output_type": "stream",
     "text": [
      "Convergence at iteration: 999\n"
     ]
    }
   ],
   "source": [
    "# create environment and reset it\n",
    "env = AssetReplacementEnv()\n",
    "env.reset()\n",
    "\n",
    "# discount factor\n",
    "discount = 0.9991\n",
    "\n",
    "# apply policy iteration\n",
    "V, policy = value_iteration(env, discount)"
   ]
  },
  {
   "cell_type": "code",
   "execution_count": 2781,
   "metadata": {
    "scrolled": true
   },
   "outputs": [
    {
     "data": {
      "image/png": "[encoded data removed]",
      "text/plain": [
       "<Figure size 1152x576 with 4 Axes>"
      ]
     },
     "metadata": {
      "needs_background": "light"
     },
     "output_type": "display_data"
    }
   ],
   "source": [
    "fig, ax = plt.subplots(1, 2, figsize=(16, 8))\n",
    "\n",
    "# plot value function\n",
    "sns.heatmap(V, annot=True, fmt = 'g', ax = ax[0])\n",
    "ax[0].set_xlabel('Age of machine')\n",
    "ax[0].set_title('Value Function')\n",
    "\n",
    "# plot policy function\n",
    "sns.heatmap(policy, annot=True, ax = ax[1])\n",
    "ax[1].set_xlabel('Age of machine')\n",
    "ax[1].set_ylabel('Number of maintenance')\n",
    "ax[1].set_title('Policy Function')\n",
    "\n",
    "plt.savefig('DP_VPolicy' + '-' + str(discount) +'.pdf')\n",
    "plt.show()"
   ]
  },
  {
   "cell_type": "code",
   "execution_count": 2782,
   "metadata": {
    "scrolled": true
   },
   "outputs": [
    {
     "name": "stdout",
     "output_type": "stream",
     "text": [
      "Convergence at iteration: 75\n"
     ]
    }
   ],
   "source": [
    "# create environment and reset it\n",
    "env = AssetReplacementEnv()\n",
    "env.reset()\n",
    "\n",
    "# discount factor\n",
    "discount = 0.8\n",
    "\n",
    "# apply policy iteration\n",
    "V, policy = value_iteration(env, discount)"
   ]
  },
  {
   "cell_type": "code",
   "execution_count": 2783,
   "metadata": {
    "scrolled": true
   },
   "outputs": [
    {
     "data": {
      "image/png": "[encoded data removed]",
      "text/plain": [
       "<Figure size 1152x576 with 4 Axes>"
      ]
     },
     "metadata": {
      "needs_background": "light"
     },
     "output_type": "display_data"
    }
   ],
   "source": [
    "fig, ax = plt.subplots(1, 2, figsize=(16, 8))\n",
    "\n",
    "# plot value function\n",
    "sns.heatmap(V, annot=True, fmt = 'g', ax = ax[0])\n",
    "ax[0].set_xlabel('Age of machine')\n",
    "ax[0].set_title('Value Function')\n",
    "\n",
    "# plot policy function\n",
    "sns.heatmap(policy, annot=True, ax = ax[1])\n",
    "ax[1].set_xlabel('Age of machine')\n",
    "ax[1].set_ylabel('Number of maintenance')\n",
    "ax[1].set_title('Policy Function')\n",
    "\n",
    "#plt.savefig('DP_VPolicy' + '-' + str(discount) +'.pdf')\n",
    "plt.show()"
   ]
  },
  {
   "cell_type": "code",
   "execution_count": 2784,
   "metadata": {
    "scrolled": true
   },
   "outputs": [
    {
     "name": "stdout",
     "output_type": "stream",
     "text": [
      "Convergence at iteration: 25\n"
     ]
    }
   ],
   "source": [
    "# create environment and reset it\n",
    "env = AssetReplacementEnv()\n",
    "env.reset()\n",
    "\n",
    "# discount factor\n",
    "discount = 0.5\n",
    "\n",
    "# apply policy iteration\n",
    "V, policy = value_iteration(env, discount)"
   ]
  },
  {
   "cell_type": "code",
   "execution_count": 2785,
   "metadata": {
    "scrolled": true
   },
   "outputs": [
    {
     "data": {
      "image/png": "[encoded data removed]",
      "text/plain": [
       "<Figure size 1152x576 with 4 Axes>"
      ]
     },
     "metadata": {
      "needs_background": "light"
     },
     "output_type": "display_data"
    }
   ],
   "source": [
    "fig, ax = plt.subplots(1, 2, figsize=(16, 8))\n",
    "\n",
    "# plot value function\n",
    "sns.heatmap(V, annot=True, fmt = 'g', ax = ax[0])\n",
    "ax[0].set_xlabel('Age of machine')\n",
    "ax[0].set_title('Value Function')\n",
    "\n",
    "# plot policy function\n",
    "sns.heatmap(policy, annot=True, ax = ax[1])\n",
    "ax[1].set_xlabel('Age of machine')\n",
    "ax[1].set_ylabel('Number of maintenance')\n",
    "ax[1].set_title('Policy Function')\n",
    "\n",
    "#plt.savefig('DP_VPolicy' + '-' + str(discount) +'.pdf')\n",
    "plt.show()"
   ]
  },
  {
   "cell_type": "markdown",
   "metadata": {
    "id": "48EsxbJYuNvd"
   },
   "source": [
    "# **Sarsa Agent**"
   ]
  },
  {
   "cell_type": "code",
   "execution_count": 2646,
   "metadata": {
    "id": "xOSSrCuhn7AD"
   },
   "outputs": [],
   "source": [
    "class SarsaAgent():\n",
    "    def __init__(self, agent_info):\n",
    "        \"\"\"Initialize Agent.\n",
    "\n",
    "        Args: \n",
    "            agent_info (dict): Parameters used to initialize agent.\n",
    "            {\n",
    "                n_actions (int): Number of actions.\n",
    "                epsilon (float): Exploration parameter.\n",
    "                step_size (float): Learning rate alpha.\n",
    "                discount (float): Discount factor gamma.\n",
    "            }\n",
    "        \"\"\"\n",
    "\n",
    "        self.n_actions = agent_info[\"n_actions\"]\n",
    "        self.epsilon = agent_info[\"epsilon\"]\n",
    "        self.step_size = agent_info[\"step_size\"]\n",
    "        self.discount = agent_info[\"discount\"]\n",
    "\n",
    "        \n",
    "        self.rng = default_rng()\n",
    "\n",
    "        # Create a dict for action-value estimates and initialize it to zero.\n",
    "        self.q = defaultdict(lambda: np.zeros(self.n_actions))         \n",
    "       \n",
    "    def step(self, reward, state, maint):\n",
    "        \"\"\"A step taken by the agent\n",
    "\n",
    "        Args:\n",
    "            next (int):  current state from the environment\n",
    "            next (int):  current state of maintenance failure from environment \n",
    "        Returns:\n",
    "            action (int): next action the agent takes \n",
    "        \"\"\"\n",
    "\n",
    "        # choose action using epsilon greedy policy\n",
    "        action = self.select_action(state, maint)\n",
    "\n",
    "#         if self.step_size > 0.05:\n",
    "#              self.step_size = 0.9* self.step_size\n",
    "\n",
    "        # Qt-1 = Qt-1 + step_size( (Rt-1 + discount* Qt) - Qt-1)  \n",
    "        target = reward + self.discount*self.q[state, maint][action]\n",
    "        td_error = target - self.q[self.previous_state,self.previous_maint][self.previous_action]\n",
    "        self.q[self.previous_state,self.previous_maint][self.previous_action] += self.step_size* td_error\n",
    "            \n",
    "\n",
    "        # save current state and action\n",
    "        self.previous_state = state\n",
    "        self.previous_maint = maint\n",
    "        self.previous_action = action\n",
    "\n",
    "        return action\n",
    "\n",
    "        \n",
    "    def select_action(self, state, maint):\n",
    "        \"\"\"Select action using epsilon greedy policy.\n",
    "\n",
    "        Args:\n",
    "            state (int): Current state, i.e. age of asset.\n",
    "\n",
    "        Returns:\n",
    "            action (int): Action the agent takes.\n",
    "        \"\"\"\n",
    "\n",
    "        \n",
    "        # performe epsilon greedy policy improvement\n",
    "        # remember to replace asset if age is 5\n",
    " #%%%%\n",
    "        if state== 5:                           # two expression are actually equivalent  \n",
    "            return 2\n",
    "        if state == 0:\n",
    "            return 0\n",
    "        if  self.rng.random() < self.epsilon:\n",
    "            action = self.rng.choice(n_actions)\n",
    "        else:\n",
    "            action = self.argmax(self.q[state, maint])\n",
    "        return action\n",
    "        \n",
    " \n",
    "    def argmax(self, q_values):\n",
    "        \"\"\"Return the index of maximum value with ties broken randomly.\n",
    "\n",
    "        Args:\n",
    "            q_values (numpy.ndarray): A shape-(n_actions,) array of estimated\n",
    "                action_values.\n",
    "\n",
    "        Returns:\n",
    "            index (int): Index of the maximal value.\n",
    "        \"\"\"\n",
    "        ties = np.flatnonzero(np.isclose(q_values, max(q_values)))\n",
    "        index = self.rng.choice(ties)\n",
    "#         print(ties)\n",
    "#         print(\"argmax index:\" + str(index))\n",
    "        return index\n",
    "\n",
    "\n",
    "    def start(self, state, maint):\n",
    "        \"\"\"Selects action in inital state\n",
    "\n",
    "        Args:\n",
    "            state (int): initial state\n",
    "            maint (int): intial times of maintenance failure\n",
    "        Returns:\n",
    "            action (int): initial action\n",
    "        \"\"\"\n",
    "        # we should do nothing at year 0, just keep it without maintenance\n",
    "        action = 0\n",
    "\n",
    "        self.previous_state = state\n",
    "        self.previous_maint = maint\n",
    "        self.previous_action = action\n",
    "\n",
    "        return action\n",
    "    \n",
    "\n",
    "\n"
   ]
  },
  {
   "cell_type": "markdown",
   "metadata": {},
   "source": [
    "Remark: run the cell bellow with certain parameter setting, you might not get exactly the same  performance as shown in the table(pandas dataframe) below in the evaluation section, since the performance vary, like for training with low n_episode, the performance might vary within 20-30 then the variation become smaller for training with high n_episode. We actually got the results in the table by runing the cell several times and take the average."
   ]
  },
  {
   "cell_type": "code",
   "execution_count": 2750,
   "metadata": {
    "id": "MfXrCpAbTX5c",
    "scrolled": false
   },
   "outputs": [
    {
     "name": "stdout",
     "output_type": "stream",
     "text": [
      "Norm of difference of value function at episodes50000 simulation:79.33038901246907\n"
     ]
    }
   ],
   "source": [
    "env = AssetReplacementEnv()\n",
    "\n",
    "\n",
    "epsilon = 0.1\n",
    "step_size = 0.3\n",
    "discount = 0.9\n",
    "\n",
    "\n",
    "agent_info = {\"n_actions\": env.n_actions,\n",
    "              \"epsilon\": epsilon,\n",
    "              \"step_size\": step_size,\n",
    "              \"discount\": discount}\n",
    "\n",
    "\n",
    "agent = SarsaAgent(agent_info)\n",
    "\n",
    "n_episodes = 50000\n",
    "timesteps = 20\n",
    "\n",
    "for i in range(n_episodes):\n",
    "    state, maint = env.reset()\n",
    "    action = agent.start(state, maint)    \n",
    "    for t in range(timesteps):\n",
    "        #mu based on previous states, since reward/profit is calculated by previous state\n",
    "        # now states are overwritten by current states, reward is caculated based on previous action and states\n",
    "        mu = (state - maint)/5\n",
    "        state_next, maint_next, reward, = env.step(action)\n",
    "        \n",
    "        if action == 2:\n",
    "            pass\n",
    "        elif action ==1:\n",
    "            if env.rng.random() < mu:\n",
    "                reward = 0 - env.service\n",
    "            else:\n",
    "                pass\n",
    "        else:\n",
    "            if env.rng.random() < mu:\n",
    "                reward = 0\n",
    "            else:\n",
    "                pass\n",
    "        state = state_next\n",
    "        maint = maint_next\n",
    "        # agent return new action    \n",
    "        action = agent.step(reward, state_next, maint_next)\n",
    "\n",
    "        \n",
    "#     print('Episodes-'+ str(i)+'-Q value')\n",
    "#     print(agent.q)    \n",
    "\n",
    "V = defaultdict(float)\n",
    "policy = defaultdict(int)\n",
    "for state_maint, values in sorted(agent.q.items()):\n",
    "    value = np.max(values)\n",
    "    V[state_maint] = value\n",
    "    action = np.argmax(values)\n",
    "    policy[state_maint] = action\n",
    "\n",
    "\n",
    "\n",
    "#convert dictionary to array so that we can compare the norm of different value function\n",
    "V_sar = np.zeros((env.n_states, env.n_maint))\n",
    "for k, v in V.items():\n",
    "    V_sar[k[0],k[1]] = v\n",
    "norm = np.linalg.norm(V_sar-V_DP)\n",
    "print('Norm of difference of value function at episodes'+ str(n_episodes)+' simulation:' + str(norm))"
   ]
  },
  {
   "cell_type": "markdown",
   "metadata": {
    "id": "D4FVxeMSrUAE"
   },
   "source": [
    "\n",
    "---\n",
    "\n",
    "**Evaluation**\n",
    "\n",
    "\n",
    "---\n"
   ]
  },
  {
   "cell_type": "markdown",
   "metadata": {},
   "source": [
    "Performance = norm of difference between value function of dynamic programming(the real one) and Sarsa(the one approximating by sampling), the less the value of the performance, the better is the performance."
   ]
  },
  {
   "cell_type": "markdown",
   "metadata": {},
   "source": [
    "Summary:   the step_size is fixed\n",
    "- $\\epsilon$ (greey for action selection)   \n",
    "  Around 0.1 is the best,  for trends seeing  the table below   \n",
    "- step_size  the quantity that allowing learning from td_error  \n",
    "  Around 0.3 is the best, for trends seeing  the table below  \n",
    "- n_episodes  number of episodes for training  \n",
    "  theoritically the larger the better, but the performance can't be improve at a maximal n_episodes = 10000.\n",
    " "
   ]
  },
  {
   "cell_type": "markdown",
   "metadata": {},
   "source": [
    "Summary:   the step_size is adaptive (see the code commented in sarsa agent step fucntion: self.step_size = 0.9* self.step_size)\n",
    "- this seems not really to make much difference on the performance and we don't have enough time to playing around with all combinations of paremeters and decreasing rate of the step_size, so the discussion is omitted here."
   ]
  },
  {
   "cell_type": "code",
   "execution_count": 2759,
   "metadata": {
    "scrolled": true
   },
   "outputs": [
    {
     "data": {
      "text/html": [
       "<div>\n",
       "<style scoped>\n",
       "    .dataframe tbody tr th:only-of-type {\n",
       "        vertical-align: middle;\n",
       "    }\n",
       "\n",
       "    .dataframe tbody tr th {\n",
       "        vertical-align: top;\n",
       "    }\n",
       "\n",
       "    .dataframe thead th {\n",
       "        text-align: right;\n",
       "    }\n",
       "</style>\n",
       "<table border=\"1\" class=\"dataframe\">\n",
       "  <thead>\n",
       "    <tr style=\"text-align: right;\">\n",
       "      <th></th>\n",
       "      <th>epsilon</th>\n",
       "      <th>step_size</th>\n",
       "      <th>episode</th>\n",
       "      <th>performance</th>\n",
       "    </tr>\n",
       "  </thead>\n",
       "  <tbody>\n",
       "    <tr>\n",
       "      <th>0</th>\n",
       "      <td>0.1</td>\n",
       "      <td>0.3</td>\n",
       "      <td>50000</td>\n",
       "      <td>73.330389</td>\n",
       "    </tr>\n",
       "  </tbody>\n",
       "</table>\n",
       "</div>"
      ],
      "text/plain": [
       "   epsilon  step_size  episode  performance\n",
       "0      0.1        0.3    50000    73.330389"
      ]
     },
     "execution_count": 2759,
     "metadata": {},
     "output_type": "execute_result"
    }
   ],
   "source": [
    "import pandas as pd\n",
    "param_perform = {'epsilon': [epsilon],\n",
    "                'step_size': [step_size],\n",
    "                'episode': [n_episodes],\n",
    "                'performance': [norm]}\n",
    "df_parper = pd.DataFrame (param_perform, columns = ['epsilon','step_size','episode','performance'])\n",
    "df_parper"
   ]
  },
  {
   "cell_type": "code",
   "execution_count": 2126,
   "metadata": {},
   "outputs": [],
   "source": [
    "#df_parper_all = df_parper"
   ]
  },
  {
   "cell_type": "code",
   "execution_count": 2149,
   "metadata": {
    "scrolled": false
   },
   "outputs": [],
   "source": [
    "df_parper_all = df_parper_all.append(df_parper,ignore_index=True)"
   ]
  },
  {
   "cell_type": "code",
   "execution_count": 2150,
   "metadata": {
    "scrolled": true
   },
   "outputs": [
    {
     "data": {
      "text/html": [
       "<div>\n",
       "<style scoped>\n",
       "    .dataframe tbody tr th:only-of-type {\n",
       "        vertical-align: middle;\n",
       "    }\n",
       "\n",
       "    .dataframe tbody tr th {\n",
       "        vertical-align: top;\n",
       "    }\n",
       "\n",
       "    .dataframe thead th {\n",
       "        text-align: right;\n",
       "    }\n",
       "</style>\n",
       "<table border=\"1\" class=\"dataframe\">\n",
       "  <thead>\n",
       "    <tr style=\"text-align: right;\">\n",
       "      <th></th>\n",
       "      <th>epsilon</th>\n",
       "      <th>step_size</th>\n",
       "      <th>episode</th>\n",
       "      <th>performance</th>\n",
       "    </tr>\n",
       "  </thead>\n",
       "  <tbody>\n",
       "    <tr>\n",
       "      <th>0</th>\n",
       "      <td>0.05</td>\n",
       "      <td>0.2</td>\n",
       "      <td>10000</td>\n",
       "      <td>88.413468</td>\n",
       "    </tr>\n",
       "    <tr>\n",
       "      <th>1</th>\n",
       "      <td>0.10</td>\n",
       "      <td>0.2</td>\n",
       "      <td>10000</td>\n",
       "      <td>86.604483</td>\n",
       "    </tr>\n",
       "    <tr>\n",
       "      <th>2</th>\n",
       "      <td>0.20</td>\n",
       "      <td>0.2</td>\n",
       "      <td>10000</td>\n",
       "      <td>101.199452</td>\n",
       "    </tr>\n",
       "    <tr>\n",
       "      <th>3</th>\n",
       "      <td>0.30</td>\n",
       "      <td>0.2</td>\n",
       "      <td>10000</td>\n",
       "      <td>134.529905</td>\n",
       "    </tr>\n",
       "    <tr>\n",
       "      <th>4</th>\n",
       "      <td>0.02</td>\n",
       "      <td>0.2</td>\n",
       "      <td>10000</td>\n",
       "      <td>123.757342</td>\n",
       "    </tr>\n",
       "    <tr>\n",
       "      <th>5</th>\n",
       "      <td>0.15</td>\n",
       "      <td>0.2</td>\n",
       "      <td>10000</td>\n",
       "      <td>100.033196</td>\n",
       "    </tr>\n",
       "  </tbody>\n",
       "</table>\n",
       "</div>"
      ],
      "text/plain": [
       "   epsilon  step_size  episode  performance\n",
       "0     0.05        0.2    10000    88.413468\n",
       "1     0.10        0.2    10000    86.604483\n",
       "2     0.20        0.2    10000   101.199452\n",
       "3     0.30        0.2    10000   134.529905\n",
       "4     0.02        0.2    10000   123.757342\n",
       "5     0.15        0.2    10000   100.033196"
      ]
     },
     "execution_count": 2150,
     "metadata": {},
     "output_type": "execute_result"
    }
   ],
   "source": [
    "df_parper_all"
   ]
  },
  {
   "cell_type": "code",
   "execution_count": 2179,
   "metadata": {},
   "outputs": [],
   "source": [
    "df_stepsize = df_parper"
   ]
  },
  {
   "cell_type": "code",
   "execution_count": 2156,
   "metadata": {},
   "outputs": [],
   "source": [
    "#df_stepsize_all = df_stepsize"
   ]
  },
  {
   "cell_type": "code",
   "execution_count": 2180,
   "metadata": {
    "scrolled": false
   },
   "outputs": [],
   "source": [
    "df_stepsize_all = df_stepsize_all.append(df_stepsize,ignore_index=True)"
   ]
  },
  {
   "cell_type": "code",
   "execution_count": 2189,
   "metadata": {
    "scrolled": false
   },
   "outputs": [
    {
     "data": {
      "text/html": [
       "<div>\n",
       "<style scoped>\n",
       "    .dataframe tbody tr th:only-of-type {\n",
       "        vertical-align: middle;\n",
       "    }\n",
       "\n",
       "    .dataframe tbody tr th {\n",
       "        vertical-align: top;\n",
       "    }\n",
       "\n",
       "    .dataframe thead th {\n",
       "        text-align: right;\n",
       "    }\n",
       "</style>\n",
       "<table border=\"1\" class=\"dataframe\">\n",
       "  <thead>\n",
       "    <tr style=\"text-align: right;\">\n",
       "      <th></th>\n",
       "      <th>epsilon</th>\n",
       "      <th>step_size</th>\n",
       "      <th>episode</th>\n",
       "      <th>performance</th>\n",
       "    </tr>\n",
       "  </thead>\n",
       "  <tbody>\n",
       "    <tr>\n",
       "      <th>0</th>\n",
       "      <td>0.1</td>\n",
       "      <td>0.1</td>\n",
       "      <td>10000</td>\n",
       "      <td>97.554134</td>\n",
       "    </tr>\n",
       "    <tr>\n",
       "      <th>1</th>\n",
       "      <td>0.1</td>\n",
       "      <td>0.2</td>\n",
       "      <td>10000</td>\n",
       "      <td>83.290299</td>\n",
       "    </tr>\n",
       "    <tr>\n",
       "      <th>2</th>\n",
       "      <td>0.1</td>\n",
       "      <td>0.3</td>\n",
       "      <td>10000</td>\n",
       "      <td>77.156078</td>\n",
       "    </tr>\n",
       "    <tr>\n",
       "      <th>3</th>\n",
       "      <td>0.1</td>\n",
       "      <td>0.4</td>\n",
       "      <td>10000</td>\n",
       "      <td>104.443686</td>\n",
       "    </tr>\n",
       "    <tr>\n",
       "      <th>4</th>\n",
       "      <td>0.1</td>\n",
       "      <td>0.5</td>\n",
       "      <td>10000</td>\n",
       "      <td>110.504292</td>\n",
       "    </tr>\n",
       "    <tr>\n",
       "      <th>5</th>\n",
       "      <td>0.1</td>\n",
       "      <td>0.6</td>\n",
       "      <td>10000</td>\n",
       "      <td>130.068787</td>\n",
       "    </tr>\n",
       "  </tbody>\n",
       "</table>\n",
       "</div>"
      ],
      "text/plain": [
       "   epsilon  step_size  episode  performance\n",
       "0      0.1        0.1    10000    97.554134\n",
       "1      0.1        0.2    10000    83.290299\n",
       "2      0.1        0.3    10000    77.156078\n",
       "3      0.1        0.4    10000   104.443686\n",
       "4      0.1        0.5    10000   110.504292\n",
       "5      0.1        0.6    10000   130.068787"
      ]
     },
     "execution_count": 2189,
     "metadata": {},
     "output_type": "execute_result"
    }
   ],
   "source": [
    "df_stepsize_all"
   ]
  },
  {
   "cell_type": "code",
   "execution_count": 2760,
   "metadata": {},
   "outputs": [],
   "source": [
    "df_episode = df_parper"
   ]
  },
  {
   "cell_type": "code",
   "execution_count": 2715,
   "metadata": {},
   "outputs": [],
   "source": [
    "#df_episode_all = df_episode"
   ]
  },
  {
   "cell_type": "code",
   "execution_count": 2761,
   "metadata": {
    "scrolled": true
   },
   "outputs": [],
   "source": [
    "df_episode_all = df_episode_all.append(df_episode,ignore_index=True)\n"
   ]
  },
  {
   "cell_type": "code",
   "execution_count": 2762,
   "metadata": {
    "scrolled": true
   },
   "outputs": [
    {
     "data": {
      "text/html": [
       "<div>\n",
       "<style scoped>\n",
       "    .dataframe tbody tr th:only-of-type {\n",
       "        vertical-align: middle;\n",
       "    }\n",
       "\n",
       "    .dataframe tbody tr th {\n",
       "        vertical-align: top;\n",
       "    }\n",
       "\n",
       "    .dataframe thead th {\n",
       "        text-align: right;\n",
       "    }\n",
       "</style>\n",
       "<table border=\"1\" class=\"dataframe\">\n",
       "  <thead>\n",
       "    <tr style=\"text-align: right;\">\n",
       "      <th></th>\n",
       "      <th>epsilon</th>\n",
       "      <th>step_size</th>\n",
       "      <th>episode</th>\n",
       "      <th>performance</th>\n",
       "    </tr>\n",
       "  </thead>\n",
       "  <tbody>\n",
       "    <tr>\n",
       "      <th>0</th>\n",
       "      <td>0.1</td>\n",
       "      <td>0.3</td>\n",
       "      <td>1000</td>\n",
       "      <td>122.862970</td>\n",
       "    </tr>\n",
       "    <tr>\n",
       "      <th>1</th>\n",
       "      <td>0.1</td>\n",
       "      <td>0.3</td>\n",
       "      <td>2000</td>\n",
       "      <td>110.346370</td>\n",
       "    </tr>\n",
       "    <tr>\n",
       "      <th>2</th>\n",
       "      <td>0.1</td>\n",
       "      <td>0.3</td>\n",
       "      <td>5000</td>\n",
       "      <td>99.881284</td>\n",
       "    </tr>\n",
       "    <tr>\n",
       "      <th>3</th>\n",
       "      <td>0.1</td>\n",
       "      <td>0.3</td>\n",
       "      <td>10000</td>\n",
       "      <td>73.293087</td>\n",
       "    </tr>\n",
       "    <tr>\n",
       "      <th>4</th>\n",
       "      <td>0.1</td>\n",
       "      <td>0.3</td>\n",
       "      <td>20000</td>\n",
       "      <td>73.254168</td>\n",
       "    </tr>\n",
       "    <tr>\n",
       "      <th>5</th>\n",
       "      <td>0.1</td>\n",
       "      <td>0.3</td>\n",
       "      <td>50000</td>\n",
       "      <td>73.330389</td>\n",
       "    </tr>\n",
       "  </tbody>\n",
       "</table>\n",
       "</div>"
      ],
      "text/plain": [
       "   epsilon  step_size  episode  performance\n",
       "0      0.1        0.3     1000   122.862970\n",
       "1      0.1        0.3     2000   110.346370\n",
       "2      0.1        0.3     5000    99.881284\n",
       "3      0.1        0.3    10000    73.293087\n",
       "4      0.1        0.3    20000    73.254168\n",
       "5      0.1        0.3    50000    73.330389"
      ]
     },
     "execution_count": 2762,
     "metadata": {},
     "output_type": "execute_result"
    }
   ],
   "source": [
    "df_episode_all "
   ]
  },
  {
   "cell_type": "markdown",
   "metadata": {},
   "source": [
    "\n",
    "---\n",
    "\n",
    "**Plot one simulation of best performance**\n",
    "\n",
    "\n",
    "---"
   ]
  },
  {
   "cell_type": "markdown",
   "metadata": {},
   "source": [
    "The variable $fail$ indicates that asset failed (fail = 1) and the asset was replaced(fail = -1), thus we don't consider of the failure, since mu = (0-0)/5 = 0 absolutely surely in this case."
   ]
  },
  {
   "cell_type": "code",
   "execution_count": 2703,
   "metadata": {
    "id": "mWfLrcP5FOCg",
    "scrolled": true
   },
   "outputs": [],
   "source": [
    "# Perform path simulation of episode:  n_episode+1\n",
    "state, maint = env.reset()\n",
    "action = agent.start(state, maint)\n",
    "state_path = [state]\n",
    "maint_path = [maint]\n",
    "action_path = [action]\n",
    "fail_path = [0]\n",
    "for t in range(timesteps):\n",
    "    mu = (state - maint)/5\n",
    "    state, maint,reward = env.step(action)\n",
    "    if action == 2:\n",
    "        fail = -1\n",
    "    elif action ==1:\n",
    "        if env.rng.random() < mu:\n",
    "            reward = 0 - env.service\n",
    "            fail = 1\n",
    "        else:\n",
    "            fail = 0\n",
    "    else:\n",
    "        if env.rng.random() < mu:\n",
    "            reward = 0\n",
    "            fail = 1\n",
    "        else:\n",
    "            fail = 0\n",
    "    action = agent.step(reward, state, maint)\n",
    "    state_path.append(state)\n",
    "    maint_path.append(maint)\n",
    "    action_path.append(action)\n",
    "    fail_path.append(fail)"
   ]
  },
  {
   "cell_type": "code",
   "execution_count": 2243,
   "metadata": {
    "scrolled": false
   },
   "outputs": [],
   "source": [
    "# performance = env.sumprofit(state_path, maint_path, action_path, fail_path, timesteps)\n",
    "# print('Performance of the simulation is: ' + str(performance))"
   ]
  },
  {
   "cell_type": "code",
   "execution_count": 2704,
   "metadata": {
    "id": "2k6Oy7jLpfiR",
    "scrolled": true
   },
   "outputs": [],
   "source": [
    "# extract the value function from action value function\n",
    "V = defaultdict(float)\n",
    "policy = defaultdict(int)\n",
    "for state_maint, values in sorted(agent.q.items()):\n",
    "    value = np.max(values)\n",
    "    V[state_maint] = value\n",
    "    action = np.argmax(values)\n",
    "    policy[state_maint] = action\n"
   ]
  },
  {
   "cell_type": "code",
   "execution_count": 2705,
   "metadata": {
    "scrolled": true
   },
   "outputs": [
    {
     "data": {
      "text/plain": [
       "72.41120090711942"
      ]
     },
     "execution_count": 2705,
     "metadata": {},
     "output_type": "execute_result"
    }
   ],
   "source": [
    "#convert dictionary to array so that we can compare the norm of different value function\n",
    "V_sar = np.zeros((env.n_states, env.n_maint))\n",
    "for k, v in V.items():\n",
    "    V_sar[k[0],k[1]] = v\n",
    "norm = np.linalg.norm(V_sar-V_DP)\n",
    "norm"
   ]
  },
  {
   "cell_type": "code",
   "execution_count": 2706,
   "metadata": {
    "scrolled": false
   },
   "outputs": [
    {
     "data": {
      "image/png": "[encoded data removed]",
      "text/plain": [
       "<Figure size 1152x288 with 1 Axes>"
      ]
     },
     "metadata": {
      "needs_background": "light"
     },
     "output_type": "display_data"
    }
   ],
   "source": [
    "fig = plt.figure(figsize=(16, 4))\n",
    "plt.plot(state_path, label='Age of machine')\n",
    "plt.plot(action_path, 'o', label='Decision')\n",
    "plt.plot(maint_path, '^', label='Number of maintenance')\n",
    "plt.plot(fail_path, 'x', label='Machine fail')\n",
    "plt.title('State and action path')\n",
    "plt.xlabel('Time step')\n",
    "plt.legend()\n",
    "plt.savefig('SARSA_Path' + '-'+ str(n_episodes)+'-' + str(discount)+'-'+ str(step_size)+'-'+ str(epsilon) +'.pdf')\n",
    "plt.show()"
   ]
  },
  {
   "cell_type": "code",
   "execution_count": 2707,
   "metadata": {
    "scrolled": true
   },
   "outputs": [
    {
     "data": {
      "image/png": "[encoded data removed]",
      "text/plain": [
       "<Figure size 576x576 with 2 Axes>"
      ]
     },
     "metadata": {
      "needs_background": "light"
     },
     "output_type": "display_data"
    }
   ],
   "source": [
    "plt.figure(figsize=(8,8))\n",
    "ser = pd.Series(list(V.values()),\n",
    "                  index= pd.MultiIndex.from_tuples( V.keys(), names=[\"Age of machine\", \"Number of matainenace\"]))\n",
    "df = ser.unstack().fillna(0)\n",
    "#df.shape\n",
    "sns.heatmap(df, annot=True, fmt = 'g')\n",
    "plt.title('Value function')\n",
    "plt.savefig('SARSA_Q' + '-'+ str(n_episodes)+'-' + str(discount)+'-'+ str(step_size)+'-'+ str(epsilon) +'.pdf')\n",
    "plt.show()"
   ]
  },
  {
   "cell_type": "code",
   "execution_count": 2708,
   "metadata": {
    "scrolled": true
   },
   "outputs": [
    {
     "data": {
      "image/png": "[encoded data removed]",
      "text/plain": [
       "<Figure size 576x576 with 2 Axes>"
      ]
     },
     "metadata": {
      "needs_background": "light"
     },
     "output_type": "display_data"
    }
   ],
   "source": [
    "plt.figure(figsize=(8,8))\n",
    "ser = pd.Series(list(policy.values()),\n",
    "                  index= pd.MultiIndex.from_tuples( policy.keys(), names=[\"Age of machine\", \"Number of maintenance\"]))\n",
    "df = ser.unstack().fillna(-1)\n",
    "#df.shape\n",
    "sns.heatmap(df, annot=True, fmt = 'g')\n",
    "plt.title('Policy')\n",
    "plt.savefig('SARSA_Policy' +'-' +str(n_episodes)+'-' + str(discount)+'-'+ str(step_size)+'-'+ str(epsilon) +'.pdf')\n",
    "plt.show()"
   ]
  },
  {
   "cell_type": "code",
   "execution_count": null,
   "metadata": {},
   "outputs": [],
   "source": []
  },
  {
   "cell_type": "markdown",
   "metadata": {
    "id": "L_0Qq9vBFXZu"
   },
   "source": [
    "# **Q-Learning Agent**"
   ]
  },
  {
   "cell_type": "code",
   "execution_count": 2458,
   "metadata": {
    "id": "-Fpwfg7SFTgy"
   },
   "outputs": [],
   "source": [
    "class QLearningAgent():\n",
    "    def __init__(self, agent_info):\n",
    "        \"\"\"Initialize Agent\n",
    "\n",
    "        Args: \n",
    "            agent_info (dict): Parameters used to initialize agent.\n",
    "            {\n",
    "                n_actions (int): Number of actions.\n",
    "                epsilon (float): Exploration parameter.\n",
    "                step_size (float): Learning rate alpha.\n",
    "                discount (float): Discount factor gamma.\n",
    "            }\n",
    "        \"\"\"\n",
    "        self.n_actions = agent_info[\"n_actions\"]\n",
    "        self.epsilon = agent_info[\"epsilon\"]\n",
    "        self.step_size = agent_info[\"step_size\"]\n",
    "        self.discount = agent_info[\"discount\"]\n",
    "\n",
    "        self.rng = default_rng()\n",
    "\n",
    "        # Create an array for action-value estimates and initialize it to zero.\n",
    "        self.q = defaultdict(lambda: np.zeros(self.n_actions))      \n",
    "\n",
    "\n",
    "    def step(self, reward, state, maint):\n",
    "        \"\"\"A step taken by the agent\n",
    "\n",
    "        Args:\n",
    "            next_state (int):  next state from the environment\n",
    "            next_maint (int):  next state of maintenance failure from environment \n",
    "        Returns:\n",
    "            next_action (int): action the agent takes in next_state\n",
    "        \"\"\"\n",
    "\n",
    "        # choose action using epsilon greedy policy\n",
    "        action = self.select_action(state, maint)\n",
    "\n",
    "            \n",
    "        target = reward + self.discount*np.max(self.q[state, maint])   \n",
    "        td_error = target - self.q[self.previous_state,self.previous_maint][self.previous_action]\n",
    "        self.q[self.previous_state,self.previous_maint][self.previous_action] += self.step_size* td_error\n",
    "\n",
    "\n",
    "        # save current state and action\n",
    "        self.previous_state = state\n",
    "        self.previous_maint = maint\n",
    "        self.previous_action = action\n",
    "\n",
    "        return action\n",
    "\n",
    "        \n",
    "    def select_action(self, state, maint):\n",
    "        \"\"\"Select action using epsilon greedy policy\n",
    "\n",
    "        Args:\n",
    "            state (int): current state\n",
    "            maint (int): current times of maitenance failure\n",
    "        Returns:\n",
    "            action (int): action the agent takes\n",
    "        \"\"\"\n",
    "        \n",
    "        # performe epsilon greedy policy improvement\n",
    "        # remember to replace asset if age is 5\n",
    "        if state== 5:\n",
    "            return 2\n",
    "        \n",
    "        if  self.rng.random() < self.epsilon:\n",
    "            action = self.rng.choice(n_actions)\n",
    "        else:\n",
    "            action = self.argmax(self.q[state, maint])\n",
    "        return action\n",
    "\n",
    "\n",
    "    def argmax(self, q_values):\n",
    "        \"\"\"Return the index of maximum value with ties broken randomly.\n",
    "\n",
    "        Args:\n",
    "            q_values (numpy.ndarray): A shape-(n_actions,) array of estimated\n",
    "                action_values.\n",
    "\n",
    "        Returns:\n",
    "            index (int): Index of the maximal value.\n",
    "        \"\"\"\n",
    "\n",
    "        ties = np.flatnonzero(np.isclose(q_values, max(q_values)))\n",
    "        index = self.rng.choice(ties)\n",
    "\n",
    "        return index\n",
    "\n",
    "\n",
    "    def start(self, state, maint):\n",
    "        \"\"\"Selects action in inital state\n",
    "\n",
    "        Args:\n",
    "            state (int): initial state\n",
    "            maint (int): initial maint\n",
    "        Returns:\n",
    "            action (int): initial action\n",
    "        \"\"\"\n",
    "\n",
    "        action = 0\n",
    "\n",
    "        self.previous_maint= maint\n",
    "        self.previous_state = state\n",
    "        self.previous_action = action\n",
    "\n",
    "        return action\n"
   ]
  },
  {
   "cell_type": "code",
   "execution_count": 2603,
   "metadata": {
    "scrolled": false
   },
   "outputs": [
    {
     "name": "stdout",
     "output_type": "stream",
     "text": [
      "Norm of difference of value function at episodes10000 simulation:15.91063922603309\n",
      "Norm of difference of value function at episodes10000 simulation:9.442319837723392\n",
      "Norm of difference of value function at episodes10000 simulation:13.140362637044724\n"
     ]
    }
   ],
   "source": [
    "sum_norm =0\n",
    "for n in range(3):\n",
    "    env = AssetReplacementEnv()\n",
    "\n",
    "    epsilon = 0.3\n",
    "    step_size = 0.2\n",
    "    discount = 0.9\n",
    "\n",
    "\n",
    "    agent_info = {\"n_actions\": env.n_actions,\n",
    "                  \"epsilon\": epsilon,\n",
    "                  \"step_size\": step_size,\n",
    "                  \"discount\": discount}\n",
    "\n",
    "\n",
    "    agent = QLearningAgent(agent_info)\n",
    "\n",
    "    n_episodes = 10000\n",
    "    timesteps = 20\n",
    "\n",
    "    for i in range(n_episodes):\n",
    "        state, maint = env.reset()\n",
    "        action = agent.start(state, maint)\n",
    "\n",
    "        for t in range(timesteps):\n",
    "            mu = (state - maint)/5\n",
    "            state, maint, reward, = env.step(action)\n",
    "            if action == 2:\n",
    "                pass\n",
    "            elif action ==1:\n",
    "                if env.rng.random() < mu:\n",
    "                    reward = 0 - env.service\n",
    "                else:\n",
    "                    pass\n",
    "            else:\n",
    "                if env.rng.random() < mu:\n",
    "                    reward = 0\n",
    "                else:\n",
    "                    pass    \n",
    "            action = agent.step(reward, state, maint)\n",
    "\n",
    "    V = defaultdict(float)\n",
    "    policy = defaultdict(int)\n",
    "    for state_maint, values in sorted(agent.q.items()):\n",
    "        value = np.max(values)\n",
    "        V[state_maint] = value\n",
    "        action = np.argmax(values)\n",
    "        policy[state_maint] = action\n",
    "\n",
    "\n",
    "\n",
    "    #convert dictionary to array so that we can compare the norm of different value function\n",
    "    V_QL = np.zeros((env.n_states, env.n_maint))\n",
    "    for k, v in V.items():\n",
    "        V_QL[k[0],k[1]] = v\n",
    "    norm = np.linalg.norm(V_QL-V_DP)\n",
    "    print('Norm of difference of value function at episodes'+ str(n_episodes)+' simulation:' + str(norm))\n",
    "    sum_norm += norm\n",
    "norm = sum_norm /3"
   ]
  },
  {
   "cell_type": "markdown",
   "metadata": {},
   "source": [
    "\n",
    "---\n",
    "\n",
    "**Evaluation**\n",
    "\n",
    "\n",
    "---\n"
   ]
  },
  {
   "cell_type": "markdown",
   "metadata": {},
   "source": [
    "Summary:  \n",
    "- somwhow perform much better than Sarsa. why ?\n",
    "- $\\epsilon$ (greey for action selection)   \n",
    "  Around 0.2 - 0.4 is the best, when n_episodes=10000 for trends seeing  the table below   \n",
    "- step_size  the quantity that allowing learning from td_error  \n",
    "  Around 0.3 is the best, for trends seeing  the table below  \n",
    "- n_episodes  number of episodes for training  \n",
    "  theoritically the larger the better, but the performance can't be improve at a maximal n_episodes = 10000."
   ]
  },
  {
   "cell_type": "code",
   "execution_count": 2604,
   "metadata": {
    "scrolled": true
   },
   "outputs": [
    {
     "data": {
      "text/html": [
       "<div>\n",
       "<style scoped>\n",
       "    .dataframe tbody tr th:only-of-type {\n",
       "        vertical-align: middle;\n",
       "    }\n",
       "\n",
       "    .dataframe tbody tr th {\n",
       "        vertical-align: top;\n",
       "    }\n",
       "\n",
       "    .dataframe thead th {\n",
       "        text-align: right;\n",
       "    }\n",
       "</style>\n",
       "<table border=\"1\" class=\"dataframe\">\n",
       "  <thead>\n",
       "    <tr style=\"text-align: right;\">\n",
       "      <th></th>\n",
       "      <th>epsilon</th>\n",
       "      <th>step_size</th>\n",
       "      <th>episode</th>\n",
       "      <th>performance</th>\n",
       "    </tr>\n",
       "  </thead>\n",
       "  <tbody>\n",
       "    <tr>\n",
       "      <th>0</th>\n",
       "      <td>0.3</td>\n",
       "      <td>0.2</td>\n",
       "      <td>10000</td>\n",
       "      <td>12.831107</td>\n",
       "    </tr>\n",
       "  </tbody>\n",
       "</table>\n",
       "</div>"
      ],
      "text/plain": [
       "   epsilon  step_size  episode  performance\n",
       "0      0.3        0.2    10000    12.831107"
      ]
     },
     "execution_count": 2604,
     "metadata": {},
     "output_type": "execute_result"
    }
   ],
   "source": [
    "import pandas as pd\n",
    "param_perform = {'epsilon': [epsilon],\n",
    "                'step_size': [step_size],\n",
    "                'episode': [n_episodes],\n",
    "                'performance': [norm]}\n",
    "df_parper = pd.DataFrame (param_perform, columns = ['epsilon','step_size','episode','performance'])\n",
    "df_parper"
   ]
  },
  {
   "cell_type": "code",
   "execution_count": 2535,
   "metadata": {},
   "outputs": [],
   "source": [
    "df_epsilon = df_parper"
   ]
  },
  {
   "cell_type": "code",
   "execution_count": 2480,
   "metadata": {},
   "outputs": [],
   "source": [
    "#df_epsilon_all = df_epsilon"
   ]
  },
  {
   "cell_type": "code",
   "execution_count": 2536,
   "metadata": {
    "scrolled": false
   },
   "outputs": [],
   "source": [
    "df_epsilon_all = df_epsilon_all.append(df_epsilon, ignore_index = True)"
   ]
  },
  {
   "cell_type": "code",
   "execution_count": 2537,
   "metadata": {
    "scrolled": true
   },
   "outputs": [
    {
     "data": {
      "text/html": [
       "<div>\n",
       "<style scoped>\n",
       "    .dataframe tbody tr th:only-of-type {\n",
       "        vertical-align: middle;\n",
       "    }\n",
       "\n",
       "    .dataframe tbody tr th {\n",
       "        vertical-align: top;\n",
       "    }\n",
       "\n",
       "    .dataframe thead th {\n",
       "        text-align: right;\n",
       "    }\n",
       "</style>\n",
       "<table border=\"1\" class=\"dataframe\">\n",
       "  <thead>\n",
       "    <tr style=\"text-align: right;\">\n",
       "      <th></th>\n",
       "      <th>epsilon</th>\n",
       "      <th>step_size</th>\n",
       "      <th>episode</th>\n",
       "      <th>performance</th>\n",
       "    </tr>\n",
       "  </thead>\n",
       "  <tbody>\n",
       "    <tr>\n",
       "      <th>0</th>\n",
       "      <td>0.05</td>\n",
       "      <td>0.2</td>\n",
       "      <td>10000</td>\n",
       "      <td>86.224117</td>\n",
       "    </tr>\n",
       "    <tr>\n",
       "      <th>1</th>\n",
       "      <td>0.10</td>\n",
       "      <td>0.2</td>\n",
       "      <td>10000</td>\n",
       "      <td>61.988011</td>\n",
       "    </tr>\n",
       "    <tr>\n",
       "      <th>2</th>\n",
       "      <td>0.20</td>\n",
       "      <td>0.2</td>\n",
       "      <td>10000</td>\n",
       "      <td>18.846730</td>\n",
       "    </tr>\n",
       "    <tr>\n",
       "      <th>3</th>\n",
       "      <td>0.30</td>\n",
       "      <td>0.2</td>\n",
       "      <td>10000</td>\n",
       "      <td>19.517578</td>\n",
       "    </tr>\n",
       "    <tr>\n",
       "      <th>4</th>\n",
       "      <td>0.40</td>\n",
       "      <td>0.2</td>\n",
       "      <td>10000</td>\n",
       "      <td>20.558828</td>\n",
       "    </tr>\n",
       "    <tr>\n",
       "      <th>5</th>\n",
       "      <td>0.50</td>\n",
       "      <td>0.2</td>\n",
       "      <td>10000</td>\n",
       "      <td>24.219477</td>\n",
       "    </tr>\n",
       "    <tr>\n",
       "      <th>6</th>\n",
       "      <td>0.60</td>\n",
       "      <td>0.2</td>\n",
       "      <td>10000</td>\n",
       "      <td>25.391839</td>\n",
       "    </tr>\n",
       "    <tr>\n",
       "      <th>7</th>\n",
       "      <td>0.70</td>\n",
       "      <td>0.2</td>\n",
       "      <td>10000</td>\n",
       "      <td>35.083876</td>\n",
       "    </tr>\n",
       "    <tr>\n",
       "      <th>8</th>\n",
       "      <td>0.80</td>\n",
       "      <td>0.2</td>\n",
       "      <td>10000</td>\n",
       "      <td>38.960041</td>\n",
       "    </tr>\n",
       "  </tbody>\n",
       "</table>\n",
       "</div>"
      ],
      "text/plain": [
       "   epsilon  step_size  episode  performance\n",
       "0     0.05        0.2    10000    86.224117\n",
       "1     0.10        0.2    10000    61.988011\n",
       "2     0.20        0.2    10000    18.846730\n",
       "3     0.30        0.2    10000    19.517578\n",
       "4     0.40        0.2    10000    20.558828\n",
       "5     0.50        0.2    10000    24.219477\n",
       "6     0.60        0.2    10000    25.391839\n",
       "7     0.70        0.2    10000    35.083876\n",
       "8     0.80        0.2    10000    38.960041"
      ]
     },
     "execution_count": 2537,
     "metadata": {},
     "output_type": "execute_result"
    }
   ],
   "source": [
    "df_epsilon_all"
   ]
  },
  {
   "cell_type": "code",
   "execution_count": 2566,
   "metadata": {},
   "outputs": [],
   "source": [
    "df_stepsize = df_parper\n"
   ]
  },
  {
   "cell_type": "code",
   "execution_count": 2541,
   "metadata": {},
   "outputs": [],
   "source": [
    "#df_stepsize_all = df_stepsize"
   ]
  },
  {
   "cell_type": "code",
   "execution_count": 2567,
   "metadata": {
    "scrolled": true
   },
   "outputs": [
    {
     "data": {
      "text/html": [
       "<div>\n",
       "<style scoped>\n",
       "    .dataframe tbody tr th:only-of-type {\n",
       "        vertical-align: middle;\n",
       "    }\n",
       "\n",
       "    .dataframe tbody tr th {\n",
       "        vertical-align: top;\n",
       "    }\n",
       "\n",
       "    .dataframe thead th {\n",
       "        text-align: right;\n",
       "    }\n",
       "</style>\n",
       "<table border=\"1\" class=\"dataframe\">\n",
       "  <thead>\n",
       "    <tr style=\"text-align: right;\">\n",
       "      <th></th>\n",
       "      <th>epsilon</th>\n",
       "      <th>step_size</th>\n",
       "      <th>episode</th>\n",
       "      <th>performance</th>\n",
       "    </tr>\n",
       "  </thead>\n",
       "  <tbody>\n",
       "    <tr>\n",
       "      <th>0</th>\n",
       "      <td>0.3</td>\n",
       "      <td>0.05</td>\n",
       "      <td>10000</td>\n",
       "      <td>25.268998</td>\n",
       "    </tr>\n",
       "    <tr>\n",
       "      <th>1</th>\n",
       "      <td>0.3</td>\n",
       "      <td>0.10</td>\n",
       "      <td>10000</td>\n",
       "      <td>13.257339</td>\n",
       "    </tr>\n",
       "    <tr>\n",
       "      <th>2</th>\n",
       "      <td>0.3</td>\n",
       "      <td>0.20</td>\n",
       "      <td>10000</td>\n",
       "      <td>12.419829</td>\n",
       "    </tr>\n",
       "    <tr>\n",
       "      <th>3</th>\n",
       "      <td>0.3</td>\n",
       "      <td>0.20</td>\n",
       "      <td>10000</td>\n",
       "      <td>18.885340</td>\n",
       "    </tr>\n",
       "    <tr>\n",
       "      <th>4</th>\n",
       "      <td>0.3</td>\n",
       "      <td>0.30</td>\n",
       "      <td>10000</td>\n",
       "      <td>25.108683</td>\n",
       "    </tr>\n",
       "    <tr>\n",
       "      <th>5</th>\n",
       "      <td>0.3</td>\n",
       "      <td>0.40</td>\n",
       "      <td>10000</td>\n",
       "      <td>24.478720</td>\n",
       "    </tr>\n",
       "    <tr>\n",
       "      <th>6</th>\n",
       "      <td>0.3</td>\n",
       "      <td>0.50</td>\n",
       "      <td>10000</td>\n",
       "      <td>27.698123</td>\n",
       "    </tr>\n",
       "  </tbody>\n",
       "</table>\n",
       "</div>"
      ],
      "text/plain": [
       "   epsilon  step_size  episode  performance\n",
       "0      0.3       0.05    10000    25.268998\n",
       "1      0.3       0.10    10000    13.257339\n",
       "2      0.3       0.20    10000    12.419829\n",
       "3      0.3       0.20    10000    18.885340\n",
       "4      0.3       0.30    10000    25.108683\n",
       "5      0.3       0.40    10000    24.478720\n",
       "6      0.3       0.50    10000    27.698123"
      ]
     },
     "execution_count": 2567,
     "metadata": {},
     "output_type": "execute_result"
    }
   ],
   "source": [
    "df_stepsize_all =  df_stepsize_all.append(df_stepsize,ignore_index=True)\n",
    "df_stepsize_all"
   ]
  },
  {
   "cell_type": "code",
   "execution_count": 2600,
   "metadata": {},
   "outputs": [],
   "source": [
    "df_episode = df_parper"
   ]
  },
  {
   "cell_type": "code",
   "execution_count": 2571,
   "metadata": {},
   "outputs": [],
   "source": [
    "#df_episode_all = df_episode"
   ]
  },
  {
   "cell_type": "code",
   "execution_count": 2601,
   "metadata": {
    "scrolled": true
   },
   "outputs": [],
   "source": [
    "df_episode_all = df_episode_all.append(df_episode,ignore_index=True)\n"
   ]
  },
  {
   "cell_type": "code",
   "execution_count": 2602,
   "metadata": {
    "scrolled": false
   },
   "outputs": [
    {
     "data": {
      "text/html": [
       "<div>\n",
       "<style scoped>\n",
       "    .dataframe tbody tr th:only-of-type {\n",
       "        vertical-align: middle;\n",
       "    }\n",
       "\n",
       "    .dataframe tbody tr th {\n",
       "        vertical-align: top;\n",
       "    }\n",
       "\n",
       "    .dataframe thead th {\n",
       "        text-align: right;\n",
       "    }\n",
       "</style>\n",
       "<table border=\"1\" class=\"dataframe\">\n",
       "  <thead>\n",
       "    <tr style=\"text-align: right;\">\n",
       "      <th></th>\n",
       "      <th>epsilon</th>\n",
       "      <th>step_size</th>\n",
       "      <th>episode</th>\n",
       "      <th>performance</th>\n",
       "    </tr>\n",
       "  </thead>\n",
       "  <tbody>\n",
       "    <tr>\n",
       "      <th>0</th>\n",
       "      <td>0.3</td>\n",
       "      <td>0.2</td>\n",
       "      <td>1000</td>\n",
       "      <td>45.837908</td>\n",
       "    </tr>\n",
       "    <tr>\n",
       "      <th>1</th>\n",
       "      <td>0.3</td>\n",
       "      <td>0.2</td>\n",
       "      <td>2000</td>\n",
       "      <td>29.726903</td>\n",
       "    </tr>\n",
       "    <tr>\n",
       "      <th>2</th>\n",
       "      <td>0.3</td>\n",
       "      <td>0.2</td>\n",
       "      <td>5000</td>\n",
       "      <td>24.666820</td>\n",
       "    </tr>\n",
       "    <tr>\n",
       "      <th>3</th>\n",
       "      <td>0.3</td>\n",
       "      <td>0.2</td>\n",
       "      <td>10000</td>\n",
       "      <td>18.056475</td>\n",
       "    </tr>\n",
       "    <tr>\n",
       "      <th>4</th>\n",
       "      <td>0.3</td>\n",
       "      <td>0.2</td>\n",
       "      <td>20000</td>\n",
       "      <td>18.283516</td>\n",
       "    </tr>\n",
       "    <tr>\n",
       "      <th>5</th>\n",
       "      <td>0.3</td>\n",
       "      <td>0.2</td>\n",
       "      <td>50000</td>\n",
       "      <td>19.275222</td>\n",
       "    </tr>\n",
       "    <tr>\n",
       "      <th>6</th>\n",
       "      <td>0.3</td>\n",
       "      <td>0.2</td>\n",
       "      <td>50000</td>\n",
       "      <td>19.275222</td>\n",
       "    </tr>\n",
       "  </tbody>\n",
       "</table>\n",
       "</div>"
      ],
      "text/plain": [
       "   epsilon  step_size  episode  performance\n",
       "0      0.3        0.2     1000    45.837908\n",
       "1      0.3        0.2     2000    29.726903\n",
       "2      0.3        0.2     5000    24.666820\n",
       "3      0.3        0.2    10000    18.056475\n",
       "4      0.3        0.2    20000    18.283516\n",
       "5      0.3        0.2    50000    19.275222\n",
       "6      0.3        0.2    50000    19.275222"
      ]
     },
     "execution_count": 2602,
     "metadata": {},
     "output_type": "execute_result"
    }
   ],
   "source": [
    "df_episode_all"
   ]
  },
  {
   "cell_type": "markdown",
   "metadata": {},
   "source": [
    "\n",
    "---\n",
    "\n",
    "**Plot one simulation of best performance**\n",
    "\n",
    "\n",
    "---\n"
   ]
  },
  {
   "cell_type": "markdown",
   "metadata": {},
   "source": [
    "The variable $fail$ indicates that asset failed (fail = 1) and the asset was replaced(fail = -1), thus we don't consider of the failure, since mu = (0-0)/5 = 0 absolutely surely in this case."
   ]
  },
  {
   "cell_type": "code",
   "execution_count": 2624,
   "metadata": {
    "id": "d2hfup9vJ9Nh"
   },
   "outputs": [],
   "source": [
    "# Perform path simulation\n",
    "state, maint = env.reset()\n",
    "\n",
    "#agent.epsilon = 0\n",
    "action = agent.start(state, maint)\n",
    "\n",
    "state_path = [state]\n",
    "maint_path = [maint]\n",
    "action_path = [action]\n",
    "fail_path = [0]\n",
    "\n",
    "timesteps = 20\n",
    "\n",
    "for t in range(timesteps):\n",
    "    mu = (state - maint)/5\n",
    "    state, maint,reward = env.step(action)\n",
    "    if action == 2:\n",
    "        fail = -1\n",
    "    elif action ==1:\n",
    "        if env.rng.random() < mu:\n",
    "            reward = 0 - env.service\n",
    "            fail = 1\n",
    "        else:\n",
    "            fail = 0\n",
    "    else:\n",
    "        if env.rng.random() < mu:\n",
    "            reward = 0\n",
    "            fail = 1\n",
    "        else:\n",
    "            fail = 0\n",
    "    action = agent.step(reward, state, maint)\n",
    "    state_path.append(state)\n",
    "    maint_path.append(maint)\n",
    "    action_path.append(action)\n",
    "    fail_path.append(fail)"
   ]
  },
  {
   "cell_type": "code",
   "execution_count": 779,
   "metadata": {
    "scrolled": true
   },
   "outputs": [],
   "source": [
    "# performance = env.sumprofit(state_path, maint_path, action_path, fail_path, timesteps)\n",
    "# print('Performance of the simulation is: ' + str(performance))"
   ]
  },
  {
   "cell_type": "code",
   "execution_count": 2625,
   "metadata": {
    "id": "xFYsQEXdwzYz"
   },
   "outputs": [],
   "source": [
    "# extract the value and policy function from action value function\n",
    "V = defaultdict(float)\n",
    "policy = defaultdict(int)\n",
    "for state_maint, values in sorted(agent.q.items()):\n",
    "    value = np.max(values)\n",
    "    action = np.argmax(values)\n",
    "    policy[state_maint] = action\n",
    "    V[state_maint] = value\n"
   ]
  },
  {
   "cell_type": "code",
   "execution_count": 2626,
   "metadata": {},
   "outputs": [
    {
     "data": {
      "text/plain": [
       "14.687482436288978"
      ]
     },
     "execution_count": 2626,
     "metadata": {},
     "output_type": "execute_result"
    }
   ],
   "source": [
    "V_QL = np.zeros((env.n_states, env.n_maint))\n",
    "for k, v in V.items():\n",
    "    V_QL[k[0],k[1]] = v\n",
    "np.linalg.norm(V_QL-V_DP)"
   ]
  },
  {
   "cell_type": "code",
   "execution_count": 2627,
   "metadata": {
    "colab": {
     "base_uri": "https://localhost:8080/",
     "height": 299
    },
    "executionInfo": {
     "elapsed": 1859,
     "status": "ok",
     "timestamp": 1606150702066,
     "user": {
      "displayName": "Thomas Gehrmann",
      "photoUrl": "",
      "userId": "03269050171692580693"
     },
     "user_tz": -60
    },
    "id": "2Eev3SGGF6wa",
    "outputId": "20d29d80-44fd-4f34-aa4c-b9dd08913b23",
    "scrolled": true
   },
   "outputs": [
    {
     "data": {
      "image/png": "[encoded data removed]",
      "text/plain": [
       "<Figure size 1152x288 with 1 Axes>"
      ]
     },
     "metadata": {
      "needs_background": "light"
     },
     "output_type": "display_data"
    }
   ],
   "source": [
    "fig = plt.figure(figsize=(16, 4))\n",
    "plt.plot(state_path, label='Age of machine')\n",
    "plt.plot(action_path, 'o', label='Decision')\n",
    "plt.plot(maint_path, 'x', label='Maintenance failure')\n",
    "plt.plot(fail_path, 'x', label='Machine fail')\n",
    "\n",
    "plt.title('State and action path')\n",
    "plt.xlabel('Time step')\n",
    "plt.legend()\n",
    "plt.savefig('QLearning_Path' + '-'+ str(n_episodes)+'-' + str(discount)+'-'+ str(step_size)+'-'+ str(epsilon) +'.pdf')\n",
    "plt.show()\n"
   ]
  },
  {
   "cell_type": "code",
   "execution_count": 2628,
   "metadata": {
    "scrolled": true
   },
   "outputs": [
    {
     "data": {
      "image/png": "[encoded data removed]",
      "text/plain": [
       "<Figure size 576x576 with 2 Axes>"
      ]
     },
     "metadata": {
      "needs_background": "light"
     },
     "output_type": "display_data"
    }
   ],
   "source": [
    "plt.figure(figsize=(8,8))\n",
    "ser = pd.Series(list(V.values()),\n",
    "                  index= pd.MultiIndex.from_tuples( V.keys(), names=[\"Age of machine\", \"Times of matainenace failure\"]))\n",
    "df = ser.unstack().fillna(-1)\n",
    "#df.shape\n",
    "sns.heatmap(df, annot=True, fmt = 'g')\n",
    "plt.title('Value function')\n",
    "plt.savefig('Qlearning_Q' + '-'+ str(n_episodes)+'-' + str(discount)+'-'+ str(step_size)+'-'+ str(epsilon) +'.pdf')\n",
    "plt.show()"
   ]
  },
  {
   "cell_type": "code",
   "execution_count": 2629,
   "metadata": {
    "scrolled": true
   },
   "outputs": [
    {
     "data": {
      "image/png": "[encoded data removed]",
      "text/plain": [
       "<Figure size 576x576 with 2 Axes>"
      ]
     },
     "metadata": {
      "needs_background": "light"
     },
     "output_type": "display_data"
    }
   ],
   "source": [
    "plt.figure(figsize=(8,8))\n",
    "ser = pd.Series(list(policy.values()),\n",
    "                  index= pd.MultiIndex.from_tuples( policy.keys(), names=[\"Age of machine\", \"Times of matainenace failure\"]))\n",
    "df = ser.unstack().fillna(-1)\n",
    "#df.shape\n",
    "sns.heatmap(df, annot=True, fmt = 'g')\n",
    "plt.title('Policy')\n",
    "plt.savefig('Qlearning_Policy' +'-' +str(n_episodes)+'-' + str(discount)+'-'+ str(step_size)+'-'+ str(epsilon) +'.pdf')\n",
    "plt.show()"
   ]
  },
  {
   "cell_type": "markdown",
   "metadata": {
    "id": "KZy9g1moMP2Z"
   },
   "source": [
    "# **Expected Sarsa**"
   ]
  },
  {
   "cell_type": "code",
   "execution_count": 2631,
   "metadata": {
    "id": "__3k0fSLMSm0"
   },
   "outputs": [],
   "source": [
    "class ExpectedSarsaAgent():\n",
    "    def __init__(self, agent_info):\n",
    "        \"\"\"Initialize Agent.\n",
    "\n",
    "        Args: \n",
    "            agent_info (dict): Parameters used to initialize agent.\n",
    "            {\n",
    "                n_actions (int): Number of actions.\n",
    "                epsilon (float): Exploration parameter.\n",
    "                step_size (float): Learning rate alpha.\n",
    "                discount (float): Discount factor gamma.\n",
    "            }\n",
    "        \"\"\"\n",
    "\n",
    "        self.n_actions = agent_info[\"n_actions\"]\n",
    "        self.epsilon = agent_info[\"epsilon\"]\n",
    "        self.step_size = agent_info[\"step_size\"]\n",
    "        self.discount = agent_info[\"discount\"]\n",
    "\n",
    "        self.rng = default_rng()\n",
    "\n",
    "        # Create an array for action-value estimates and initialize it to zero.\n",
    "        self.q = defaultdict(lambda: np.zeros(self.n_actions))        \n",
    "\n",
    "\n",
    "    def step(self, reward, state, maint):\n",
    "        \"\"\"A step taken by the agent\n",
    "\n",
    "        Args:\n",
    "            next_state (int):  next state from the environment\n",
    "            next_maint (int):  next state of maintenance failure from environment \n",
    "        Returns:\n",
    "            next_action (int): action the agent takes in next_state\n",
    "        \"\"\"\n",
    "\n",
    "         # choose action using epsilon greedy policy\n",
    "        action = self.select_action(state, maint)  \n",
    "\n",
    "        # perform update\n",
    "        policy = np.ones(self.n_actions)*self.epsilon/self.n_actions\n",
    "        policy[np.argmax(self.q[state, maint])] += 1 - self.epsilon\n",
    "\n",
    "       # matrix-vector multiplication\n",
    "        expectation = self.q[state, maint] @ policy\n",
    "        target = reward + self.discount * expectation\n",
    "        td_error = target - self.q[self.previous_state, self.previous_maint][self.previous_action]\n",
    "        self.q[self.previous_state, self.previous_maint][self.previous_action] += self.step_size * td_error\n",
    "\n",
    "\n",
    "\n",
    "        # save current state and action\n",
    "        self.previous_state = state\n",
    "        self.previous_maint = maint\n",
    "        self.previous_action = action\n",
    "\n",
    "        return action\n",
    "\n",
    "        \n",
    "    def select_action(self, state, maint):\n",
    "        \"\"\"Select action using epsilon greedy policy\n",
    "\n",
    "        Args:\n",
    "            state (int): current state\n",
    "            maint (int): current times of maitenance failure\n",
    "        Returns:\n",
    "            action (int): action the agent takes\n",
    "        \"\"\"\n",
    "        if state == 5 or maint == 4:\n",
    "            return 2\n",
    "\n",
    "        current_q  = self.q[state, maint]\n",
    "      \n",
    "        if self.rng.random() < self.epsilon:\n",
    "            action = self.rng.choice(self.n_actions)\n",
    "        else:\n",
    "            action = self.argmax(current_q)\n",
    "\n",
    "        return action\n",
    "        \n",
    "\n",
    "    def argmax(self, q_values):\n",
    "        \"\"\"Return the index of maximum value with ties broken randomly.\n",
    "\n",
    "        Args:\n",
    "            q_values (numpy.ndarray): A shape-(n_actions,) array of estimated\n",
    "                action_values.\n",
    "\n",
    "        Returns:\n",
    "            index (int): Index of the maximal value.\n",
    "        \"\"\"\n",
    "\n",
    "        ties = np.flatnonzero(np.isclose(q_values, max(q_values)))\n",
    "        index = self.rng.choice(ties)\n",
    "\n",
    "        return index\n",
    "\n",
    "\n",
    "    def start(self, state, maint):\n",
    "        \"\"\"Selects action in inital state\n",
    "\n",
    "        Args:\n",
    "            state (int): initial state\n",
    "            maint (int): initial maint\n",
    "        Returns:\n",
    "            action (int): initial action\n",
    "        \"\"\"\n",
    "\n",
    "        action = 0\n",
    "        self.previous_state = state\n",
    "        self.previous_maint = maint\n",
    "        self.previous_action = action\n",
    "\n",
    "        return action"
   ]
  },
  {
   "cell_type": "code",
   "execution_count": 2633,
   "metadata": {
    "id": "a5m9KBzwTShr"
   },
   "outputs": [
    {
     "name": "stdout",
     "output_type": "stream",
     "text": [
      "Norm of difference of value function at episodes10000 simulation:68.07281955580078\n"
     ]
    }
   ],
   "source": [
    "env = AssetReplacementEnv()\n",
    "\n",
    "epsilon = 0.1\n",
    "step_size = 0.3\n",
    "discount = 0.9\n",
    "\n",
    "\n",
    "agent_info = {\"n_actions\": env.n_actions,\n",
    "              \"epsilon\": epsilon,\n",
    "              \"step_size\": step_size,\n",
    "              \"discount\": discount}\n",
    "\n",
    "\n",
    "agent = ExpectedSarsaAgent(agent_info)\n",
    "\n",
    "\n",
    "n_episodes = 10000\n",
    "timesteps = 20\n",
    "\n",
    "for _ in range(n_episodes):\n",
    "    state, maint = env.reset()\n",
    "    action = agent.start(state, maint)\n",
    "\n",
    "    for t in range(timesteps):\n",
    "        mu = (state - maint)/5\n",
    "        state, maint, reward, = env.step(action)\n",
    "        if action == 2:\n",
    "            pass\n",
    "        elif action ==1:\n",
    "            if env.rng.random() < mu:\n",
    "                reward = 0 - env.service\n",
    "            else:\n",
    "                pass\n",
    "        else:\n",
    "            if env.rng.random() < mu:\n",
    "                reward = 0\n",
    "            else:\n",
    "                pass    \n",
    "        action = agent.step(reward, state, maint)\n",
    "\n",
    "V = defaultdict(float)\n",
    "policy = defaultdict(int)\n",
    "for state_maint, values in sorted(agent.q.items()):\n",
    "    value = np.max(values)\n",
    "    V[state_maint] = value\n",
    "    action = np.argmax(values)\n",
    "    policy[state_maint] = action\n",
    "\n",
    "\n",
    "\n",
    "#convert dictionary to array so that we can compare the norm of different value function\n",
    "V_Ex = np.zeros((env.n_states, env.n_maint))\n",
    "for k, v in V.items():\n",
    "    V_Ex[k[0],k[1]] = v\n",
    "norm = np.linalg.norm(V_Ex-V_DP)\n",
    "print('Norm of difference of value function at episodes'+ str(n_episodes)+' simulation:' + str(norm))\n"
   ]
  },
  {
   "cell_type": "markdown",
   "metadata": {},
   "source": [
    "\n",
    "---\n",
    "\n",
    "**Plot one simulation of best performance**\n",
    "\n",
    "\n",
    "---\n"
   ]
  },
  {
   "cell_type": "markdown",
   "metadata": {},
   "source": [
    "The variable $fail$ indicates that asset failed (fail = 1) and the asset was replaced(fail = -1), thus we don't consider of the failure, since mu = (0-0)/5 = 0 absolutely surely in this case."
   ]
  },
  {
   "cell_type": "code",
   "execution_count": 2634,
   "metadata": {
    "id": "OBSq1sUzNIgQ"
   },
   "outputs": [],
   "source": [
    "# Perform path simulation\n",
    "state, maint = env.reset()\n",
    "action = agent.start(state, maint)\n",
    "\n",
    "state_path = [state]\n",
    "maint_path = [maint]\n",
    "action_path = [action]\n",
    "fail_path = [0]\n",
    "\n",
    "timesteps = 20\n",
    "\n",
    "for t in range(timesteps):\n",
    "    mu = (state - maint)/5\n",
    "    state, maint,reward = env.step(action)\n",
    "    if action == 2:\n",
    "        fail = -1\n",
    "    elif action ==1:\n",
    "        if env.rng.random() < mu:\n",
    "            reward = 0 - env.service\n",
    "            fail = 1\n",
    "        else:\n",
    "            fail = 0\n",
    "    else:\n",
    "        if env.rng.random() < mu:\n",
    "            reward = 0\n",
    "            fail = 1\n",
    "        else:\n",
    "            fail = 0\n",
    "    action = agent.step(reward, state, maint)\n",
    "    state_path.append(state)\n",
    "    maint_path.append(maint)\n",
    "    action_path.append(action)\n",
    "    fail_path.append(fail)"
   ]
  },
  {
   "cell_type": "code",
   "execution_count": 2641,
   "metadata": {
    "id": "YcOYKVtD_zcH"
   },
   "outputs": [],
   "source": [
    "# extract the value and policy function from action value function\n",
    "V = defaultdict(float)\n",
    "policy = defaultdict(int)\n",
    "for state_maint, values in sorted(agent.q.items()):\n",
    "    value = np.max(values)\n",
    "    V[state_maint] = value\n",
    "    action = np.argmax(values)\n",
    "    policy[state_maint] = action\n",
    "    "
   ]
  },
  {
   "cell_type": "code",
   "execution_count": 2642,
   "metadata": {},
   "outputs": [
    {
     "data": {
      "text/plain": [
       "65.95221592814711"
      ]
     },
     "execution_count": 2642,
     "metadata": {},
     "output_type": "execute_result"
    }
   ],
   "source": [
    "V_Ex = np.zeros((env.n_states, env.n_maint))\n",
    "for k, v in V.items():\n",
    "    V_Ex[k[0],k[1]] = v\n",
    "np.linalg.norm(V_Ex-V_DP)"
   ]
  },
  {
   "cell_type": "code",
   "execution_count": 2643,
   "metadata": {
    "colab": {
     "base_uri": "https://localhost:8080/",
     "height": 299
    },
    "executionInfo": {
     "elapsed": 1859,
     "status": "ok",
     "timestamp": 1606150702066,
     "user": {
      "displayName": "Thomas Gehrmann",
      "photoUrl": "",
      "userId": "03269050171692580693"
     },
     "user_tz": -60
    },
    "id": "2Eev3SGGF6wa",
    "outputId": "20d29d80-44fd-4f34-aa4c-b9dd08913b23",
    "scrolled": false
   },
   "outputs": [
    {
     "data": {
      "image/png": "[encoded data removed]",
      "text/plain": [
       "<Figure size 1152x288 with 1 Axes>"
      ]
     },
     "metadata": {
      "needs_background": "light"
     },
     "output_type": "display_data"
    }
   ],
   "source": [
    "fig = plt.figure(figsize=(16, 4))\n",
    "plt.plot(state_path, label='Age of machine')\n",
    "plt.plot(action_path, 'o', label='Decision')\n",
    "plt.plot(maint_path, 'x', label='Maintenance failure')\n",
    "plt.title('State and action path')\n",
    "plt.xlabel('Time step')\n",
    "plt.legend()\n",
    "plt.savefig('ExSarsa_Path' + '-'+ str(n_episodes)+'-' + str(discount)+'-'+ str(step_size)+'-'+ str(epsilon) +'.pdf')\n",
    "plt.show()\n"
   ]
  },
  {
   "cell_type": "code",
   "execution_count": 2644,
   "metadata": {
    "scrolled": true
   },
   "outputs": [
    {
     "data": {
      "image/png": "[encoded data removed]",
      "text/plain": [
       "<Figure size 576x576 with 2 Axes>"
      ]
     },
     "metadata": {
      "needs_background": "light"
     },
     "output_type": "display_data"
    }
   ],
   "source": [
    "\n",
    "plt.figure(figsize=(8,8))\n",
    "ser = pd.Series(list(V.values()),\n",
    "                  index= pd.MultiIndex.from_tuples( V.keys(), names=[\"Age of machine\", \"Times of matainenace failure\"]))\n",
    "df = ser.unstack().fillna(-1)\n",
    "#df.shape\n",
    "sns.heatmap(df, annot=True, fmt = 'g')\n",
    "plt.savefig('ExSarsa_Q' + '-'+ str(n_episodes)+'-' + str(discount)+'-'+ str(step_size)+'-'+ str(epsilon) +'.pdf')\n",
    "plt.show()"
   ]
  },
  {
   "cell_type": "code",
   "execution_count": 2645,
   "metadata": {
    "scrolled": true
   },
   "outputs": [
    {
     "data": {
      "image/png": "[encoded data removed]",
      "text/plain": [
       "<Figure size 576x576 with 2 Axes>"
      ]
     },
     "metadata": {
      "needs_background": "light"
     },
     "output_type": "display_data"
    }
   ],
   "source": [
    "plt.figure(figsize=(8,8))\n",
    "ser = pd.Series(list(policy.values()),\n",
    "                  index= pd.MultiIndex.from_tuples( policy.keys(), names=[\"Age of machine\", \"Times of matainenace failure\"]))\n",
    "df = ser.unstack().fillna(-1)\n",
    "#df.shape\n",
    "sns.heatmap(df, annot=True, fmt = 'g')\n",
    "plt.savefig('ExSarsa_Policy' +'-' +str(n_episodes)+'-' + str(discount)+'-'+ str(step_size)+'-'+ str(epsilon) +'.pdf')\n",
    "plt.show()"
   ]
  },
  {
   "cell_type": "code",
   "execution_count": null,
   "metadata": {},
   "outputs": [],
   "source": []
  },
  {
   "cell_type": "code",
   "execution_count": null,
   "metadata": {},
   "outputs": [],
   "source": []
  },
  {
   "cell_type": "markdown",
   "metadata": {},
   "source": [
    "# DeepQLearning"
   ]
  },
  {
   "cell_type": "code",
   "execution_count": null,
   "metadata": {},
   "outputs": [],
   "source": []
  }
 ],
 "metadata": {
  "colab": {
   "collapsed_sections": [],
   "name": "5a_TD_Asset_Replacement.ipynb",
   "provenance": [],
   "toc_visible": true
  },
  "kernelspec": {
   "display_name": "Python 3",
   "language": "python",
   "name": "python3"
  },
  "language_info": {
   "codemirror_mode": {
    "name": "ipython",
    "version": 3
   },
   "file_extension": ".py",
   "mimetype": "text/x-python",
   "name": "python",
   "nbconvert_exporter": "python",
   "pygments_lexer": "ipython3",
   "version": "3.7.9"
  }
 },
 "nbformat": 4,
 "nbformat_minor": 1
}
