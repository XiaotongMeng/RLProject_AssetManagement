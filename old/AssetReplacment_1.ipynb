{
 "cells": [
  {
   "cell_type": "markdown",
   "metadata": {
    "id": "zXkFNLxj7vm9"
   },
   "source": [
    "# **Project: Asset Replacement with Maintenance**\n",
    "\n"
   ]
  },
  {
   "cell_type": "markdown",
   "metadata": {
    "id": "P3yPdi4A-Hqg"
   },
   "source": [
    "   At the beginning of each year, a manufacturer must decide wheter to continue to operate an aging physical asset or replace it with a new one. If he keep the current asset, he must decide whether to perform annual service maintenance to prevent the asset from failing. An asset that is $s$ years old yields a profit contribution $p(s)$ up to $n=5$ years, at which point the asset becomes unsafe and must be replaced by law. An asset that is $s$ years old and has been maintained $m$ times fails with probability $\\mu(s,m)$ and yields a proft of 0 in that year. The cost of a new asset is $c = 75$ and the cost of of servicing an asset is $k=10$.\n",
    "\n",
    "  What replacement-maintenance policy maximizes profits?"
   ]
  },
  {
   "cell_type": "markdown",
   "metadata": {
    "id": "pJCtVBVv7w2B"
   },
   "source": [
    "## **Model**"
   ]
  },
  {
   "cell_type": "markdown",
   "metadata": {
    "id": "TcSl6EbrFj8g"
   },
   "source": [
    "This is an infinite horizon deterministic model with time $t$ measured\n",
    "in years.\n",
    "\n",
    "The age is a discrete state variable:\n",
    "- $s \\in \\{0, 1, 2, 3, 4, 5\\}$\n",
    "\n",
    "The variable $maint$ is the number of times of maintenance habe been performed:\n",
    "- $m \\in \\{0, 1, 2, 3, 4, 5 \\}$\n",
    "\n",
    "\n",
    "The action variable $a$ is the keep-replacement-maintenance decision:\n",
    "- $a =  \\begin{cases}\n",
    "  0,  & \\text{ keep the asset, perform no maintenance}\\\\\n",
    "  1,  & \\text{ keep the asset, perform the maintenace}\\\\\n",
    "  2,  & \\text{ replace the asset}\n",
    "  \\end{cases}$\n",
    "\n",
    "\n",
    "The state transition function is:\n",
    "- $t(s, a) = \\begin{cases}\n",
    "  s+1,  & a = \\text{ keep}\\\\\n",
    "  1, & a = \\text{ replace}\n",
    "  \\end{cases}$\n",
    "  \n",
    "The maintenance transition function is:\n",
    " - $t(m, a, s) = \\begin{cases} \n",
    "   m,  & a = 0 ,  \\text{keep the asset but perform no maintenance}\\\\\n",
    "   m+1,  & a = 1,   \\text{keep the asset, perform the maintenac} \\\\\n",
    "  0, & a =2,  \\text{ replace the asset}\n",
    "  \\end{cases}$\n",
    "  \n",
    " \n",
    "The reward function is:\n",
    "- $r(s, a, s, m) = \\begin{cases}\n",
    "  p(s), & a = 0 ,  \\text{keep the asset but perform no maintenance, the asset works}\\\\\n",
    "  0, & a = 0 ,  \\text{keep the asset but perform no maintenance, the asset fail with the probability of} \\mu(s,m)\\\\\n",
    "  p(s) - k, &  a = 1,   \\text{keep the asset, perform the maintenace,the asset works}\\\\\n",
    "  0 - k & a = 1,  \\text{keep the asset, perform the maintenace, the asset fails with the probability of} \\mu(s,m) \\\\\n",
    "  p(0)- c, & a =2,  \\text{ replace the asset}\n",
    "\\end{cases}$\n",
    "\n",
    "where $p(s) = 50 - 2.5\\cdot s - 2.5\\cdot s^2$. \n",
    "\n",
    "p(4) = 0"
   ]
  },
  {
   "cell_type": "markdown",
   "metadata": {
    "id": "dlcKDHVmHJX-"
   },
   "source": [
    "# **Environment**"
   ]
  },
  {
   "cell_type": "code",
   "execution_count": 1264,
   "metadata": {
    "id": "2KryPHJRHMnk"
   },
   "outputs": [],
   "source": [
    "import gym\n",
    "from gym import spaces\n",
    "import pandas as pd\n",
    "import seaborn as sns\n",
    "import numpy as np\n",
    "from numpy.random import default_rng\n",
    "\n",
    "from collections import defaultdict\n",
    "\n",
    "import matplotlib.pyplot as plt\n",
    "from matplotlib import style\n",
    "style.use('ggplot')\n",
    "%matplotlib inline"
   ]
  },
  {
   "cell_type": "code",
   "execution_count": 1265,
   "metadata": {
    "id": "r-jtG7AaI6VI"
   },
   "outputs": [],
   "source": [
    "class AssetReplacementEnv(gym.Env):\n",
    "    \"\"\"Custom Environment that follows gym interface\"\"\"\n",
    "    metadata = {'render.modes': ['human']}\n",
    "\n",
    "    def __init__(self):\n",
    "        super(AssetReplacementEnv, self).__init__()\n",
    "\n",
    "        self.n_actions = 3\n",
    "        self.action_space = spaces.Discrete(self.n_actions)\n",
    "\n",
    "        # With spaces.Tuple you can create a multidimensional state\n",
    "        # In our simple model observation and state are synonyms\n",
    "        self.n_states = 6\n",
    "        self.observation_space = spaces.Discrete(self.n_states)\n",
    "\n",
    "        self.n_maint = 6\n",
    "        self.maint_space = spaces.Discrete(self.n_maint)\n",
    "        \n",
    "        self.service = 10\n",
    "        self.cost = 75\n",
    "        self.rng = default_rng()\n",
    "   \n",
    "\n",
    "    def step_DP(self, action):\n",
    "        \"\"\"\n",
    "        State transition of the model.\n",
    "\n",
    "        \"\"\"\n",
    "        assert self.action_space.contains(action), \"%r (%s) invalid\" % (action, type(action))\n",
    "\n",
    "        mu = (self.state - self.maint) / 5\n",
    "    \n",
    "        # calculate the reward and the state transition\n",
    "        if action == 2:                                    \n",
    "            reward = self.profit(0) - self.cost         # replace\n",
    "            self.state = 1 \n",
    "            self.maint = 0\n",
    "            \n",
    "        elif action == 1:\n",
    "            reward = mu*(0 - self.service) + (1-mu)* (self.profit(self.state) - self.service) \n",
    "            self.maint += 1\n",
    "            self.state += 1\n",
    "                \n",
    "                \n",
    "        else: \n",
    "            reward = mu*0  + (1-mu)* self.profit(self.state) \n",
    "            self.state += 1    \n",
    "\n",
    "        return self.state, self.maint, reward\n",
    "\n",
    "\n",
    "        \n",
    "    def step(self, action):\n",
    "        \"\"\"\n",
    "        State transition of the model.\n",
    "\n",
    "        \"\"\"\n",
    "        assert self.action_space.contains(action), \"%r (%s) invalid\" % (action, type(action))\n",
    "\n",
    "        mu = (self.state - self.maint) / 5\n",
    "    \n",
    "        # calculate the reward and the state transition\n",
    "        if action == 2:                                    \n",
    "            \n",
    "            reward = self.profit(0) - self.cost         # replace\n",
    "            self.state = 1 \n",
    "            self.maint = 0\n",
    "            self.fail= 0\n",
    "        \n",
    "        elif action == 1:\n",
    "           \n",
    "            if self.rng.random() < mu:      # asset fail\n",
    "                reward = 0 - self.service\n",
    "                self.maint += 1\n",
    "                self.state += 1\n",
    "                self.fail= 1\n",
    "            else:    \n",
    "                reward = self.profit(self.state) - self.service \n",
    "                self.maint += 1\n",
    "                self.state += 1 \n",
    "                self.fail= 0\n",
    "\n",
    "        else:\n",
    "             \n",
    "            if self.rng.random() < mu:      # asset fail\n",
    "                reward = 0 \n",
    "                self.state += 1\n",
    "                self.fail= 1\n",
    "            else:    \n",
    "                reward = self.profit(self.state)\n",
    "                self.state += 1 \n",
    "                self.fail= 0\n",
    "                \n",
    "        return self.state, self.maint, self.fail, reward\n",
    "\n",
    "    \n",
    "    def profit(self, state):\n",
    "        return 50 - 2.5*state - 2.5*state**2\n",
    "        \n",
    "\n",
    "    def reset(self):\n",
    "        # set initial state (age of machine) to 0\n",
    "        self.state = 0\n",
    "        self.maint = 0            \n",
    "        return self.state, self.maint\n",
    "\n",
    "#\n",
    "#     def sumprofit(self, state_path, maint_path, action_path, fail_path, timesteps):\n",
    "#         sumprofit = 0\n",
    "    \n",
    "#         for t in range(timesteps):\n",
    "#             # calculate the reward and the state transition\n",
    "#             reward = 0\n",
    "#             if action_path[t] == 2:                                    \n",
    "#                 reward = self.profit(0) - self.cost         # replace\n",
    "\n",
    "#             elif action_path[t] == 1:\n",
    "#                 if t > 0:\n",
    "#                     if  fail_path[t+1] == 1:     # asset failed in that simulation\n",
    "#                         reward = 0 - self.service\n",
    "#                     elif fail_path[t+1] == 0:    \n",
    "#                         reward = self.profit(state_path[t+1]) - self.service  \n",
    "#                     else: print('logical error')    \n",
    "#             elif action_path[t] == 0:\n",
    "#                 if t > 0:\n",
    "#                     if  fail_path[t+1] == 1:     # maintenance failed in that simulation\n",
    "#                         reward = 0 \n",
    "#                     elif fail_path[t+1] == 0:    \n",
    "#                         reward = self.profit(state_path[t+1]) \n",
    "#                     else: print('logical error')    \n",
    "#             else:\n",
    "#                 print('action error')\n",
    "#             #print('profit at year' + str(t+1) + ':'+ str(reward))\n",
    "#             sumprofit+= reward\n",
    "       \n",
    "#         return sumprofit  \n",
    "                \n",
    "\n",
    "\n",
    "    # We will not implement render and close function\n",
    "    def render(self, mode='human'):\n",
    "        pass\n",
    "    def close (self):\n",
    "        pass"
   ]
  },
  {
   "cell_type": "markdown",
   "metadata": {
    "id": "48EsxbJYuNvd"
   },
   "source": [
    "# **Dynamic Programming**"
   ]
  },
  {
   "cell_type": "markdown",
   "metadata": {},
   "source": [
    "## **Policy Evaluation**\n",
    "We first evaluate the self defined policy."
   ]
  },
  {
   "cell_type": "code",
   "execution_count": 1266,
   "metadata": {},
   "outputs": [],
   "source": [
    "def evaluate_policy(env, V, policy, discount, eps=1e-8, max_iter=1000):\n",
    "    for i in  range(max_iter):\n",
    "        # save value function to check for convergence later\n",
    "        V_old = V.copy()\n",
    "        for state in range(env.n_states):\n",
    "            for maint in range(env.n_maint):\n",
    "                    if state < maint:\n",
    "                        break\n",
    "                    else:\n",
    "                        env.state = state\n",
    "                        env.maint = maint\n",
    "                        action = policy[state, maint] \n",
    "                        if action < 0:\n",
    "                            break\n",
    "                        else:\n",
    "                            state_next, maint_next, reward = env.step_DP(action)\n",
    "                            V[state, maint] = reward + discount* V[state_next, maint_next]\n",
    "\n",
    "        # check for convergence\n",
    "        delta = np.linalg.norm(V-V_old)\n",
    "        if delta < eps:\n",
    "            break\n",
    "    print('Convergence at iteration ' + str(i))            \n",
    "    #print(delta)\n",
    "    return V\n"
   ]
  },
  {
   "cell_type": "markdown",
   "metadata": {},
   "source": [
    "Policy 1 to evaluate: keep the asset without maintenance until year2, perform the maintnenance at year 3&4, replace it at year 5"
   ]
  },
  {
   "cell_type": "code",
   "execution_count": 1172,
   "metadata": {
    "scrolled": false
   },
   "outputs": [
    {
     "data": {
      "text/plain": [
       "array([[ 0, -1, -1, -1, -1, -1],\n",
       "       [ 0, -1, -1, -1, -1, -1],\n",
       "       [ 0, -1, -1, -1, -1, -1],\n",
       "       [ 1, -1, -1, -1, -1, -1],\n",
       "       [ 1,  1, -1, -1, -1, -1],\n",
       "       [ 2,  2,  2, -1, -1, -1]])"
      ]
     },
     "execution_count": 1172,
     "metadata": {},
     "output_type": "execute_result"
    }
   ],
   "source": [
    "policy1 = np.empty((env.n_states, env.n_maint), int)\n",
    "policy1.fill(-1)\n",
    "policy1[0:3, 0] = 0\n",
    "policy1[3:5, 0] = 1\n",
    "policy1[4,1] = 1\n",
    "policy1[5,0:3] = 2\n",
    "policy1"
   ]
  },
  {
   "cell_type": "code",
   "execution_count": 366,
   "metadata": {},
   "outputs": [],
   "source": [
    "#same as policy1 above as matrix \n",
    "# def policy1(state, maint):\n",
    "#     if state < 2:\n",
    "#         action = 0\n",
    "#     elif state == 2:\n",
    "#         action = 1\n",
    "#     elif 2 < state < 6:\n",
    "#         action = 2\n",
    "#     else:\n",
    "#         print('state error')\n",
    "#     return action"
   ]
  },
  {
   "cell_type": "code",
   "execution_count": 1173,
   "metadata": {
    "scrolled": true
   },
   "outputs": [
    {
     "name": "stdout",
     "output_type": "stream",
     "text": [
      "Convergence at iteration167\n"
     ]
    }
   ],
   "source": [
    "# create environment and reset it\n",
    "env = AssetReplacementEnv()\n",
    "env.reset()\n",
    "\n",
    "# init value function\n",
    "V = np.zeros((env.n_states, env.n_maint))\n",
    "\n",
    "\n",
    "# discount factor\n",
    "discount = 0.9\n",
    "\n",
    "# evaluate policy\n",
    "V = evaluate_policy(env, V, policy1, discount)\n"
   ]
  },
  {
   "cell_type": "code",
   "execution_count": 1174,
   "metadata": {
    "scrolled": true
   },
   "outputs": [
    {
     "data": {
      "image/png": "[encoded data removed]",
      "text/plain": [
       "<Figure size 576x576 with 2 Axes>"
      ]
     },
     "metadata": {
      "needs_background": "light"
     },
     "output_type": "display_data"
    }
   ],
   "source": [
    "plt.figure(figsize=(8,8))\n",
    "#df.shape\n",
    "sns.heatmap(V, annot=True, fmt = 'g')\n",
    "#plt.savefig('SARSA_Q' + '-'+ str(n_episodes)+'-' + str(discount)+'-'+ str(step_size)+'-'+ str(epsilon) +'.pdf')\n",
    "plt.title('Value function')\n",
    "plt.show()"
   ]
  },
  {
   "cell_type": "markdown",
   "metadata": {},
   "source": [
    "Policy 2 to evaluate:  keep the asset without maintenance and replace it at state year 3"
   ]
  },
  {
   "cell_type": "code",
   "execution_count": 1180,
   "metadata": {
    "scrolled": true
   },
   "outputs": [
    {
     "data": {
      "text/plain": [
       "array([[ 0, -1, -1, -1, -1, -1],\n",
       "       [ 0, -1, -1, -1, -1, -1],\n",
       "       [ 0, -1, -1, -1, -1, -1],\n",
       "       [ 2, -1, -1, -1, -1, -1],\n",
       "       [-1, -1, -1, -1, -1, -1],\n",
       "       [-1, -1, -1, -1, -1, -1]])"
      ]
     },
     "execution_count": 1180,
     "metadata": {},
     "output_type": "execute_result"
    }
   ],
   "source": [
    "policy2 = np.empty((env.n_states, env.n_maint), int)\n",
    "policy2.fill(-1)\n",
    "policy2[0:3, 0] = 0\n",
    "policy2[3,0] = 2\n",
    "policy2"
   ]
  },
  {
   "cell_type": "code",
   "execution_count": 388,
   "metadata": {},
   "outputs": [],
   "source": [
    "#same as policy2 above as matrix\n",
    "# def policy2(state, maint):\n",
    "#     if state < 3:\n",
    "#         action = 0\n",
    "#     else:\n",
    "#         action = 2\n",
    "#     return action"
   ]
  },
  {
   "cell_type": "code",
   "execution_count": 1181,
   "metadata": {},
   "outputs": [
    {
     "name": "stdout",
     "output_type": "stream",
     "text": [
      "Convergence at iteration 139\n"
     ]
    }
   ],
   "source": [
    "# create environment and reset it\n",
    "env = AssetReplacementEnv()\n",
    "env.reset()\n",
    "\n",
    "# init value function\n",
    "V = np.zeros((env.n_states, env.n_maint))\n",
    "# discount factor\n",
    "discount = 0.9\n",
    "\n",
    "# evaluate policy\n",
    "V = evaluate_policy(env, V, policy2, discount)\n"
   ]
  },
  {
   "cell_type": "code",
   "execution_count": 1182,
   "metadata": {
    "scrolled": true
   },
   "outputs": [
    {
     "data": {
      "image/png": "[encoded data removed]",
      "text/plain": [
       "<Figure size 576x576 with 2 Axes>"
      ]
     },
     "metadata": {
      "needs_background": "light"
     },
     "output_type": "display_data"
    }
   ],
   "source": [
    "plt.figure(figsize=(8,8))\n",
    "sns.heatmap(V, annot=True, fmt = 'g')\n",
    "#plt.savefig('SARSA_Q' + '-'+ str(n_episodes)+'-' + str(discount)+'-'+ str(step_size)+'-'+ str(epsilon) +'.pdf')\n",
    "plt.title('Value function')\n",
    "plt.show()"
   ]
  },
  {
   "cell_type": "markdown",
   "metadata": {},
   "source": [
    "# **Policy Iteration**\n",
    "We implement the policy improvement algorithm to combine it later with the policy evaluation algorithm to create the policy iteration algorithm."
   ]
  },
  {
   "cell_type": "code",
   "execution_count": 1267,
   "metadata": {},
   "outputs": [],
   "source": [
    "def improve_policy(env, V, policy, gamma):\n",
    "    \"\"\"Implements the policy improvement algorithm\n",
    "\n",
    "    Calculates the greedy policy for a given value function and checks if the \n",
    "    new greedy policy changed compared to the old policy\n",
    "\n",
    "    Args:\n",
    "        env (class): OpenAI gym environment\n",
    "        V (numpy.ndarray): A shape-(num_states,) array, contains the value for\n",
    "            every state\n",
    "        policy (numpy.ndarray): A shape-(num_states,) array, defines the action\n",
    "            for every state\n",
    "        gamma (int): Discount factor\n",
    "    \"\"\"\n",
    "\n",
    "    # save policy to check for convergence later\n",
    "    old_policy = policy.copy()\n",
    "    \n",
    "\n",
    "    # loop through every state and find greedy action\n",
    "    policy_stable = True\n",
    "\n",
    "\n",
    "    for state in range(env.n_states):\n",
    "        for maint in range(env.n_maint):\n",
    "            if state < maint:\n",
    "                break\n",
    "            else:    \n",
    "                Q = np.zeros(env.n_actions)\n",
    "                if state== 5:                           \n",
    "                    policy[state, maint] = 2\n",
    "                elif state == 0:\n",
    "                    policy[state, maint] = 0\n",
    "                else:\n",
    "              # find greedy action among possible actions\n",
    "                    for action in range(env.n_actions):\n",
    "                        env.state = state\n",
    "                        env.maint = maint\n",
    "                        state_next, maint_next, reward = env.step_DP(action)\n",
    "                        #print(state_next, maint_next, action)\n",
    "                        Q[action]= reward + discount* V[state_next, maint_next]\n",
    "                    \n",
    "                    #print(Q)\n",
    "                    policy[state, maint] =  np.argmax(Q)\n",
    "\n",
    "\n",
    "    # check for convergence\n",
    "    if not np.array_equal(policy, old_policy):\n",
    "        policy_stable = False\n",
    "    \n",
    "    return policy, policy_stable\n"
   ]
  },
  {
   "cell_type": "code",
   "execution_count": 1268,
   "metadata": {},
   "outputs": [],
   "source": [
    "def policy_iteration(env, discount,policy):\n",
    "    # init policy and value function\n",
    "    V = np.zeros((env.n_states,env.n_maint))\n",
    "\n",
    "    # iterate until policy doesn't change anymore\n",
    "    policy_stable = False\n",
    "    while not policy_stable:\n",
    "        V = evaluate_policy(env, V, policy, discount)\n",
    "        policy, policy_stable = improve_policy(env, V, policy, discount)\n",
    "\n",
    "    return V, policy"
   ]
  },
  {
   "cell_type": "code",
   "execution_count": 1269,
   "metadata": {
    "scrolled": true
   },
   "outputs": [
    {
     "name": "stdout",
     "output_type": "stream",
     "text": [
      "Convergence at iteration 144\n",
      "Convergence at iteration 1\n"
     ]
    }
   ],
   "source": [
    "# create environment and reset it\n",
    "env = AssetReplacementEnv()\n",
    "env.reset()\n",
    "\n",
    "\n",
    "# discount factor\n",
    "discount = 0.9\n",
    "\n",
    "# use policy1 as initial policy\n",
    "# apply policy iteration\n",
    "V, policy = policy_iteration(env, discount, policy1)"
   ]
  },
  {
   "cell_type": "code",
   "execution_count": 1270,
   "metadata": {
    "scrolled": true
   },
   "outputs": [
    {
     "data": {
      "image/png": "[encoded data removed]",
      "text/plain": [
       "<Figure size 576x576 with 2 Axes>"
      ]
     },
     "metadata": {
      "needs_background": "light"
     },
     "output_type": "display_data"
    }
   ],
   "source": [
    "plt.figure(figsize=(8,8))\n",
    "sns.heatmap(V, annot=True, fmt = 'g')\n",
    "#plt.savefig('SARSA_Q' + '-'+ str(n_episodes)+'-' + str(discount)+'-'+ str(step_size)+'-'+ str(epsilon) +'.pdf')\n",
    "plt.title('Value function')\n",
    "plt.show()"
   ]
  },
  {
   "cell_type": "code",
   "execution_count": 1271,
   "metadata": {
    "scrolled": true
   },
   "outputs": [
    {
     "data": {
      "image/png": "[encoded data removed]",
      "text/plain": [
       "<Figure size 576x576 with 2 Axes>"
      ]
     },
     "metadata": {
      "needs_background": "light"
     },
     "output_type": "display_data"
    }
   ],
   "source": [
    "plt.figure(figsize=(8,8))\n",
    "sns.heatmap(policy, annot=True, fmt = 'g')\n",
    "#plt.savefig('SARSA_Q' + '-'+ str(n_episodes)+'-' + str(discount)+'-'+ str(step_size)+'-'+ str(epsilon) +'.pdf')\n",
    "plt.title('Value function')\n",
    "plt.show()"
   ]
  },
  {
   "cell_type": "markdown",
   "metadata": {},
   "source": [
    "# **Value Iteration**"
   ]
  },
  {
   "cell_type": "code",
   "execution_count": 1272,
   "metadata": {},
   "outputs": [],
   "source": [
    "def value_iteration(env, discount, eps=1e-8, max_iter=1000):\n",
    "    \"\"\"Implements the value iteration algorithm\n",
    "\n",
    "    Calculates the optimal policy and optimal value function\n",
    "\n",
    "    Args:\n",
    "        env (class): OpenAI gym environment\n",
    "        discount (float): Discount factor\n",
    "        eps (float): Error tolerance\n",
    "        max_iter (int): Maximum number of iteration\n",
    "    \"\"\"\n",
    "    # initialize value function\n",
    "    V = np.zeros((env.n_states, env.n_maint))\n",
    "    # initialize policy (of all states) with -1 \n",
    "    policy = np.zeros((env.n_states, env.n_maint), int)-1\n",
    "    \n",
    " \n",
    "    # iterate until value function converges\n",
    "    for i in range(max_iter):\n",
    "        V_old = V.copy()\n",
    "        for state in range(env.n_states):\n",
    "            for maint in range(env.n_maint):\n",
    "                    if state < maint:\n",
    "                        break\n",
    "                    else:\n",
    "                        Q = np.zeros(env.n_actions)\n",
    "                        # determine possible actions for given state\n",
    "                        for action in range(env.n_actions):\n",
    "                            env.state = state\n",
    "                            env.maint = maint\n",
    "                           \n",
    "                            if state == 5:\n",
    "                                action = 2\n",
    "                            elif state ==0:\n",
    "                                action =0\n",
    "                            else:\n",
    "                                pass\n",
    "                            \n",
    "                            state_next, maint_next, reward = env.step_DP(action)\n",
    "                            #print(state_next, maint_next, action)\n",
    "                            Q[action]= reward + discount* V[state_next, maint_next]\n",
    "\n",
    "                    V[state, maint] = max(Q)\n",
    "                    policy[state, maint] =  np.argmax(Q)\n",
    "        \n",
    "        delta = np.linalg.norm(V-V_old)\n",
    "        if delta < eps:\n",
    "            break\n",
    "    print('Convergence at iteration: '+str(i))    \n",
    "    return V, policy\n"
   ]
  },
  {
   "cell_type": "code",
   "execution_count": 579,
   "metadata": {},
   "outputs": [],
   "source": [
    "# The following inplementation of value_iteration is the same as above\n",
    "# def value_iteration(env, discount, eps=1e-8, max_iter=1000):\n",
    "#     \"\"\"Implements the value iteration algorithm\n",
    "\n",
    "#     Calculates the optimal policy and optimal value function\n",
    "\n",
    "#     Args:\n",
    "#         env (class): OpenAI gym environment\n",
    "#         gamma (int): Discount factor\n",
    "#         eps (float): Error tolerance\n",
    "#         max_iter (int): Maximum number of iteration\n",
    "#     \"\"\"\n",
    "#     # initialize value function\n",
    "#     V = np.zeros((env.n_states, env.n_maint))\n",
    "\n",
    "#     # iterate until value function converges\n",
    "#     for i in range(max_iter):\n",
    "#         V_old = V.copy()\n",
    "#         for state in range(env.n_states):\n",
    "#             for maint in range(env.n_maint):\n",
    "#                     if state < maint:\n",
    "#                         break\n",
    "#                     else:\n",
    "#                         Q = np.zeros(env.n_actions)\n",
    "#                         # determine possible actions for given state\n",
    "#                         for action in range(env.n_actions):\n",
    "#                             env.state = state\n",
    "#                             env.maint = maint\n",
    "                           \n",
    "#                             if state == 5:\n",
    "#                                 action = 2\n",
    "#                             else:\n",
    "#                                 pass\n",
    "                            \n",
    "#                             state_next, maint_next, reward = env.step_DP(action)\n",
    "#                             #print(state_next, maint_next, action)\n",
    "#                             Q[action]= reward + discount* V[state_next, maint_next]\n",
    "\n",
    "#                     V[state, maint] = max(Q)\n",
    "       \n",
    "#         delta = np.linalg.norm(V-V_old)\n",
    "#         if delta < eps:\n",
    "#             break\n",
    "#     print('Convergence at iteration:'+str(i))    \n",
    "   \n",
    "#     # initialize policy (of all states) with -1 \n",
    "#     policy = np.zeros((env.n_states, env.n_maint), int)-1\n",
    "    \n",
    "#     for state in range(env.n_states):\n",
    "#             for maint in range(env.n_maint):\n",
    "#                    if state < maint:\n",
    "#                         break\n",
    "                   \n",
    "#                    else: \n",
    "#                         Q = np.zeros(env.n_actions)\n",
    "#                         if state== 5:                           \n",
    "#                             policy[state, maint] = 2\n",
    "#                         else:\n",
    "#                       # find greedy action among possible actions\n",
    "#                             for action in range(env.n_actions):\n",
    "#                                 env.state = state\n",
    "#                                 env.maint = maint\n",
    "#                                 state_next, maint_next, reward = env.step_DP(action)\n",
    "#                                 #print(state_next, maint_next, action)\n",
    "#                                 Q[action]= reward + discount* V[state_next, maint_next]\n",
    "\n",
    "#                             #print(Q)\n",
    "#                             policy[state, maint] =  np.argmax(Q)\n",
    "\n",
    "\n",
    "#     return V, policy\n"
   ]
  },
  {
   "cell_type": "code",
   "execution_count": 1273,
   "metadata": {
    "scrolled": false
   },
   "outputs": [
    {
     "name": "stdout",
     "output_type": "stream",
     "text": [
      "Convergence at iteration: 144\n"
     ]
    }
   ],
   "source": [
    "# create environment and reset it\n",
    "env = AssetReplacementEnv()\n",
    "env.reset()\n",
    "\n",
    "# discount factor\n",
    "discount = 0.9\n",
    "\n",
    "# apply policy iteration\n",
    "V, policy = value_iteration(env, discount)"
   ]
  },
  {
   "cell_type": "code",
   "execution_count": 1274,
   "metadata": {
    "scrolled": true
   },
   "outputs": [
    {
     "data": {
      "image/png": "[encoded data removed]",
      "text/plain": [
       "<Figure size 1152x576 with 4 Axes>"
      ]
     },
     "metadata": {
      "needs_background": "light"
     },
     "output_type": "display_data"
    }
   ],
   "source": [
    "fig, ax = plt.subplots(1, 2, figsize=(16, 8))\n",
    "\n",
    "# plot value function\n",
    "sns.heatmap(V, annot=True, fmt = 'g', ax = ax[0])\n",
    "ax[0].set_xlabel('Age of machine')\n",
    "ax[0].set_title('Value Function')\n",
    "\n",
    "# plot policy function\n",
    "sns.heatmap(policy, annot=True, ax = ax[1])\n",
    "ax[1].set_xlabel('Age of machine')\n",
    "ax[1].set_ylabel('Number of maintenance')\n",
    "ax[1].set_title('Policy Function')\n",
    "\n",
    "plt.savefig('DP_VPolicy' + '-' + str(discount) +'.pdf')\n",
    "plt.show()"
   ]
  },
  {
   "cell_type": "code",
   "execution_count": 1275,
   "metadata": {},
   "outputs": [],
   "source": [
    "V_DP = V\n",
    "policy_DP = policy"
   ]
  },
  {
   "cell_type": "markdown",
   "metadata": {},
   "source": [
    "Simulate an episode with the optimal policy."
   ]
  },
  {
   "cell_type": "code",
   "execution_count": 1276,
   "metadata": {},
   "outputs": [],
   "source": [
    "#initialization\n",
    "state, maint = env.reset()\n",
    "action = policy_DP[state, maint]\n",
    "reward = 0\n",
    "state_path = [state]\n",
    "maint_path = [maint]\n",
    "action_path = [action]\n",
    "reward_path = [reward]\n",
    "\n",
    "timesteps = 20\n",
    "for t in range(timesteps):\n",
    "    state, maint, reward = env.step_DP(action)\n",
    "    action = policy_DP[state, maint] \n",
    "    state_path.append(state)\n",
    "    maint_path.append(maint)\n",
    "    action_path.append(action)\n",
    "    reward_path.append(reward)"
   ]
  },
  {
   "cell_type": "code",
   "execution_count": 1277,
   "metadata": {
    "scrolled": true
   },
   "outputs": [
    {
     "data": {
      "image/png": "[encoded data removed]",
      "text/plain": [
       "<Figure size 1152x288 with 1 Axes>"
      ]
     },
     "metadata": {
      "needs_background": "light"
     },
     "output_type": "display_data"
    }
   ],
   "source": [
    "fig = plt.figure(figsize=(16, 4))\n",
    "plt.plot(reward_path[1:], label='Profit')\n",
    "plt.title('Profit')\n",
    "plt.xlabel('Time step')\n",
    "plt.savefig('DP_Profit' + '-'+ str(discount)+'-'+'.pdf')\n",
    "plt.show()"
   ]
  },
  {
   "cell_type": "code",
   "execution_count": 1278,
   "metadata": {
    "scrolled": true
   },
   "outputs": [
    {
     "data": {
      "image/png": "[encoded data removed]",
      "text/plain": [
       "<Figure size 1152x288 with 1 Axes>"
      ]
     },
     "metadata": {
      "needs_background": "light"
     },
     "output_type": "display_data"
    }
   ],
   "source": [
    "fig = plt.figure(figsize=(16, 4))\n",
    "plt.plot(state_path, label='Age of machine')\n",
    "plt.plot(action_path, 'o', label='Decision')\n",
    "plt.plot(maint_path, '^', label='Number of maintenance')\n",
    "plt.title('State and action path')\n",
    "plt.xlabel('Time step')\n",
    "plt.legend()\n",
    "plt.savefig('DP_Path' + '-'+ str(discount)+'-'+'.pdf')\n",
    "plt.show()"
   ]
  },
  {
   "cell_type": "code",
   "execution_count": null,
   "metadata": {},
   "outputs": [],
   "source": []
  },
  {
   "cell_type": "markdown",
   "metadata": {
    "id": "48EsxbJYuNvd"
   },
   "source": [
    "# **Sarsa Agent**"
   ]
  },
  {
   "cell_type": "code",
   "execution_count": 1281,
   "metadata": {
    "id": "xOSSrCuhn7AD"
   },
   "outputs": [],
   "source": [
    "class SarsaAgent():\n",
    "    def __init__(self, agent_info):\n",
    "        \"\"\"Initialize Agent.\n",
    "\n",
    "        Args: \n",
    "            agent_info (dict): Parameters used to initialize agent.\n",
    "            {\n",
    "                n_actions (int): Number of actions.\n",
    "                epsilon (float): Exploration parameter.\n",
    "                step_size (float): Learning rate alpha.\n",
    "                discount (float): Discount factor gamma.\n",
    "            }\n",
    "        \"\"\"\n",
    "\n",
    "        self.n_actions = agent_info[\"n_actions\"]\n",
    "        self.epsilon = agent_info[\"epsilon\"]\n",
    "        self.step_size = agent_info[\"step_size\"]\n",
    "        self.discount = agent_info[\"discount\"]\n",
    "\n",
    "        \n",
    "        self.rng = default_rng()\n",
    "\n",
    "        # Create a dict for action-value estimates and initialize it to zero.\n",
    "        self.q = defaultdict(lambda: np.zeros(self.n_actions))         \n",
    "       \n",
    "    def step(self, reward, state, maint):\n",
    "        \"\"\"A step taken by the agent\n",
    "\n",
    "        Args:\n",
    "            next_state (int):  next state from the environment\n",
    "            next_maint (int):  next state of maintenance failure from environment \n",
    "        Returns:\n",
    "            next_action (int): action the agent takes in next_state\n",
    "        \"\"\"\n",
    "\n",
    "        # choose action using epsilon greedy policy\n",
    "        action = self.select_action(state, maint)\n",
    "#         if self.step_size > 0.05:\n",
    "#              self.step_size = 0.99* self.step_size\n",
    "        # perform update\n",
    "        target = reward + self.discount*self.q[state, maint][action]\n",
    "        td_error = target - self.q[self.previous_state,self.previous_maint][self.previous_action]\n",
    "        self.q[self.previous_state,self.previous_maint][self.previous_action] += self.step_size* td_error\n",
    "        \n",
    "\n",
    "        # save current state and action\n",
    "        self.previous_state = state\n",
    "        self.previous_maint = maint\n",
    "        self.previous_action = action\n",
    "\n",
    "        return action\n",
    "\n",
    "        \n",
    "    def select_action(self, state, maint):\n",
    "        \"\"\"Select action using epsilon greedy policy.\n",
    "\n",
    "        Args:\n",
    "            state (int): Current state, i.e. age of asset.\n",
    "\n",
    "        Returns:\n",
    "            action (int): Action the agent takes.\n",
    "        \"\"\"\n",
    "\n",
    "        \n",
    "        # performe epsilon greedy policy improvement\n",
    "        # remember to replace asset if age is 5\n",
    " #%%%%\n",
    "        if state== 5:                           # two expression are actually equivalent  \n",
    "            return 2\n",
    "        if state == 0:\n",
    "            return 0\n",
    "        if  self.rng.random() < self.epsilon:\n",
    "            action = self.rng.choice(n_actions)\n",
    "        else:\n",
    "            action = self.argmax(self.q[state, maint])\n",
    "        return action\n",
    "        \n",
    " \n",
    "    def argmax(self, q_values):\n",
    "        \"\"\"Return the index of maximum value with ties broken randomly.\n",
    "\n",
    "        Args:\n",
    "            q_values (numpy.ndarray): A shape-(n_actions,) array of estimated\n",
    "                action_values.\n",
    "\n",
    "        Returns:\n",
    "            index (int): Index of the maximal value.\n",
    "        \"\"\"\n",
    "        ties = np.flatnonzero(np.isclose(q_values, max(q_values)))\n",
    "        index = self.rng.choice(ties)\n",
    "#         print(ties)\n",
    "#         print(\"argmax index:\" + str(index))\n",
    "        return index\n",
    "\n",
    "\n",
    "    def start(self, state, maint):\n",
    "        \"\"\"Selects action in inital state\n",
    "\n",
    "        Args:\n",
    "            state (int): initial state\n",
    "            maint (int): intial times of maintenance failure\n",
    "        Returns:\n",
    "            action (int): initial action\n",
    "        \"\"\"\n",
    "\n",
    "        action = self.select_action(state, maint)\n",
    "\n",
    "        self.previous_state = state\n",
    "        self.previous_maint = maint\n",
    "        self.previous_action = action\n",
    "\n",
    "        return action\n",
    "    \n",
    "\n",
    "\n"
   ]
  },
  {
   "cell_type": "markdown",
   "metadata": {},
   "source": [
    "**!!!!!!!!!!!!!!!!!!!!!!!!!!!!!!!\n",
    "Problem:  the result of the cell below vary a lot, before setting step_size as  variant (deceasing) and forcing action = 0 at year 0.  Now the result seem to be much stable, but the performance is much worse(the norm of difference are much higher than before)!!!!!!!!!!!!!!!!!!!!!!!!!!!!!!!!!!!!!!!!!!!**"
   ]
  },
  {
   "cell_type": "code",
   "execution_count": 1287,
   "metadata": {
    "id": "MfXrCpAbTX5c",
    "scrolled": true
   },
   "outputs": [
    {
     "name": "stdout",
     "output_type": "stream",
     "text": [
      "Norm of difference of value function at episodes10000 simulation:270.8504024875929\n",
      "Norm of difference of value function at episodes10000 simulation:276.48174157824207\n",
      "Norm of difference of value function at episodes10000 simulation:272.30968909244297\n",
      "Norm of difference of value function at episodes10000 simulation:278.68100920532044\n",
      "Norm of difference of value function at episodes10000 simulation:271.5898958219368\n",
      "Norm of difference of value function at episodes10000 simulation:262.26029770866916\n",
      "Norm of difference of value function at episodes10000 simulation:273.3371328628472\n",
      "Norm of difference of value function at episodes10000 simulation:271.0691197014775\n",
      "Norm of difference of value function at episodes10000 simulation:269.33929723859336\n",
      "Norm of difference of value function at episodes10000 simulation:269.8515186512187\n",
      "Norm of difference of value function at episodes10000 simulation:270.46204554791507\n",
      "Norm of difference of value function at episodes10000 simulation:265.1178217453547\n",
      "Norm of difference of value function at episodes10000 simulation:270.17834869093605\n",
      "Norm of difference of value function at episodes10000 simulation:274.2816203362339\n",
      "Norm of difference of value function at episodes10000 simulation:269.8688276272487\n",
      "Norm of difference of value function at episodes10000 simulation:263.9457469443742\n",
      "Norm of difference of value function at episodes10000 simulation:271.7176592384012\n",
      "Norm of difference of value function at episodes10000 simulation:272.1179728714931\n",
      "Norm of difference of value function at episodes10000 simulation:258.8078308122302\n",
      "Norm of difference of value function at episodes10000 simulation:274.58162414646375\n"
     ]
    }
   ],
   "source": [
    "for n in range(20): \n",
    "    env = AssetReplacementEnv()\n",
    "\n",
    "\n",
    "    epsilon = 0.05\n",
    "    step_size = 0.2\n",
    "    discount = 0.9\n",
    "\n",
    "\n",
    "    agent_info = {\"n_actions\": env.n_actions,\n",
    "                  \"epsilon\": epsilon,\n",
    "                  \"step_size\": step_size,\n",
    "                  \"discount\": discount}\n",
    "\n",
    "\n",
    "    agent = SarsaAgent(agent_info)\n",
    "\n",
    "    n_episodes = 10000\n",
    "    timesteps = 20\n",
    "\n",
    "    for i in range(n_episodes):\n",
    "        state, maint = env.reset()\n",
    "        action = agent.start(state, maint)\n",
    "\n",
    "        for t in range(timesteps):\n",
    "            state, maint, fail, reward = env.step(action)\n",
    "            action = agent.step(reward, state, maint)\n",
    "    #     print('Episodes-'+ str(i)+'-Q value')\n",
    "    #     print(agent.q)    \n",
    "\n",
    "    V = defaultdict(float)\n",
    "    policy = defaultdict(int)\n",
    "    for state_maint, values in sorted(agent.q.items()):\n",
    "        value = np.max(values)\n",
    "        V[state_maint] = value\n",
    "        action = np.argmax(values)\n",
    "        policy[state_maint] = action\n",
    "\n",
    "\n",
    "\n",
    "    #convert dictionary to array so that we can compare the norm of different value function\n",
    "    V_sar = np.zeros((env.n_states, env.n_maint))\n",
    "    for k, v in V.items():\n",
    "        V_sar[k[0],k[1]] = v\n",
    "    norm = np.linalg.norm(V_sar-V_DP)\n",
    "    print('Norm of difference of value function at episodes'+ str(n_episodes)+' simulation:' + str(norm))"
   ]
  },
  {
   "cell_type": "markdown",
   "metadata": {},
   "source": [
    "**!!!!!!!!!!!!!!!!!!!!!!!!!!!!!!!!!!!!!!!!!!!!!!!!!!!!!!!!!!!!!!!!!!!!!!!!!!!!!!!!!!!!!!!!!!!**"
   ]
  },
  {
   "cell_type": "markdown",
   "metadata": {
    "id": "D4FVxeMSrUAE"
   },
   "source": [
    "\n",
    "---\n",
    "\n",
    "**Evaluation**\n",
    "\n",
    "\n",
    "---\n"
   ]
  },
  {
   "cell_type": "code",
   "execution_count": null,
   "metadata": {
    "scrolled": false
   },
   "outputs": [],
   "source": [
    "# #the norm of difference of value function vary quit lot, can be at 100\n",
    "# #runing  the code block several times until the average norm becomes stable (varing within 5)\n",
    "# for n in range(20):\n",
    "    \n",
    "    \n",
    "#     n_avg = 4000\n",
    "#     sum_norm =0\n",
    "#     for i in range(n_avg):\n",
    "#         norm = 0\n",
    "#         state, maint = env.reset()\n",
    "#         action = agent.start(state, maint)\n",
    "#         for t in range(timesteps):\n",
    "#             state, maint, fail, reward = env.step(action)\n",
    "#             action = agent.step(reward, state, maint)\n",
    "\n",
    "#         V = defaultdict(float)\n",
    "#         policy = defaultdict(int)\n",
    "#         for state_maint, values in sorted(agent.q.items()):\n",
    "#             value = np.max(values)\n",
    "#             V[state_maint] = value\n",
    "#             action = np.argmax(values)\n",
    "#             policy[state_maint] = action  \n",
    "\n",
    "#         #convert dictionary to array so that we can compare the norm of different value function\n",
    "#         V_sar = np.zeros((env.n_states, env.n_maint))\n",
    "#         for k, v in V.items():\n",
    "#             V_sar[k[0],k[1]] = v\n",
    "#         norm = np.linalg.norm(V_sar-V_DP)\n",
    "#         sum_norm += norm\n",
    "\n",
    "#     avg_norm = sum_norm/n_avg\n",
    "#     print('Norm of difference of value function averaged by another '+ str(n_avg)+' simulation:' + str(avg_norm))\n",
    "  "
   ]
  },
  {
   "cell_type": "markdown",
   "metadata": {},
   "source": [
    "Performance = norm of difference between value function of dynamic programming(the real one) and Sarsa(the one approximating by sampling), the less the value of the performance, the better is the performance."
   ]
  },
  {
   "cell_type": "code",
   "execution_count": 1155,
   "metadata": {
    "scrolled": false
   },
   "outputs": [
    {
     "data": {
      "text/html": [
       "<div>\n",
       "<style scoped>\n",
       "    .dataframe tbody tr th:only-of-type {\n",
       "        vertical-align: middle;\n",
       "    }\n",
       "\n",
       "    .dataframe tbody tr th {\n",
       "        vertical-align: top;\n",
       "    }\n",
       "\n",
       "    .dataframe thead th {\n",
       "        text-align: right;\n",
       "    }\n",
       "</style>\n",
       "<table border=\"1\" class=\"dataframe\">\n",
       "  <thead>\n",
       "    <tr style=\"text-align: right;\">\n",
       "      <th></th>\n",
       "      <th>epsilon</th>\n",
       "      <th>step_size</th>\n",
       "      <th>discount</th>\n",
       "      <th>performance</th>\n",
       "    </tr>\n",
       "  </thead>\n",
       "  <tbody>\n",
       "    <tr>\n",
       "      <th>0</th>\n",
       "      <td>0.05</td>\n",
       "      <td>0.4</td>\n",
       "      <td>0.9</td>\n",
       "      <td>88.445665</td>\n",
       "    </tr>\n",
       "  </tbody>\n",
       "</table>\n",
       "</div>"
      ],
      "text/plain": [
       "   epsilon  step_size  discount  performance\n",
       "0     0.05        0.4       0.9    88.445665"
      ]
     },
     "execution_count": 1155,
     "metadata": {},
     "output_type": "execute_result"
    }
   ],
   "source": [
    "import pandas as pd\n",
    "param_perform = {'epsilon': [epsilon],\n",
    "                'step_size': [step_size],\n",
    "                'discount': [discount],\n",
    "                'performance': [avg_norm]}\n",
    "df_parper = pd.DataFrame (param_perform, columns = ['epsilon','step_size','discount','performance'])\n",
    "df_parper"
   ]
  },
  {
   "cell_type": "code",
   "execution_count": 1023,
   "metadata": {},
   "outputs": [],
   "source": [
    "#df_parper_all = df_parper"
   ]
  },
  {
   "cell_type": "code",
   "execution_count": null,
   "metadata": {
    "scrolled": false
   },
   "outputs": [],
   "source": [
    "df_parper_all = df_parper_all.append(df_parper,ignore_index=True)"
   ]
  },
  {
   "cell_type": "code",
   "execution_count": 1147,
   "metadata": {
    "scrolled": true
   },
   "outputs": [
    {
     "data": {
      "text/html": [
       "<div>\n",
       "<style scoped>\n",
       "    .dataframe tbody tr th:only-of-type {\n",
       "        vertical-align: middle;\n",
       "    }\n",
       "\n",
       "    .dataframe tbody tr th {\n",
       "        vertical-align: top;\n",
       "    }\n",
       "\n",
       "    .dataframe thead th {\n",
       "        text-align: right;\n",
       "    }\n",
       "</style>\n",
       "<table border=\"1\" class=\"dataframe\">\n",
       "  <thead>\n",
       "    <tr style=\"text-align: right;\">\n",
       "      <th></th>\n",
       "      <th>epsilon</th>\n",
       "      <th>step_size</th>\n",
       "      <th>discount</th>\n",
       "      <th>performance</th>\n",
       "    </tr>\n",
       "  </thead>\n",
       "  <tbody>\n",
       "    <tr>\n",
       "      <th>0</th>\n",
       "      <td>0.05</td>\n",
       "      <td>0.2</td>\n",
       "      <td>0.9</td>\n",
       "      <td>81.652704</td>\n",
       "    </tr>\n",
       "    <tr>\n",
       "      <th>1</th>\n",
       "      <td>0.10</td>\n",
       "      <td>0.2</td>\n",
       "      <td>0.9</td>\n",
       "      <td>81.082196</td>\n",
       "    </tr>\n",
       "    <tr>\n",
       "      <th>2</th>\n",
       "      <td>0.20</td>\n",
       "      <td>0.2</td>\n",
       "      <td>0.9</td>\n",
       "      <td>105.204495</td>\n",
       "    </tr>\n",
       "    <tr>\n",
       "      <th>3</th>\n",
       "      <td>0.30</td>\n",
       "      <td>0.2</td>\n",
       "      <td>0.9</td>\n",
       "      <td>142.049301</td>\n",
       "    </tr>\n",
       "    <tr>\n",
       "      <th>4</th>\n",
       "      <td>0.40</td>\n",
       "      <td>0.2</td>\n",
       "      <td>0.9</td>\n",
       "      <td>174.719221</td>\n",
       "    </tr>\n",
       "  </tbody>\n",
       "</table>\n",
       "</div>"
      ],
      "text/plain": [
       "   epsilon  step_size  discount  performance\n",
       "0     0.05        0.2       0.9    81.652704\n",
       "1     0.10        0.2       0.9    81.082196\n",
       "2     0.20        0.2       0.9   105.204495\n",
       "3     0.30        0.2       0.9   142.049301\n",
       "4     0.40        0.2       0.9   174.719221"
      ]
     },
     "execution_count": 1147,
     "metadata": {},
     "output_type": "execute_result"
    }
   ],
   "source": [
    "df_parper_all"
   ]
  },
  {
   "cell_type": "markdown",
   "metadata": {},
   "source": []
  },
  {
   "cell_type": "code",
   "execution_count": 1156,
   "metadata": {},
   "outputs": [],
   "source": [
    "df_stepsize = df_parper"
   ]
  },
  {
   "cell_type": "code",
   "execution_count": 1123,
   "metadata": {},
   "outputs": [],
   "source": [
    "#df_stepsize_all = df_stepsize"
   ]
  },
  {
   "cell_type": "code",
   "execution_count": null,
   "metadata": {
    "scrolled": false
   },
   "outputs": [],
   "source": [
    "df_stepsize_all = df_stepsize_all.append(df_stepsize,ignore_index=True)"
   ]
  },
  {
   "cell_type": "code",
   "execution_count": 1158,
   "metadata": {},
   "outputs": [
    {
     "data": {
      "text/html": [
       "<div>\n",
       "<style scoped>\n",
       "    .dataframe tbody tr th:only-of-type {\n",
       "        vertical-align: middle;\n",
       "    }\n",
       "\n",
       "    .dataframe tbody tr th {\n",
       "        vertical-align: top;\n",
       "    }\n",
       "\n",
       "    .dataframe thead th {\n",
       "        text-align: right;\n",
       "    }\n",
       "</style>\n",
       "<table border=\"1\" class=\"dataframe\">\n",
       "  <thead>\n",
       "    <tr style=\"text-align: right;\">\n",
       "      <th></th>\n",
       "      <th>epsilon</th>\n",
       "      <th>step_size</th>\n",
       "      <th>discount</th>\n",
       "      <th>performance</th>\n",
       "    </tr>\n",
       "  </thead>\n",
       "  <tbody>\n",
       "    <tr>\n",
       "      <th>0</th>\n",
       "      <td>0.05</td>\n",
       "      <td>0.10</td>\n",
       "      <td>0.9</td>\n",
       "      <td>83.566553</td>\n",
       "    </tr>\n",
       "    <tr>\n",
       "      <th>1</th>\n",
       "      <td>0.05</td>\n",
       "      <td>0.30</td>\n",
       "      <td>0.9</td>\n",
       "      <td>78.324985</td>\n",
       "    </tr>\n",
       "    <tr>\n",
       "      <th>2</th>\n",
       "      <td>0.10</td>\n",
       "      <td>0.20</td>\n",
       "      <td>0.9</td>\n",
       "      <td>81.082196</td>\n",
       "    </tr>\n",
       "    <tr>\n",
       "      <th>3</th>\n",
       "      <td>0.05</td>\n",
       "      <td>0.05</td>\n",
       "      <td>0.9</td>\n",
       "      <td>95.836431</td>\n",
       "    </tr>\n",
       "    <tr>\n",
       "      <th>4</th>\n",
       "      <td>0.05</td>\n",
       "      <td>0.40</td>\n",
       "      <td>0.9</td>\n",
       "      <td>88.445665</td>\n",
       "    </tr>\n",
       "  </tbody>\n",
       "</table>\n",
       "</div>"
      ],
      "text/plain": [
       "   epsilon  step_size  discount  performance\n",
       "0     0.05       0.10       0.9    83.566553\n",
       "1     0.05       0.30       0.9    78.324985\n",
       "2     0.10       0.20       0.9    81.082196\n",
       "3     0.05       0.05       0.9    95.836431\n",
       "4     0.05       0.40       0.9    88.445665"
      ]
     },
     "execution_count": 1158,
     "metadata": {},
     "output_type": "execute_result"
    }
   ],
   "source": [
    "df_stepsize_all"
   ]
  },
  {
   "cell_type": "markdown",
   "metadata": {},
   "source": [
    "Summary:  step_size matter not really when it is small, so just take 0.2\n",
    "          epsilon: increasing epsilon \n",
    "          disount: higher seems to be better, but the task require it to be 0.9\n"
   ]
  },
  {
   "cell_type": "code",
   "execution_count": 237,
   "metadata": {},
   "outputs": [],
   "source": [
    "#df_discount = df_parper\n",
    "#df_discount_all = df_discount"
   ]
  },
  {
   "cell_type": "code",
   "execution_count": null,
   "metadata": {
    "scrolled": true
   },
   "outputs": [],
   "source": [
    "df_discount_all = df_discount_all.append(df_discount,ignore_index=True)\n",
    "df_discount_all"
   ]
  },
  {
   "cell_type": "code",
   "execution_count": null,
   "metadata": {},
   "outputs": [],
   "source": []
  },
  {
   "cell_type": "markdown",
   "metadata": {},
   "source": [
    "\n",
    "---\n",
    "\n",
    "**Plot one simulation of best performance**\n",
    "\n",
    "\n",
    "---"
   ]
  },
  {
   "cell_type": "code",
   "execution_count": 1094,
   "metadata": {
    "id": "mWfLrcP5FOCg",
    "scrolled": true
   },
   "outputs": [],
   "source": [
    "# Perform path simulation of episode:  n_episode+1\n",
    "state, maint = env.reset()\n",
    "action = agent.start(state, maint)\n",
    "\n",
    "\n",
    "for t in range(timesteps):\n",
    "    state, maint, fail, reward = env.step(action)\n",
    "    action = agent.step(reward, state, maint)\n",
    " "
   ]
  },
  {
   "cell_type": "code",
   "execution_count": 866,
   "metadata": {
    "scrolled": false
   },
   "outputs": [],
   "source": [
    "# performance = env.sumprofit(state_path, maint_path, action_path, fail_path, timesteps)\n",
    "# print('Performance of the simulation is: ' + str(performance))"
   ]
  },
  {
   "cell_type": "code",
   "execution_count": 1095,
   "metadata": {
    "id": "2k6Oy7jLpfiR",
    "scrolled": true
   },
   "outputs": [],
   "source": [
    "# extract the value function from action value function\n",
    "V = defaultdict(float)\n",
    "policy = defaultdict(int)\n",
    "for state_maint, values in sorted(agent.q.items()):\n",
    "    value = np.max(values)\n",
    "    V[state_maint] = value\n",
    "    action = np.argmax(values)\n",
    "    policy[state_maint] = action\n"
   ]
  },
  {
   "cell_type": "code",
   "execution_count": 1096,
   "metadata": {
    "scrolled": true
   },
   "outputs": [
    {
     "data": {
      "text/plain": [
       "123.63251324076172"
      ]
     },
     "execution_count": 1096,
     "metadata": {},
     "output_type": "execute_result"
    }
   ],
   "source": [
    "#convert dictionary to array so that we can compare the norm of different value function\n",
    "V_sar = np.zeros((env.n_states, env.n_maint))\n",
    "for k, v in V.items():\n",
    "    V_sar[k[0],k[1]] = v\n",
    "norm = np.linalg.norm(V_sar-V_DP)\n",
    "norm"
   ]
  },
  {
   "cell_type": "code",
   "execution_count": 623,
   "metadata": {
    "scrolled": true
   },
   "outputs": [
    {
     "data": {
      "image/png": "[encoded data removed]",
      "text/plain": [
       "<Figure size 1152x288 with 1 Axes>"
      ]
     },
     "metadata": {
      "needs_background": "light"
     },
     "output_type": "display_data"
    }
   ],
   "source": [
    "fig = plt.figure(figsize=(16, 4))\n",
    "plt.plot(state_path, label='Age of machine')\n",
    "plt.plot(action_path, 'o', label='Decision')\n",
    "plt.plot(maint_path, '^', label='Number of maintenance')\n",
    "plt.plot(fail_path, 'x', label='Machine fail')\n",
    "plt.title('State and action path')\n",
    "plt.xlabel('Time step')\n",
    "plt.legend()\n",
    "plt.savefig('SARSA_Path' + '-'+ str(n_episodes)+'-' + str(discount)+'-'+ str(step_size)+'-'+ str(epsilon) +'.pdf')\n",
    "plt.show()"
   ]
  },
  {
   "cell_type": "code",
   "execution_count": 628,
   "metadata": {
    "scrolled": true
   },
   "outputs": [
    {
     "data": {
      "image/png": "[encoded data removed]",
      "text/plain": [
       "<Figure size 576x576 with 2 Axes>"
      ]
     },
     "metadata": {
      "needs_background": "light"
     },
     "output_type": "display_data"
    }
   ],
   "source": [
    "plt.figure(figsize=(8,8))\n",
    "ser = pd.Series(list(V.values()),\n",
    "                  index= pd.MultiIndex.from_tuples( V.keys(), names=[\"Age of machine\", \"Number of matainenace\"]))\n",
    "df = ser.unstack().fillna(0)\n",
    "#df.shape\n",
    "sns.heatmap(df, annot=True, fmt = 'g')\n",
    "plt.title('Value function')\n",
    "plt.savefig('SARSA_Q' + '-'+ str(n_episodes)+'-' + str(discount)+'-'+ str(step_size)+'-'+ str(epsilon) +'.pdf')\n",
    "plt.show()"
   ]
  },
  {
   "cell_type": "code",
   "execution_count": 537,
   "metadata": {
    "scrolled": true
   },
   "outputs": [
    {
     "data": {
      "image/png": "[encoded data removed]",
      "text/plain": [
       "<Figure size 576x576 with 2 Axes>"
      ]
     },
     "metadata": {
      "needs_background": "light"
     },
     "output_type": "display_data"
    }
   ],
   "source": [
    "plt.figure(figsize=(8,8))\n",
    "ser = pd.Series(list(policy.values()),\n",
    "                  index= pd.MultiIndex.from_tuples( policy.keys(), names=[\"Age of machine\", \"Number of maintenance\"]))\n",
    "df = ser.unstack().fillna(-1)\n",
    "#df.shape\n",
    "sns.heatmap(df, annot=True, fmt = 'g')\n",
    "plt.title('Policy')\n",
    "plt.savefig('SARSA_Policy' +'-' +str(n_episodes)+'-' + str(discount)+'-'+ str(step_size)+'-'+ str(epsilon) +'.pdf')\n",
    "plt.show()"
   ]
  },
  {
   "cell_type": "code",
   "execution_count": null,
   "metadata": {},
   "outputs": [],
   "source": []
  },
  {
   "cell_type": "code",
   "execution_count": null,
   "metadata": {},
   "outputs": [],
   "source": []
  },
  {
   "cell_type": "markdown",
   "metadata": {
    "id": "L_0Qq9vBFXZu"
   },
   "source": [
    "# **Q-Learning Agent**"
   ]
  },
  {
   "cell_type": "code",
   "execution_count": 773,
   "metadata": {
    "id": "-Fpwfg7SFTgy"
   },
   "outputs": [],
   "source": [
    "class QLearningAgent():\n",
    "    def __init__(self, agent_info):\n",
    "        \"\"\"Initialize Agent\n",
    "\n",
    "        Args: \n",
    "            agent_info (dict): Parameters used to initialize agent.\n",
    "            {\n",
    "                n_actions (int): Number of actions.\n",
    "                epsilon (float): Exploration parameter.\n",
    "                step_size (float): Learning rate alpha.\n",
    "                discount (float): Discount factor gamma.\n",
    "            }\n",
    "        \"\"\"\n",
    "        self.n_actions = agent_info[\"n_actions\"]\n",
    "        self.epsilon = agent_info[\"epsilon\"]\n",
    "        self.step_size = agent_info[\"step_size\"]\n",
    "        self.discount = agent_info[\"discount\"]\n",
    "\n",
    "        self.rng = default_rng()\n",
    "\n",
    "        # Create an array for action-value estimates and initialize it to zero.\n",
    "        self.q = defaultdict(lambda: np.zeros(self.n_actions))      \n",
    "\n",
    "\n",
    "    def step(self, reward, state, maint):\n",
    "        \"\"\"A step taken by the agent\n",
    "\n",
    "        Args:\n",
    "            next_state (int):  next state from the environment\n",
    "            next_maint (int):  next state of maintenance failure from environment \n",
    "        Returns:\n",
    "            next_action (int): action the agent takes in next_state\n",
    "        \"\"\"\n",
    "\n",
    "        # choose action using epsilon greedy policy\n",
    "        action = self.select_action(state, maint)\n",
    "\n",
    "  \n",
    "        # perform update\n",
    "        target = reward + self.discount* np.max(self.q[state, maint])\n",
    "        td_error = target- self.q[self.previous_state, self.previous_maint][self.previous_action]\n",
    "        self.q[self.previous_state, self.previous_maint][self.previous_action] += self.step_size * td_error\n",
    "     \n",
    "\n",
    "        # save current state and action\n",
    "        self.previous_state = state\n",
    "        self.previous_maint = maint\n",
    "        self.previous_action = action\n",
    "\n",
    "        return action\n",
    "\n",
    "        \n",
    "    def select_action(self, state, maint):\n",
    "        \"\"\"Select action using epsilon greedy policy\n",
    "\n",
    "        Args:\n",
    "            state (int): current state\n",
    "            maint (int): current times of maitenance failure\n",
    "        Returns:\n",
    "            action (int): action the agent takes\n",
    "        \"\"\"\n",
    "        \n",
    "        # performe epsilon greedy policy improvement\n",
    "        # remember to replace asset if age is 5\n",
    "        if state== 5:\n",
    "            return 2\n",
    "        \n",
    "        if  self.rng.random() < self.epsilon:\n",
    "            action = self.rng.choice(n_actions)\n",
    "        else:\n",
    "            action = self.argmax(self.q[state, maint])\n",
    "        return action\n",
    "\n",
    "\n",
    "    def argmax(self, q_values):\n",
    "        \"\"\"Return the index of maximum value with ties broken randomly.\n",
    "\n",
    "        Args:\n",
    "            q_values (numpy.ndarray): A shape-(n_actions,) array of estimated\n",
    "                action_values.\n",
    "\n",
    "        Returns:\n",
    "            index (int): Index of the maximal value.\n",
    "        \"\"\"\n",
    "\n",
    "        ties = np.flatnonzero(np.isclose(q_values, max(q_values)))\n",
    "        index = self.rng.choice(ties)\n",
    "\n",
    "        return index\n",
    "\n",
    "\n",
    "    def start(self, state, maint):\n",
    "        \"\"\"Selects action in inital state\n",
    "\n",
    "        Args:\n",
    "            state (int): initial state\n",
    "            maint (int): initial maint\n",
    "        Returns:\n",
    "            action (int): initial action\n",
    "        \"\"\"\n",
    "\n",
    "        action = self.select_action(state, maint)\n",
    "\n",
    "        self.previous_maint= maint\n",
    "        self.previous_state = state\n",
    "        self.previous_action = action\n",
    "\n",
    "        return action\n"
   ]
  },
  {
   "cell_type": "code",
   "execution_count": 869,
   "metadata": {
    "scrolled": false
   },
   "outputs": [],
   "source": [
    "env = AssetReplacementEnv()\n",
    "\n",
    "epsilon = 0.05\n",
    "step_size = 0.2\n",
    "discount = 0.9\n",
    "\n",
    "\n",
    "agent_info = {\"n_actions\": env.n_actions,\n",
    "              \"epsilon\": epsilon,\n",
    "              \"step_size\": step_size,\n",
    "              \"discount\": discount}\n",
    "\n",
    "\n",
    "agent = QLearningAgent(agent_info)\n",
    "\n",
    "n_episodes = 1000\n",
    "timesteps = 20\n",
    "\n",
    "for i in range(n_episodes):\n",
    "    state, maint = env.reset()\n",
    "    action = agent.start(state, maint)\n",
    "  \n",
    "    for t in range(timesteps):\n",
    "        state, maint,fail, reward, = env.step(action)\n",
    "        action = agent.step(reward, state, maint)\n"
   ]
  },
  {
   "cell_type": "markdown",
   "metadata": {},
   "source": [
    "\n",
    "---\n",
    "\n",
    "**Evaluation**\n",
    "\n",
    "\n",
    "---\n"
   ]
  },
  {
   "cell_type": "code",
   "execution_count": 551,
   "metadata": {},
   "outputs": [
    {
     "name": "stdout",
     "output_type": "stream",
     "text": [
      "Sum of 20 years profit averaged by another 1000 simulation:210.68\n"
     ]
    }
   ],
   "source": [
    "# # the averaged 20 years profit vary within 20 and increase the size of simulation wont decrease the variation,\n",
    "# # so it is quite convincing for the evaluation of the agent\n",
    "# n_avg = 1000\n",
    "# sum_prof = 0\n",
    "# for i in range(n_avg):\n",
    "#     sum_period = 0\n",
    "#     state, maint = env.reset()\n",
    "#     action = agent.start(state, maint)\n",
    "\n",
    "#     for t in range(timesteps):\n",
    "#         state, maint, reward,  _, _ = env.step(action)\n",
    "#         action = agent.step(reward, state, maint)\n",
    "#         state_path.append(state)\n",
    "#         maint_path.append(maint)\n",
    "#         action_path.append(action)\n",
    "    \n",
    "#     sum_period = env.sumprofit(state_path, maint_path, action_path, timesteps)\n",
    "#     #print('20 year sum: '+ str(sum_period))\n",
    "#     sum_prof += sum_period\n",
    "\n",
    "# avg_prof = sum_prof/n_avg\n",
    "# avg_prof\n",
    "# print('Sum of 20 years profit averaged by another '+ str(n_avg)+' simulation:' + str(avg_prof))"
   ]
  },
  {
   "cell_type": "code",
   "execution_count": 424,
   "metadata": {
    "scrolled": true
   },
   "outputs": [
    {
     "data": {
      "text/html": [
       "<div>\n",
       "<style scoped>\n",
       "    .dataframe tbody tr th:only-of-type {\n",
       "        vertical-align: middle;\n",
       "    }\n",
       "\n",
       "    .dataframe tbody tr th {\n",
       "        vertical-align: top;\n",
       "    }\n",
       "\n",
       "    .dataframe thead th {\n",
       "        text-align: right;\n",
       "    }\n",
       "</style>\n",
       "<table border=\"1\" class=\"dataframe\">\n",
       "  <thead>\n",
       "    <tr style=\"text-align: right;\">\n",
       "      <th></th>\n",
       "      <th>epsilon</th>\n",
       "      <th>step_size</th>\n",
       "      <th>discount</th>\n",
       "      <th>performance</th>\n",
       "    </tr>\n",
       "  </thead>\n",
       "  <tbody>\n",
       "    <tr>\n",
       "      <th>0</th>\n",
       "      <td>0.5</td>\n",
       "      <td>0.4</td>\n",
       "      <td>0.9</td>\n",
       "      <td>187.21</td>\n",
       "    </tr>\n",
       "  </tbody>\n",
       "</table>\n",
       "</div>"
      ],
      "text/plain": [
       "   epsilon  step_size  discount  performance\n",
       "0      0.5        0.4       0.9       187.21"
      ]
     },
     "execution_count": 424,
     "metadata": {},
     "output_type": "execute_result"
    }
   ],
   "source": [
    "import pandas as pd\n",
    "param_perform = {'epsilon': [epsilon],\n",
    "                'step_size': [step_size],\n",
    "                'discount': [discount],\n",
    "                'performance': [avg_prof]}\n",
    "df_parper = pd.DataFrame (param_perform, columns = ['epsilon','step_size','discount','performance'])\n",
    "df_parper"
   ]
  },
  {
   "cell_type": "code",
   "execution_count": 382,
   "metadata": {},
   "outputs": [],
   "source": [
    "df_epsilon = df_parper"
   ]
  },
  {
   "cell_type": "code",
   "execution_count": 307,
   "metadata": {},
   "outputs": [],
   "source": [
    "#df_epsilon_all = df_epsilon"
   ]
  },
  {
   "cell_type": "code",
   "execution_count": null,
   "metadata": {
    "scrolled": true
   },
   "outputs": [],
   "source": [
    "df_epsilon_all = df_epsilon_all.append(df_epsilon, ignore_index = True)\n",
    "df_epsilon_all"
   ]
  },
  {
   "cell_type": "code",
   "execution_count": null,
   "metadata": {
    "scrolled": false
   },
   "outputs": [],
   "source": [
    "df_epsilon_all"
   ]
  },
  {
   "cell_type": "code",
   "execution_count": 425,
   "metadata": {},
   "outputs": [],
   "source": [
    "df_stepsize = df_parper\n"
   ]
  },
  {
   "cell_type": "code",
   "execution_count": 396,
   "metadata": {},
   "outputs": [],
   "source": [
    "#df_stepsize_all = df_stepsize"
   ]
  },
  {
   "cell_type": "code",
   "execution_count": null,
   "metadata": {
    "scrolled": true
   },
   "outputs": [],
   "source": [
    "df_stepsize_all =  df_stepsize_all.append(df_stepsize,ignore_index=True)\n",
    "df_stepsize_all"
   ]
  },
  {
   "cell_type": "markdown",
   "metadata": {},
   "source": [
    "Summary:  step_size matter not really when it is small, so just take 0.2\n",
    "          epsilon: around 0.2 the best\n",
    "          disount: higher seems to be better, but the task require it to be 0.9\n"
   ]
  },
  {
   "cell_type": "markdown",
   "metadata": {},
   "source": [
    "\n",
    "---\n",
    "\n",
    "**Plot one simulation of best performance**\n",
    "\n",
    "\n",
    "---\n"
   ]
  },
  {
   "cell_type": "code",
   "execution_count": 872,
   "metadata": {
    "id": "d2hfup9vJ9Nh"
   },
   "outputs": [],
   "source": [
    "# Perform path simulation\n",
    "state, maint = env.reset()\n",
    "\n",
    "#agent.epsilon = 0\n",
    "action = agent.start(state, maint)\n",
    "reward = 0\n",
    "\n",
    "state_path = [state]\n",
    "maint_path = [maint]\n",
    "action_path = [action]\n",
    "reward_path = [reward]\n",
    "\n",
    "timesteps = 20\n",
    "\n",
    "for t in range(timesteps):\n",
    "    state, maint, fail, reward= env.step(action)\n",
    "    action = agent.step(reward, state, maint)\n",
    "    state_path.append(state)\n",
    "    maint_path.append(maint)\n",
    "    action_path.append(action)\n",
    "    reward_path.append(reward)"
   ]
  },
  {
   "cell_type": "code",
   "execution_count": 779,
   "metadata": {
    "scrolled": true
   },
   "outputs": [],
   "source": [
    "# performance = env.sumprofit(state_path, maint_path, action_path, fail_path, timesteps)\n",
    "# print('Performance of the simulation is: ' + str(performance))"
   ]
  },
  {
   "cell_type": "code",
   "execution_count": 873,
   "metadata": {
    "id": "xFYsQEXdwzYz"
   },
   "outputs": [],
   "source": [
    "# extract the value and policy function from action value function\n",
    "V = defaultdict(float)\n",
    "policy = defaultdict(int)\n",
    "for state_maint, values in sorted(agent.q.items()):\n",
    "    value = np.max(values)\n",
    "    action = np.argmax(values)\n",
    "    policy[state_maint] = action\n",
    "    V[state_maint] = value\n"
   ]
  },
  {
   "cell_type": "code",
   "execution_count": 874,
   "metadata": {},
   "outputs": [
    {
     "data": {
      "text/plain": [
       "257.79400657642003"
      ]
     },
     "execution_count": 874,
     "metadata": {},
     "output_type": "execute_result"
    }
   ],
   "source": [
    "V_QL = np.zeros((env.n_states, env.n_maint))\n",
    "for k, v in V.items():\n",
    "    V_QL[k[0],k[1]] = v\n",
    "np.linalg.norm(V_QL-V_DP)"
   ]
  },
  {
   "cell_type": "code",
   "execution_count": 452,
   "metadata": {
    "colab": {
     "base_uri": "https://localhost:8080/",
     "height": 299
    },
    "executionInfo": {
     "elapsed": 1859,
     "status": "ok",
     "timestamp": 1606150702066,
     "user": {
      "displayName": "Thomas Gehrmann",
      "photoUrl": "",
      "userId": "03269050171692580693"
     },
     "user_tz": -60
    },
    "id": "2Eev3SGGF6wa",
    "outputId": "20d29d80-44fd-4f34-aa4c-b9dd08913b23",
    "scrolled": false
   },
   "outputs": [
    {
     "data": {
      "image/png": "[encoded data removed]",
      "text/plain": [
       "<Figure size 1152x288 with 1 Axes>"
      ]
     },
     "metadata": {
      "needs_background": "light"
     },
     "output_type": "display_data"
    }
   ],
   "source": [
    "fig = plt.figure(figsize=(16, 4))\n",
    "plt.plot(state_path, label='Age of machine')\n",
    "plt.plot(action_path, 'o', label='Decision')\n",
    "plt.plot(maint_path, 'x', label='Maintenance failure')\n",
    "plt.title('State and action path')\n",
    "plt.xlabel('Time step')\n",
    "plt.legend()\n",
    "#plt.savefig('QLearning_Path' + '-'+ str(n_episodes)+'-' + str(discount)+'-'+ str(step_size)+'-'+ str(epsilon) +'.pdf')\n",
    "plt.show()\n"
   ]
  },
  {
   "cell_type": "code",
   "execution_count": 453,
   "metadata": {
    "scrolled": true
   },
   "outputs": [
    {
     "data": {
      "image/png": "[encoded data removed]",
      "text/plain": [
       "<Figure size 576x576 with 2 Axes>"
      ]
     },
     "metadata": {
      "needs_background": "light"
     },
     "output_type": "display_data"
    }
   ],
   "source": [
    "plt.figure(figsize=(8,8))\n",
    "ser = pd.Series(list(V.values()),\n",
    "                  index= pd.MultiIndex.from_tuples( V.keys(), names=[\"Age of machine\", \"Times of matainenace failure\"]))\n",
    "df = ser.unstack().fillna(-1)\n",
    "#df.shape\n",
    "sns.heatmap(df, annot=True, fmt = 'g')\n",
    "plt.title('Value function')\n",
    "#plt.savefig('Qlearning_Q' + '-'+ str(n_episodes)+'-' + str(discount)+'-'+ str(step_size)+'-'+ str(epsilon) +'.pdf')\n",
    "plt.show()"
   ]
  },
  {
   "cell_type": "code",
   "execution_count": 454,
   "metadata": {
    "scrolled": true
   },
   "outputs": [
    {
     "data": {
      "image/png": "[encoded data removed]",
      "text/plain": [
       "<Figure size 576x576 with 2 Axes>"
      ]
     },
     "metadata": {
      "needs_background": "light"
     },
     "output_type": "display_data"
    }
   ],
   "source": [
    "plt.figure(figsize=(8,8))\n",
    "ser = pd.Series(list(policy.values()),\n",
    "                  index= pd.MultiIndex.from_tuples( policy.keys(), names=[\"Age of machine\", \"Times of matainenace failure\"]))\n",
    "df = ser.unstack().fillna(-1)\n",
    "#df.shape\n",
    "sns.heatmap(df, annot=True, fmt = 'g')\n",
    "plt.title('Policy')\n",
    "#plt.savefig('Qlearning_Policy' +'-' +str(n_episodes)+'-' + str(discount)+'-'+ str(step_size)+'-'+ str(epsilon) +'.pdf')\n",
    "plt.show()"
   ]
  },
  {
   "cell_type": "markdown",
   "metadata": {
    "id": "KZy9g1moMP2Z"
   },
   "source": [
    "# **Expected Sarsa**"
   ]
  },
  {
   "cell_type": "code",
   "execution_count": 879,
   "metadata": {
    "id": "__3k0fSLMSm0"
   },
   "outputs": [],
   "source": [
    "class ExpectedSarsaAgent():\n",
    "    def __init__(self, agent_info):\n",
    "        \"\"\"Initialize Agent.\n",
    "\n",
    "        Args: \n",
    "            agent_info (dict): Parameters used to initialize agent.\n",
    "            {\n",
    "                n_actions (int): Number of actions.\n",
    "                epsilon (float): Exploration parameter.\n",
    "                step_size (float): Learning rate alpha.\n",
    "                discount (float): Discount factor gamma.\n",
    "            }\n",
    "        \"\"\"\n",
    "\n",
    "        self.n_actions = agent_info[\"n_actions\"]\n",
    "        self.epsilon = agent_info[\"epsilon\"]\n",
    "        self.step_size = agent_info[\"step_size\"]\n",
    "        self.discount = agent_info[\"discount\"]\n",
    "\n",
    "        self.rng = default_rng()\n",
    "\n",
    "        # Create an array for action-value estimates and initialize it to zero.\n",
    "        self.q = defaultdict(lambda: np.zeros(self.n_actions))        \n",
    "\n",
    "\n",
    "    def step(self, reward, state, maint):\n",
    "        \"\"\"A step taken by the agent\n",
    "\n",
    "        Args:\n",
    "            next_state (int):  next state from the environment\n",
    "            next_maint (int):  next state of maintenance failure from environment \n",
    "        Returns:\n",
    "            next_action (int): action the agent takes in next_state\n",
    "        \"\"\"\n",
    "\n",
    "         # choose action using epsilon greedy policy\n",
    "        action = self.select_action(state, maint)  \n",
    "\n",
    "        # perform update\n",
    "        policy = np.ones(self.n_actions)*self.epsilon/self.n_actions\n",
    "        policy[np.argmax(self.q[state, maint])] += 1 - self.epsilon\n",
    "\n",
    "       # matrix-vector multiplication\n",
    "        expectation = self.q[state, maint] @ policy\n",
    "\n",
    "\n",
    "        target = reward + self.discount * expectation\n",
    "        td_error = target - self.q[self.previous_state, self.previous_maint][self.previous_action]\n",
    "        self.q[self.previous_state, self.previous_maint][self.previous_action] += self.step_size * td_error\n",
    "\n",
    "\n",
    "\n",
    "        # save current state and action\n",
    "        self.previous_state = state\n",
    "        self.previous_maint = maint\n",
    "        self.previous_action = action\n",
    "\n",
    "        return action\n",
    "\n",
    "        \n",
    "    def select_action(self, state, maint):\n",
    "        \"\"\"Select action using epsilon greedy policy\n",
    "\n",
    "        Args:\n",
    "            state (int): current state\n",
    "            maint (int): current times of maitenance failure\n",
    "        Returns:\n",
    "            action (int): action the agent takes\n",
    "        \"\"\"\n",
    "        if state == 5 or maint == 4:\n",
    "            return 2\n",
    "\n",
    "        current_q  = self.q[state, maint]\n",
    "      \n",
    "        if self.rng.random() < self.epsilon:\n",
    "            action = self.rng.choice(self.n_actions)\n",
    "        else:\n",
    "            action = self.argmax(current_q)\n",
    "\n",
    "        return action\n",
    "        \n",
    "\n",
    "    def argmax(self, q_values):\n",
    "        \"\"\"Return the index of maximum value with ties broken randomly.\n",
    "\n",
    "        Args:\n",
    "            q_values (numpy.ndarray): A shape-(n_actions,) array of estimated\n",
    "                action_values.\n",
    "\n",
    "        Returns:\n",
    "            index (int): Index of the maximal value.\n",
    "        \"\"\"\n",
    "\n",
    "        ties = np.flatnonzero(np.isclose(q_values, max(q_values)))\n",
    "        index = self.rng.choice(ties)\n",
    "\n",
    "        return index\n",
    "\n",
    "\n",
    "    def start(self, state, maint):\n",
    "        \"\"\"Selects action in inital state\n",
    "\n",
    "        Args:\n",
    "            state (int): initial state\n",
    "            maint (int): initial maint\n",
    "        Returns:\n",
    "            action (int): initial action\n",
    "        \"\"\"\n",
    "\n",
    "        action = self.select_action(state, maint)\n",
    "\n",
    "        self.previous_state = state\n",
    "        self.previous_maint = maint\n",
    "        self.previous_action = action\n",
    "\n",
    "        return action"
   ]
  },
  {
   "cell_type": "code",
   "execution_count": 883,
   "metadata": {
    "id": "a5m9KBzwTShr"
   },
   "outputs": [],
   "source": [
    "env = AssetReplacementEnv()\n",
    "\n",
    "num_actions = env.action_space.n\n",
    "epsilon = 0.05\n",
    "step_size = 0.2\n",
    "discount = 0.9\n",
    "\n",
    "\n",
    "agent_info = {\"n_actions\": n_actions,\n",
    "              \"epsilon\": epsilon,\n",
    "              \"step_size\": step_size,\n",
    "              \"discount\": discount}\n",
    "\n",
    "\n",
    "agent = ExpectedSarsaAgent(agent_info)\n",
    "\n",
    "\n",
    "n_episodes = 1000\n",
    "timesteps = 20\n",
    "\n",
    "for _ in range(n_episodes):\n",
    "    state, maint = env.reset()\n",
    "    action = agent.start(state, maint)\n",
    "\n",
    "    for t in range(timesteps):\n",
    "        state, maint, fail, reward= env.step(action)\n",
    "        action = agent.step(reward, state, maint)\n"
   ]
  },
  {
   "cell_type": "markdown",
   "metadata": {},
   "source": [
    "\n",
    "---\n",
    "\n",
    "**Evaluation**\n",
    "\n",
    "\n",
    "---"
   ]
  },
  {
   "cell_type": "code",
   "execution_count": 801,
   "metadata": {},
   "outputs": [
    {
     "name": "stdout",
     "output_type": "stream",
     "text": [
      "Sum of 20 years profit averaged by another 1000 simulation:158.41\n"
     ]
    }
   ],
   "source": [
    "# the averaged 20 years profit vary within 20 and increase the size of simulation wont decrease the variation,\n",
    "# so it is quite convincing for the evaluation of the agent\n",
    "n_avg = 1000\n",
    "sum_prof = 0\n",
    "for i in range(n_avg):\n",
    "    sum_period = 0\n",
    "    state, maint = env.reset()\n",
    "    action = agent.start(state, maint)\n",
    "\n",
    "    for t in range(timesteps):\n",
    "        state, maint, reward,  _, _ = env.step(action)\n",
    "        action = agent.step(reward, state, maint)\n",
    "        state_path.append(state)\n",
    "        maint_path.append(maint)\n",
    "        action_path.append(action)\n",
    "    \n",
    "    sum_period = env.sumprofit(state_path, maint_path, action_path, timesteps)\n",
    "    #print('20 year sum: '+ str(sum_period))\n",
    "    sum_prof += sum_period\n",
    "\n",
    "avg_prof = sum_prof/n_avg\n",
    "avg_prof\n",
    "print('Sum of 20 years profit averaged by another '+ str(n_avg)+' simulation:' + str(avg_prof))"
   ]
  },
  {
   "cell_type": "code",
   "execution_count": null,
   "metadata": {
    "scrolled": true
   },
   "outputs": [],
   "source": [
    "import pandas as pd\n",
    "param_perform = {'epsilon': [epsilon],\n",
    "                'step_size': [step_size],\n",
    "                'discount': [discount],\n",
    "                'performance': [avg_prof]}\n",
    "df_parper = pd.DataFrame (param_perform, columns = ['epsilon','step_size','discount','performance'])\n",
    "df_parper"
   ]
  },
  {
   "cell_type": "code",
   "execution_count": 797,
   "metadata": {},
   "outputs": [],
   "source": [
    "df_epsilon = df_parper"
   ]
  },
  {
   "cell_type": "code",
   "execution_count": 731,
   "metadata": {},
   "outputs": [],
   "source": [
    "#df_epsilon_all = df_epsilon"
   ]
  },
  {
   "cell_type": "code",
   "execution_count": null,
   "metadata": {
    "scrolled": false
   },
   "outputs": [],
   "source": [
    "df_epsilon_all = df_epsilon_all.append(df_epsilon, ignore_index = True)\n",
    "df_epsilon_all"
   ]
  },
  {
   "cell_type": "markdown",
   "metadata": {},
   "source": [
    "\n",
    "---\n",
    "\n",
    "**Plot one simulation of best performance**\n",
    "\n",
    "\n",
    "---\n"
   ]
  },
  {
   "cell_type": "code",
   "execution_count": 887,
   "metadata": {
    "id": "OBSq1sUzNIgQ"
   },
   "outputs": [],
   "source": [
    "# Perform path simulation\n",
    "state, maint = env.reset()\n",
    "action = agent.start(state, maint)\n",
    "\n",
    "state_path = [state]\n",
    "maint_path = [maint]\n",
    "action_path = [action]\n",
    "\n",
    "for t in range(timesteps):\n",
    "    state, maint, fail,reward = env.step(action)\n",
    "    action = agent.step(reward, state, maint)\n",
    "\n",
    "    state_path.append(state)\n",
    "    maint_path.append(maint)\n",
    "    action_path.append(action)"
   ]
  },
  {
   "cell_type": "code",
   "execution_count": null,
   "metadata": {
    "scrolled": true
   },
   "outputs": [],
   "source": [
    "# performance = env.sumprofit(state_path, maint_path, action_path, timesteps)\n",
    "# print('Performance of the simulation is: ' + str(performance))"
   ]
  },
  {
   "cell_type": "code",
   "execution_count": 888,
   "metadata": {
    "id": "YcOYKVtD_zcH"
   },
   "outputs": [],
   "source": [
    "# extract the value and policy function from action value function\n",
    "V = defaultdict(float)\n",
    "policy = defaultdict(int)\n",
    "for state_maint, values in sorted(agent.q.items()):\n",
    "    value = np.max(values)\n",
    "    V[state_maint] = value\n",
    "    action = np.argmax(values)\n",
    "    policy[state_maint] = action\n",
    "    "
   ]
  },
  {
   "cell_type": "code",
   "execution_count": 889,
   "metadata": {},
   "outputs": [
    {
     "data": {
      "text/plain": [
       "277.5724027877359"
      ]
     },
     "execution_count": 889,
     "metadata": {},
     "output_type": "execute_result"
    }
   ],
   "source": [
    "V_ExSa = np.zeros((env.n_states, env.n_maint))\n",
    "for k, v in V.items():\n",
    "    V_ExSa[k[0],k[1]] = v\n",
    "np.linalg.norm(V_ExSa-V_DP)"
   ]
  },
  {
   "cell_type": "code",
   "execution_count": 835,
   "metadata": {
    "colab": {
     "base_uri": "https://localhost:8080/",
     "height": 299
    },
    "executionInfo": {
     "elapsed": 1859,
     "status": "ok",
     "timestamp": 1606150702066,
     "user": {
      "displayName": "Thomas Gehrmann",
      "photoUrl": "",
      "userId": "03269050171692580693"
     },
     "user_tz": -60
    },
    "id": "2Eev3SGGF6wa",
    "outputId": "20d29d80-44fd-4f34-aa4c-b9dd08913b23",
    "scrolled": true
   },
   "outputs": [
    {
     "data": {
      "image/png": "[encoded data removed]",
      "text/plain": [
       "<Figure size 1152x288 with 1 Axes>"
      ]
     },
     "metadata": {},
     "output_type": "display_data"
    }
   ],
   "source": [
    "fig = plt.figure(figsize=(16, 4))\n",
    "plt.plot(state_path, label='Age of machine')\n",
    "plt.plot(action_path, 'o', label='Decision')\n",
    "plt.plot(maint_path, 'x', label='Maintenance failure')\n",
    "plt.title('State and action path')\n",
    "plt.xlabel('Time step')\n",
    "plt.legend()\n",
    "plt.savefig('ExSarsa_Path' + '-'+ str(n_episodes)+'-' + str(discount)+'-'+ str(step_size)+'-'+ str(epsilon) +'.pdf')\n",
    "plt.show()\n"
   ]
  },
  {
   "cell_type": "code",
   "execution_count": 34,
   "metadata": {},
   "outputs": [
    {
     "data": {
      "text/plain": [
       "defaultdict(float,\n",
       "            {(0, 0): 84.1222002808312,\n",
       "             (1, 0): 47.140063537104865,\n",
       "             (2, 0): 16.050853970239025,\n",
       "             (2, 1): 39.58283698273672,\n",
       "             (3, 0): 23.162983296941466,\n",
       "             (3, 1): 23.766612519509792,\n",
       "             (3, 2): 16.647856193434432,\n",
       "             (4, 0): 25.919437153578343,\n",
       "             (4, 1): 15.263270048004747,\n",
       "             (4, 2): 20.82652075434692,\n",
       "             (4, 3): 7.713690573523174,\n",
       "             (5, 1): 7.7519884973199265,\n",
       "             (5, 2): 14.818426693101566,\n",
       "             (5, 3): 12.420384946020565})"
      ]
     },
     "execution_count": 34,
     "metadata": {},
     "output_type": "execute_result"
    }
   ],
   "source": [
    "V"
   ]
  },
  {
   "cell_type": "code",
   "execution_count": 837,
   "metadata": {
    "scrolled": true
   },
   "outputs": [
    {
     "data": {
      "image/png": "[encoded data removed]",
      "text/plain": [
       "<Figure size 576x576 with 2 Axes>"
      ]
     },
     "metadata": {},
     "output_type": "display_data"
    }
   ],
   "source": [
    "\n",
    "plt.figure(figsize=(8,8))\n",
    "ser = pd.Series(list(V.values()),\n",
    "                  index= pd.MultiIndex.from_tuples( V.keys(), names=[\"Age of machine\", \"Times of matainenace failure\"]))\n",
    "df = ser.unstack().fillna(-1)\n",
    "#df.shape\n",
    "sns.heatmap(df, annot=True, fmt = 'g')\n",
    "plt.savefig('ExSarsa_Q' + '-'+ str(n_episodes)+'-' + str(discount)+'-'+ str(step_size)+'-'+ str(epsilon) +'.pdf')\n",
    "plt.show()"
   ]
  },
  {
   "cell_type": "code",
   "execution_count": 103,
   "metadata": {
    "scrolled": false
   },
   "outputs": [
    {
     "data": {
      "image/png": "[encoded data removed]",
      "text/plain": [
       "<Figure size 576x576 with 2 Axes>"
      ]
     },
     "metadata": {},
     "output_type": "display_data"
    }
   ],
   "source": [
    "plt.figure(figsize=(8,8))\n",
    "ser = pd.Series(list(policy.values()),\n",
    "                  index= pd.MultiIndex.from_tuples( policy.keys(), names=[\"Age of machine\", \"Times of matainenace failure\"]))\n",
    "df = ser.unstack().fillna(-1)\n",
    "#df.shape\n",
    "sns.heatmap(df, annot=True, fmt = 'g')\n",
    "plt.savefig('ExSarsa_Policy' +'-' +str(n_episodes)+'-' + str(discount)+'-'+ str(step_size)+'-'+ str(epsilon) +'.pdf')\n",
    "plt.show()"
   ]
  },
  {
   "cell_type": "code",
   "execution_count": null,
   "metadata": {},
   "outputs": [],
   "source": []
  },
  {
   "cell_type": "code",
   "execution_count": null,
   "metadata": {},
   "outputs": [],
   "source": []
  },
  {
   "cell_type": "code",
   "execution_count": 34,
   "metadata": {
    "scrolled": true
   },
   "outputs": [],
   "source": [
    "X =  np.array([x[0] for x in list(V.keys())])"
   ]
  },
  {
   "cell_type": "code",
   "execution_count": 35,
   "metadata": {
    "scrolled": false
   },
   "outputs": [],
   "source": [
    "Y = np.array([x[1] for x in list(V.keys())])"
   ]
  },
  {
   "cell_type": "code",
   "execution_count": 36,
   "metadata": {
    "scrolled": true
   },
   "outputs": [],
   "source": [
    "Z = np.array( list(V.values()))"
   ]
  },
  {
   "cell_type": "code",
   "execution_count": 38,
   "metadata": {
    "colab": {
     "base_uri": "https://localhost:8080/",
     "height": 299
    },
    "executionInfo": {
     "elapsed": 893,
     "status": "ok",
     "timestamp": 1606149675796,
     "user": {
      "displayName": "Thomas Gehrmann",
      "photoUrl": "",
      "userId": "03269050171692580693"
     },
     "user_tz": -60
    },
    "id": "79ZJL9pWitKW",
    "outputId": "81706294-fd38-4471-ca34-a3ba41bab99e",
    "scrolled": true
   },
   "outputs": [
    {
     "data": {
      "image/png": "[encoded data removed]",
      "text/plain": [
       "<Figure size 432x288 with 1 Axes>"
      ]
     },
     "metadata": {},
     "output_type": "display_data"
    }
   ],
   "source": [
    "fig = plt.figure()\n",
    "ax = fig.gca(projection='3d')\n",
    "ax.plot_trisurf(X,Y,Z)\n",
    "ax.set_title('Value function')\n",
    "ax.set_xlabel('Age of machine')\n",
    "ax.set_ylabel( 'Maintenance failure')\n",
    "plt.show()"
   ]
  }
 ],
 "metadata": {
  "colab": {
   "collapsed_sections": [],
   "name": "5a_TD_Asset_Replacement.ipynb",
   "provenance": [],
   "toc_visible": true
  },
  "kernelspec": {
   "display_name": "Python 3",
   "language": "python",
   "name": "python3"
  },
  "language_info": {
   "codemirror_mode": {
    "name": "ipython",
    "version": 3
   },
   "file_extension": ".py",
   "mimetype": "text/x-python",
   "name": "python",
   "nbconvert_exporter": "python",
   "pygments_lexer": "ipython3",
   "version": "3.7.9"
  }
 },
 "nbformat": 4,
 "nbformat_minor": 1
}
